{
 "cells": [
  {
   "cell_type": "markdown",
   "metadata": {},
   "source": [
    "<a href=\"https://colab.research.google.com/github/SantiagoJulioD/Trabajo_de_grado/blob/main/Relic_density/relic_density.ipynb\" target=\"_parent\"><img src=\"https://colab.research.google.com/assets/colab-badge.svg\" alt=\"Open In Colab\"/></a>\n",
    "## **A review of Dark Matter production mechanisms**\n",
    "\n",
    "Santiago Julio Dávila"
   ]
  },
  {
   "cell_type": "markdown",
   "metadata": {},
   "source": [
    "### **Introduction**"
   ]
  },
  {
   "cell_type": "markdown",
   "metadata": {},
   "source": [
    "\n",
    "To study the evolution of different energy components in the Universe it is necessary to consider departures from thermal equilibrium. A rough criterion to establish the moment in which a species is no longer in thermal equilibrium, or _decouples_, is given in terms of the interaction rate of the particles, $\\Gamma$ and the expansion rate of the universe, $H$:\n",
    "\n",
    "$$\\begin{align*}\n",
    "\\Gamma&\\gtrsim H \\text{ (coupled)}\\\\\n",
    "\\Gamma&\\lesssim H \\text{ (decoupled)},\n",
    "\\end{align*}$$\n",
    "\n",
    "that is, the species decouples from the thermal bath when the Hubble expansion rate is higher than the interaction rate of the particles. In order to track the evolution of the number density of the particles of interest, we need an equation describing the evolution of phase space distribution, $f(x^\\mu,p^\\mu)$, of the particle. Said equation is known as the Boltzmann equation, which, in general can be written as\n",
    "\n",
    "$$\n",
    "\\hat{\\mathcal{L}}\\{f\\}=\\mathcal{C}\\{f\\},\n",
    "$$\n",
    "\n",
    "where $\\hat{\\mathcal{L}}$ is the Liouville operator and $\\mathcal{C}\\{f\\}$ is the collision term. The Liouville operator can be defined as a total derivative with respect to a parameter of a function whose variables can depend on that parameter implicitly. In classical mechanics, the parameter is usually the time, and the Liouville operator is generally applied over a function $f(\\vec{x},\\vec{v},t)$, hence the Liouville operator takes the form\n",
    "\n",
    "$$\n",
    "\\hat{\\mathcal{L}}_{c}=\\dfrac{\\partial}{\\partial t}+\\dot{\\vec{x}}\\cdot\\nabla+\\dot{\\vec{v}}\\cdot\\nabla_{\\vec{v}}.\n",
    "$$\n",
    "\n",
    "Extending this definition to general relativity is straightforward, choosing a parameter $\\theta$ such that $\\frac{\\mathrm{d}x^\\mu}{\\mathrm{d}\\theta}\\equiv\\dot{x}^\\mu=p^\\mu$ and considering functions of the type $f(x^\\mu,p^\\mu)$ that do not depend explicitly on said parameter, the Liouville operator is given by\n",
    "\n",
    "$$\n",
    "\\hat{\\mathcal{L}}=p^\\mu\\dfrac{\\partial}{\\partial x^\\mu}-\\Gamma^\\mu_{\\alpha\\beta}p^\\alpha p^\\beta \\dfrac{\\partial}{\\partial p^\\mu}\n",
    "$$\n",
    "\n",
    "where we have used the geodesic equation $\\dot{p}^\\mu+\\Gamma^\\mu_{\\alpha\\beta}p^\\alpha p^\\beta=0$. The distribution functions of interest are homogeneous and isotropic in space, as determined by the Friedmann-Lemaître-Robertson-Walker (FLRW) metric: $f(x^\\mu,p^\\mu)=f(x^0,p^0)=f(t,E)$. With this metric, it is easy to verify that the Liouville operator is\n",
    "\n",
    "$$\n",
    "\\hat{\\mathcal{L}}\\{f\\}=E\\dfrac{\\partial f}{\\partial t}-\\dfrac{\\dot{a}}{a}p^2\\dfrac{\\partial f}{\\partial E}.\n",
    "$$\n",
    "\n",
    "The Boltzmann equation then is\n",
    "\n",
    "$$\n",
    "E\\dfrac{\\partial f}{\\partial t}-Hp^2\\dfrac{\\partial f}{\\partial E}=\\mathcal{C}\\{f\\}.\n",
    "$$\n",
    "\n",
    "Integrating this equation over $\\mathrm{d}\\tilde{p}=\\frac{g}{(2\\pi)^3}\\frac{\\mathrm{d}^3\\vec{p}}{E}$ and using the definition of number density\n",
    "\n",
    "$$\n",
    "n(t)=\\dfrac{g}{(2\\pi)^3}\\int\\mathrm{d}^3\\vec{p}f(E,t),\n",
    "$$\n",
    "\n",
    "where $E$ is subject to the constraint $E²=m²+p²$, the Boltzmann equation reads\n",
    "\n",
    "$$\n",
    "\\dfrac{\\mathrm{d}n}{\\mathrm{d}t}+3Hn=\\dfrac{g}{(2\\pi)^3}\\int\\mathrm{d}^3\\vec{p}\\dfrac{\\mathcal{C}\\{f\\}}{E}.\n",
    "$$\n",
    "\n",
    "Defining $Y=n/s$ and $x=m/T$, where \n",
    "\n",
    "$$s=\\dfrac{2\\pi²}{45}g_\\star(T)T³$$\n",
    "\n",
    "is the entropy density satisfying entropy conservation $sa³=constant$, hence, ignoring the temperature dependence of the relativistic degrees of freedom, $g_\\star$, $\\dot{s}=-3Hs$. Differentiating $Y$ with respect to time\n",
    "\n",
    "$$\n",
    "\\dot{Y}=\\dfrac{\\dot{n}}{s}-\\dfrac{n\\dot{s}}{s²}=\\dfrac{\\dot{n}+3Hn}{s}.\n",
    "$$\n",
    "\n",
    "From entropy conservation, using the functional form of $s$ and neglecting the temperature dependence of $g_\\star$, we can also deduce $aT=constant$, and so, $\\dot{T}=-HT$. Using the chain rule, one could write the time derivative in terms of the variable $x$: $\\frac{\\mathrm{d}}{\\mathrm{d}t}=\\frac{\\mathrm{d}T}{\\mathrm{d}t}\\frac{\\mathrm{d}x}{\\mathrm{d}T}\\frac{\\mathrm{d}}{\\mathrm{d}x}=Hx\\frac{\\mathrm{d}}{\\mathrm{d}x}$, so the Boltzmann equation can be written as\n",
    "\n",
    "$$\n",
    "\\dfrac{\\mathrm{d}Y}{\\mathrm{d}x}=\\dfrac{1}{Hxs}\\dfrac{g}{(2\\pi)^3}\\int\\mathrm{d}^3\\vec{p}\\dfrac{\\mathcal{C}\\{f\\}}{E}.\n",
    "$$\n",
    "\n",
    "Considering a reaction $\\underbrace{\\psi+a+b+...}_{in}\\rightleftharpoons \\underbrace{i+j+...}_{out}$, where $\\psi$ is the species of interest. The collision term for a process like this is given by\n",
    "\n",
    "$$\\begin{align*}\n",
    "\\int\\mathcal{C}\\{f\\}\\mathrm{d}\\tilde{p}_\\psi=&-\\int\\left(\\prod_{in}\\mathrm{d}\\tilde{p}_k\\right)\\left(\\prod_{out}\\mathrm{d}\\tilde{p}_k\\right)(2\\pi)^4\\delta⁴(p_{in}-p_{out})\\times\\\\\n",
    "&\\times\\left[|M|²_\\rightarrow\\left(\\prod_{in}f_k\\right)\\left(\\prod_{out}(1\\pm f_k)\\right)-|M|²_\\leftarrow\\left(\\prod_{out}f_k\\right)\\left(\\prod_{in}(1\\pm f_k)\\right)\\right],\n",
    "\\end{align*}$$\n",
    "\n",
    "which can be simplified by considering $CP$ invariance, which implies the invariant transition amplitude for the forward reaction is equal to that of the reverse reaction: $|M|²_\\rightarrow=|M|²_\\leftarrow=|M|²$, and by ignoring the blocking and stimulated emission factors $1\\pm f_k\\simeq 1$, leading to the Boltzmann equation\n",
    "\n",
    "$$\n",
    "\\dfrac{\\mathrm{d}n}{\\mathrm{d}t}+3Hn=-\\int\\left(\\prod_{in}\\mathrm{d}\\tilde{p}_k\\right)\\left(\\prod_{out}\\mathrm{d}\\tilde{p}_k\\right)(2\\pi)^4\\delta⁴(p_{in}-p_{out})|M|²\\left[\\left(\\prod_{in}f_k\\right)-\\left(\\prod_{out}f_k\\right)\\right].\n",
    "$$\n",
    "\n",
    "We shall focus our attention in some particle-like dark matter (DM) candidates, and the solutions to Boltzmann equation in said context. The first DM model to be analyzed are _Weakly Interacting Massive Particles_, or WIMPs, which decouple from the thermal bath mainly via $2\\rightarrow2$ annihilations into standard model (SM) particles, and satisfy the relic density constraint from observational data $\\Omega_0 h²\\simeq0.12$; there are other alternate mechanisms from which WIMPs freeze-out, such as semi-annihilation, which will be discussed here. Another mechanism that can produce the observed relic density is the freeze-in mechanism, in which the coupling between the dark sector and the visible sector is small enough to prevent the dark sector to be in thermal equilibrium with the dark sector, and the relic abundance freezes to a constant value after the densities of the visible particles producing the dark particles becomes Boltzmann-suppressed; dark particles produced by this mechanism are called _Frozen-In_ or _Feebly Interacting Massive Particles_, FIMPs for short. If we assume very small DM-SM interactions, self-interactions within the dark sector become significant, in particular, number-changing processes, such as $3\\to2$, which we will study here, and $4\\to2$."
   ]
  },
  {
   "cell_type": "markdown",
   "metadata": {
    "vscode": {
     "languageId": "tex"
    }
   },
   "source": [
    "Para estudiar la evolución de los diferentes componentes de energía en el Universo es necesario considerar desviaciones del equilibrio térmico. Un criterio aproximado para establecer el momento en que una especie deja de estar en equilibrio térmico, o se \"desacopla\", se da en términos de la tasa de interacción de las partículas, $\\Gamma$, y la tasa de expansión del universo, $H$:\n",
    "\n",
    "$$\\begin{align*}\n",
    "\\Gamma&\\gtrsim H \\text{ (acoplado)}\\\\\n",
    "\\Gamma&\\lesssim H \\text{ (desacoplado)},\n",
    "\\end{align*}$$\n",
    "\n",
    "es decir, la especie se desacopla del baño térmico cuando la tasa de expansión de Hubble es mayor que la tasa de interacción de las partículas. Para rastrear la evolución de la densidad numérica de las partículas de interés, necesitamos una ecuación que describa la evolución de la distribución en el espacio de fases, $f(x^\\mu,p^\\mu)$, de la partícula. Dicha ecuación es conocida como la ecuación de Boltzmann, que en general puede escribirse como\n",
    "\n",
    "$$\n",
    "\\hat{\\mathcal{L}}\\{f\\}=\\mathcal{C}\\{f\\},\n",
    "$$\n",
    "\n",
    "donde $\\hat{\\mathcal{L}}$ es el operador de Liouville y $\\mathcal{C}\\{f\\}$ es el término de colisión. El operador de Liouville puede definirse como una derivada total respecto a un parámetro de una función cuyas variables pueden depender de ese parámetro de forma implícita. En mecánica clásica, el parámetro suele ser el tiempo, y el operador de Liouville se aplica generalmente sobre una función $f(\\vec{x},\\vec{v},t)$, por lo que el operador de Liouville toma la forma\n",
    "\n",
    "$$\n",
    "\\hat{\\mathcal{L}}_{c}=\\dfrac{\\partial}{\\partial t}+\\dot{\\vec{x}}\\cdot\\nabla+\\dot{\\vec{v}}\\cdot\\nabla_{\\vec{v}}.\n",
    "$$\n",
    "\n",
    "Extender esta definición a la relatividad general es sencillo, eligiendo un parámetro $\\theta$ tal que $\\frac{\\mathrm{d}x^\\mu}{\\mathrm{d}\\theta}\\equiv\\dot{x}^\\mu=p^\\mu$ y considerando funciones del tipo $f(x^\\mu,p^\\mu)$ que no dependen explícitamente de dicho parámetro, el operador de Liouville queda\n",
    "\n",
    "$$\n",
    "\\hat{\\mathcal{L}}=p^\\mu\\dfrac{\\partial}{\\partial x^\\mu}-\\Gamma^\\mu_{\\alpha\\beta}p^\\alpha p^\\beta \\dfrac{\\partial}{\\partial p^\\mu}\n",
    "$$\n",
    "\n",
    "donde se ha usado la ecuación geodésica $\\dot{p}^\\mu+\\Gamma^\\mu_{\\alpha\\beta}p^\\alpha p^\\beta=0$. Las funciones de distribución de interés son homogéneas e isotrópicas en el espacio, como determina la métrica de Friedmann-Lemaître-Robertson-Walker (FLRW): $f(x^\\mu,p^\\mu)=f(x^0,p^0)=f(t,E)$. Con esta métrica, es fácil verificar que el operador de Liouville es\n",
    "\n",
    "$$\n",
    "\\hat{\\mathcal{L}}\\{f\\}=E\\dfrac{\\partial f}{\\partial t}-\\dfrac{\\dot{a}}{a}p^2\\dfrac{\\partial f}{\\partial E}.\n",
    "$$\n",
    "\n",
    "La ecuación de Boltzmann entonces es\n",
    "\n",
    "$$\n",
    "E\\dfrac{\\partial f}{\\partial t}-Hp^2\\dfrac{\\partial f}{\\partial E}=\\mathcal{C}\\{f\\}.\n",
    "$$\n",
    "\n",
    "Integrando esta ecuación sobre $\\mathrm{d}\\tilde{p}=\\frac{g}{(2\\pi)^3}\\frac{\\mathrm{d}^3\\vec{p}}{E}$ y usando la definición de densidad numérica\n",
    "\n",
    "$$\n",
    "n(t)=\\dfrac{g}{(2\\pi)^3}\\int\\mathrm{d}^3\\vec{p}f(E,t),\n",
    "$$\n",
    "\n",
    "donde $E$ está sujeto a la restricción $E²=m²+p²$, la ecuación de Boltzmann queda\n",
    "\n",
    "$$\n",
    "\\dfrac{\\mathrm{d}n}{\\mathrm{d}t}+3Hn=\\dfrac{g}{(2\\pi)^3}\\int\\mathrm{d}^3\\vec{p}\\dfrac{\\mathcal{C}\\{f\\}}{E}.\n",
    "$$\n",
    "\n",
    "Definiendo $Y=n/s$ y $x=m/T$, donde \n",
    "\n",
    "$$s=\\dfrac{2\\pi²}{45}g_\\star(T)T³$$\n",
    "\n",
    "es la densidad de entropía que satisface la conservación de la entropía $sa³=constante$, por lo tanto, ignorando la dependencia en temperatura de los grados de libertad relativistas, $g_\\star$, $\\dot{s}=-3Hs$. Diferenciando $Y$ respecto al tiempo\n",
    "\n",
    "$$\n",
    "\\dot{Y}=\\dfrac{\\dot{n}}{s}-\\dfrac{n\\dot{s}}{s²}=\\dfrac{\\dot{n}+3Hn}{s}.\n",
    "$$\n",
    "\n",
    "A partir de la conservación de la entropía, usando la forma funcional de $s$ y despreciando la dependencia en temperatura de $g_\\star$, también se puede deducir que $aT=constante$, y así, $\\dot{T}=-HT$. Usando la regla de la cadena, se puede escribir la derivada temporal en términos de la variable $x$: $\\frac{\\mathrm{d}}{\\mathrm{d}t}=\\frac{\\mathrm{d}T}{\\mathrm{d}t}\\frac{\\mathrm{d}x}{\\mathrm{d}T}\\frac{\\mathrm{d}}{\\mathrm{d}x}=Hx\\frac{\\mathrm{d}}{\\mathrm{d}x}$, así que la ecuación de Boltzmann puede escribirse como\n",
    "\n",
    "$$\n",
    "\\dfrac{\\mathrm{d}Y}{\\mathrm{d}x}=\\dfrac{1}{Hxs}\\dfrac{g}{(2\\pi)^3}\\int\\mathrm{d}^3\\vec{p}\\dfrac{\\mathcal{C}\\{f\\}}{E}.\n",
    "$$\n",
    "\n",
    "Considerando una reacción $\\underbrace{\\psi+a+b+...}_{in}\\rightleftharpoons \\underbrace{i+j+...}_{out}$, donde $\\psi$ es la especie de interés. El término de colisión para un proceso como este es\n",
    "\n",
    "$$\\begin{align*}\n",
    "\\int\\mathcal{C}\\{f\\}\\mathrm{d}\\tilde{p}_\\psi=&-\\int\\left(\\prod_{in}\\mathrm{d}\\tilde{p}_k\\right)\\left(\\prod_{out}\\mathrm{d}\\tilde{p}_k\\right)(2\\pi)^4\\delta⁴(p_{in}-p_{out})\\times\\\\\n",
    "&\\times\\left[|M|²_\\rightarrow\\left(\\prod_{in}f_k\\right)\\left(\\prod_{out}(1\\pm f_k)\\right)-|M|²_\\leftarrow\\left(\\prod_{out}f_k\\right)\\left(\\prod_{in}(1\\pm f_k)\\right)\\right],\n",
    "\\end{align*}$$\n",
    "\n",
    "que puede simplificarse considerando la invariancia $CP$, lo que implica que la amplitud de transición invariante para la reacción directa es igual a la de la inversa: $|M|²_\\rightarrow=|M|²_\\leftarrow=|M|²$, y despreciando los factores de bloqueo y emisión estimulada $1\\pm f_k\\simeq 1$, llevando a la ecuación de Boltzmann\n",
    "\n",
    "$$\n",
    "\\dfrac{\\mathrm{d}n}{\\mathrm{d}t}+3Hn=-\\int\\left(\\prod_{in}\\mathrm{d}\\tilde{p}_k\\right)\\left(\\prod_{out}\\mathrm{d}\\tilde{p}_k\\right)(2\\pi)^4\\delta⁴(p_{in}-p_{out})|M|²\\left[\\left(\\prod_{in}f_k\\right)-\\left(\\prod_{out}f_k\\right)\\right].\n",
    "$$\n",
    "\n",
    "Nos centraremos en algunos candidatos de materia oscura (DM) tipo partícula, y las soluciones a la ecuación de Boltzmann en dicho contexto. El primer modelo de DM a analizar son las _Partículas Masivas Débilmente Interactuantes_ o WIMPs, que se desacoplan del baño térmico principalmente vía aniquilaciones $2\\rightarrow2$ en partículas del Modelo Estándar (SM), y satisfacen la restricción de densidad relicta observacional $\\Omega_0 h²\\simeq0.12$; existen otros mecanismos alternativos por los cuales los WIMPs se congelan, como la semi-aniquilación, que se discutirá aquí. Otro mecanismo que puede producir la densidad relicta observada es el mecanismo de \"freeze-in\", en el cual el acoplamiento entre el sector oscuro y el visible es lo suficientemente pequeño como para evitar que el sector oscuro esté en equilibrio térmico con el sector visible, y la abundancia relicta se congela a un valor constante después de que las densidades de las partículas visibles que producen las partículas oscuras se suprimen exponencialmente; las partículas oscuras producidas por este mecanismo se llaman _Frozen-In_ o _Partículas Masivas Débilmente Interactuantes_, FIMPs por sus siglas en inglés. Si asumimos interacciones DM-SM muy pequeñas, las auto-interacciones dentro del sector oscuro se vuelven significativas, en particular, procesos que cambian el número de partículas, como $3\\to2$, que estudiaremos aquí, y $4\\to2$."
   ]
  },
  {
   "cell_type": "code",
   "execution_count": 1,
   "metadata": {},
   "outputs": [],
   "source": [
    "import time\n",
    "import numpy as np\n",
    "import matplotlib.pyplot as plt\n",
    "from scipy.stats import chi2\n",
    "from scipy.optimize import differential_evolution, newton\n",
    "from scipy.integrate import solve_ivp, quad\n",
    "from scipy.special import kn\n",
    "from astropy import constants as ct\n",
    "import pandas as pd\n",
    "from ipywidgets import interact,fixed,widgets,interactive\n",
    "import warnings \n",
    "  \n",
    "# Settings the warnings to be ignored \n",
    "warnings.filterwarnings('ignore') \n",
    "pd.set_option('display.max_rows', 500)"
   ]
  },
  {
   "cell_type": "markdown",
   "metadata": {},
   "source": [
    "### **Boltzmann equation for WIMPs**"
   ]
  },
  {
   "cell_type": "markdown",
   "metadata": {},
   "source": [
    "We will first consider the WIMP annihilation into SM particles $DM+DM\\rightleftharpoons SM+SM$ happenning during the radiation domination epoch, described by the Friedmann equation\n",
    "\n",
    "$$\n",
    "H(T)=\\sqrt{\\dfrac{\\rho_R(T)}{3M_P²}},\n",
    "$$\n",
    "\n",
    "where $M_P\\approx 2.4\\times10¹⁸\\text{ GeV}$ is the reduced Planck mass, $g_\\star=106.75$, and the SM radiation energy density is given by\n",
    "\n",
    "$$\n",
    "\\rho_R(T)=\\dfrac{\\pi²}{30}g_\\star T⁴.\n",
    "$$\n",
    "\n",
    "The collision term for this process is given by \n",
    "\n",
    "$$\n",
    "-\\int\\mathrm{d}\\tilde{p}_1\\mathrm{d}\\tilde{p}_2\\mathrm{d}\\tilde{p}_3\\mathrm{d}\\tilde{p}_4(2\\pi)⁴\\delta⁴(p_1+p_2-p_3-p_4)|M|²(f_1f_2-f_3^{eq}f_4^{eq}),\n",
    "$$\n",
    "\n",
    "where 1 and 2 represent the DM particles on the left side of the reaction and 3 and 4 represent the SM particles on the right side of the reaction, which are in thermal equilibrium, thus, the superindex \"eq\" on $f_3^{eq}f_4^{eq}$. The Dirac delta accounts for the conservation of the 4-momentum in the process, particularly, the conservation of energy. We assume that the equilibrium distributions are Maxwell-Boltzmann distributions without chemical potential: $f_i^{eq}\\sim \\exp(-E_i/T)$ and the non-equilibrium distributions are approximately proportional to the equilibrium distributions $f_i\\approx\\left(\\frac{n_i}{n_i^{eq}}f_i^{eq}\\right)$. The SM particles distributions is then\n",
    "\n",
    "$$\n",
    "f_3^{eq}f_4^{eq}=\\exp(-(E_3+E_4)/T)=\\exp(-(E_1+E_2)/T)=f_1^{eq}f_2^{eq}\n",
    "$$\n",
    "\n",
    "Replacing in the collision term, we get the expression\n",
    "\n",
    "$$\n",
    "-(n_1n_2-n_1^{eq}n_2^{eq})\\dfrac{1}{n_1^{eq}n_2^{eq}}\\int\\mathrm{d}\\tilde{p}_1\\mathrm{d}\\tilde{p}_2\\mathrm{d}\\tilde{p}_4\\mathrm{d}\\tilde{p}_3(2\\pi)⁴\\delta⁴(p_1+p_2-p_3-p_4)|M|²f_1^{eq}f_2^{eq}=-\\langle\\sigma v\\rangle(n²-n_{eq}²),\n",
    "$$\n",
    "\n",
    "where the thermally-averaged cross section, $\\langle\\sigma v\\rangle$, is defined as the integral in the previous equation and we have used the fact that there is no asymmetry between the DM species involved in the reaction, hence $n_1=n_2=n$. $n_{eq}$ is easily found considering that the equilibrium distributions are Maxwell-Boltzmann distributions:\n",
    "\n",
    "$$\n",
    "n_{eq} = \\dfrac{g}{2\\pi^2}m^2TK_2\\left(\\dfrac{m}{T}\\right)\n",
    "$$\n",
    "\n",
    " Using the definition of $Y$, the Boltzmann equation becomes \n",
    "\n",
    "$$\n",
    "\\dfrac{\\mathrm{d}Y}{\\mathrm{d}x}=-\\dfrac{\\langle\\sigma v\\rangle s}{Hx}(Y²-Y_{eq}²)\n",
    "$$\n",
    "\n",
    "and the relic abundance $\\Omega_0=mY_0s_0/3H_0²M_P²$ is given by:\n",
    "\n",
    "$$\n",
    "\\Omega_{0}h^2=\\dfrac{Y_0ms_0}{3M_P^2(2.13\\times 10^{-42}\\text{ GeV})^2},\n",
    "$$\n",
    "\n",
    "where the subscript 0 represents the current value of the quantity in question."
   ]
  },
  {
   "cell_type": "markdown",
   "metadata": {
    "vscode": {
     "languageId": "tex"
    }
   },
   "source": [
    "Primero, aquí tienes la traducción al español de la celda de arriba:\n",
    "\n",
    "Consideraremos primero la aniquilación de WIMPs en partículas del Modelo Estándar (SM) $DM+DM\\rightleftharpoons SM+SM$ que ocurre durante la época de dominación por radiación, descrita por la ecuación de Friedmann:\n",
    "\n",
    "$$\n",
    "H(T)=\\sqrt{\\dfrac{\\rho_R(T)}{3M_P²}},\n",
    "$$\n",
    "\n",
    "donde $M_P\\approx 2.4\\times10^{18}\\text{ GeV}$ es la masa de Planck reducida, $g_\\star=106.75$, y la densidad de energía de radiación del SM está dada por\n",
    "\n",
    "$$\n",
    "\\rho_R(T)=\\dfrac{\\pi²}{30}g_\\star T⁴.\n",
    "$$\n",
    "\n",
    "El término de colisión para este proceso es\n",
    "\n",
    "$$\n",
    "-\\int\\mathrm{d}\\tilde{p}_1\\mathrm{d}\\tilde{p}_2\\mathrm{d}\\tilde{p}_3\\mathrm{d}\\tilde{p}_4(2\\pi)⁴\\delta⁴(p_1+p_2-p_3-p_4)|M|²(f_1f_2-f_3^{eq}f_4^{eq}),\n",
    "$$\n",
    "\n",
    "donde 1 y 2 representan las partículas DM en el lado izquierdo de la reacción y 3 y 4 representan las partículas SM en el lado derecho, que están en equilibrio térmico, de ahí el superíndice \"eq\" en $f_3^{eq}f_4^{eq}$. El delta de Dirac asegura la conservación del momento de 4 componentes en el proceso, particularmente la conservación de la energía. Asumimos que las distribuciones de equilibrio son distribuciones de Maxwell-Boltzmann sin potencial químico: $f_i^{eq}\\sim \\exp(-E_i/T)$ y las distribuciones fuera de equilibrio son aproximadamente proporcionales a las de equilibrio $f_i\\approx\\left(\\frac{n_i}{n_i^{eq}}f_i^{eq}\\right)$. Las distribuciones de las partículas SM son entonces\n",
    "\n",
    "$$\n",
    "f_3^{eq}f_4^{eq}=\\exp(-(E_3+E_4)/T)=\\exp(-(E_1+E_2)/T)=f_1^{eq}f_2^{eq}\n",
    "$$\n",
    "\n",
    "Reemplazando en el término de colisión, obtenemos la expresión\n",
    "\n",
    "$$\n",
    "-(n_1n_2-n_1^{eq}n_2^{eq})\\dfrac{1}{n_1^{eq}n_2^{eq}}\\int\\mathrm{d}\\tilde{p}_1\\mathrm{d}\\tilde{p}_2\\mathrm{d}\\tilde{p}_4\\mathrm{d}\\tilde{p}_3(2\\pi)⁴\\delta⁴(p_1+p_2-p_3-p_4)|M|²f_1^{eq}f_2^{eq}=-\\langle\\sigma v\\rangle(n²-n_{eq}²),\n",
    "$$\n",
    "\n",
    "donde la sección eficaz promediada térmicamente, $\\langle\\sigma v\\rangle$, está definida como la integral en la ecuación anterior y hemos usado el hecho de que no hay asimetría entre las especies DM involucradas en la reacción, por lo tanto $n_1=n_2=n$. $n_{eq}$ se encuentra fácilmente considerando que las distribuciones de equilibrio son distribuciones de Maxwell-Boltzmann:\n",
    "\n",
    "$$\n",
    "n_{eq} = \\dfrac{g}{2\\pi^2}m^2TK_2\\left(\\dfrac{m}{T}\\right)\n",
    "$$\n",
    "\n",
    "Usando la definición de $Y$, la ecuación de Boltzmann se convierte en\n",
    "\n",
    "$$\n",
    "\\dfrac{\\mathrm{d}Y}{\\mathrm{d}x}=-\\dfrac{\\langle\\sigma v\\rangle s}{Hx}(Y²-Y_{eq}²)\n",
    "$$\n",
    "\n",
    "y la abundancia relicta $\\Omega_0=mY_0s_0/3H_0²M_P²$ está dada por:\n",
    "\n",
    "$$\n",
    "\\Omega_{0}h^2=\\dfrac{Y_0ms_0}{3M_P^2(2.13\\times 10^{-42}\\text{ GeV})^2},\n",
    "$$\n",
    "\n",
    "donde el subíndice 0 representa el valor actual de la cantidad en cuestión.\n",
    "\n",
    "---\n",
    "\n",
    "Ahora, las ecuaciones de Boltzmann en términos de $Y$ y $x$ para FIMPs y para SIMPs (aniquilaciones $3\\to2$):\n",
    "\n",
    "**Para FIMPs:**\n",
    "La ecuación de Boltzmann para FIMPs (producción por \"freeze-in\") es:\n",
    "\n",
    "$$\n",
    "\\dfrac{dY}{dx} = \\dfrac{1}{Hx s} \\int \\dfrac{g}{(2\\pi)^3} \\dfrac{\\mathcal{C}\\{f\\}}{E} d^3\\vec{p}\n",
    "$$\n",
    "\n",
    "En el caso típico de producción por decaimiento o aniquilación de partículas del sector visible, el término de colisión es proporcional a la sección eficaz y a las abundancias de las partículas del sector visible.\n",
    "\n",
    "**Para SIMPs ($3\\to2$):**\n",
    "La ecuación de Boltzmann para procesos de aniquilación $3\\to2$ es:\n",
    "\n",
    "$$\n",
    "\\dfrac{dY}{dx} = -\\dfrac{\\langle\\sigma v^2\\rangle s^2}{Hx}(Y^3 - Y^2 Y_{eq})\n",
    "$$\n",
    "\n",
    "donde $\\langle\\sigma v^2\\rangle$ es la sección eficaz promediada térmicamente para el proceso $3\\to2$.\n",
    "\n",
    "Estas ecuaciones permiten estudiar la evolución de la abundancia de materia oscura en los diferentes escenarios de producción."
   ]
  },
  {
   "cell_type": "code",
   "execution_count": 2,
   "metadata": {},
   "outputs": [],
   "source": [
    "# Constants\n",
    "gstar = 106.75\n",
    "MP = 2.4e18 #GeV"
   ]
  },
  {
   "cell_type": "code",
   "execution_count": 3,
   "metadata": {},
   "outputs": [],
   "source": [
    "# Values today\n",
    "T0 = 2.725*ct.k_B.value/ct.e.value*1e-9\n",
    "gstars0 = 3.91\n",
    "gstar0 = 3.38\n",
    "s0 = 2*np.pi**2/45*gstars0*T0**3"
   ]
  },
  {
   "cell_type": "code",
   "execution_count": 4,
   "metadata": {},
   "outputs": [
    {
     "data": {
      "text/plain": [
       "(2.3482233139345615e-13, 2.2208139221039978e-38)"
      ]
     },
     "execution_count": 4,
     "metadata": {},
     "output_type": "execute_result"
    }
   ],
   "source": [
    "T0, s0"
   ]
  },
  {
   "cell_type": "code",
   "execution_count": 5,
   "metadata": {},
   "outputs": [],
   "source": [
    "scan=False"
   ]
  },
  {
   "cell_type": "code",
   "execution_count": 6,
   "metadata": {},
   "outputs": [],
   "source": [
    "def Yeq(x,mass,g):\n",
    "    '''\n",
    "    Equilibrium abundance.\n",
    "    ---\n",
    "    INPUT\n",
    "     x: variable m/T\n",
    "     mass: mass of the particle in GeV\n",
    "     g: degrees of freedom\n",
    "\n",
    "    OUTPUT:\n",
    "     Y_eq\n",
    "    '''\n",
    "    neq = g/(2*np.pi**2)*mass**3/x*kn(2,x)\n",
    "    s = 2*np.pi**2/45*gstar*(mass/x)**3\n",
    "    return neq/s\n",
    "\n",
    "def WIMPs(x,Y,mass,sigma,g):\n",
    "    '''\n",
    "    Boltxmann equation for WIMPs.\n",
    "    ---\n",
    "    INPUT\n",
    "     x: independent variable, m/T\n",
    "     Y: dependent variable, abundance\n",
    "     mass: mass of the particle in GeV\n",
    "     sigma: thermally averaged cross section in GeV^-2\n",
    "     g: degrees of freedom of the particle\n",
    "\n",
    "    OUTPUT\n",
    "     dY/dx\n",
    "    '''\n",
    "    H = (np.pi**2*gstar/90)**0.5*(mass/x)**2/MP\n",
    "    s = 2*np.pi**2/45*gstar*(mass/x)**3\n",
    "    dYdx = -sigma*s/(x*H)*(Y**2 - Yeq(x,mass,g)**2)\n",
    "    return dYdx\n",
    "\n"
   ]
  },
  {
   "cell_type": "code",
   "execution_count": 7,
   "metadata": {},
   "outputs": [
    {
     "data": {
      "text/plain": [
       "0.0021637901707760175"
      ]
     },
     "execution_count": 7,
     "metadata": {},
     "output_type": "execute_result"
    }
   ],
   "source": [
    "Yeq(1e-6,1,1)"
   ]
  },
  {
   "cell_type": "code",
   "execution_count": 8,
   "metadata": {},
   "outputs": [
    {
     "data": {
      "text/plain": [
       "1.8629279233723326e-05"
      ]
     },
     "execution_count": 8,
     "metadata": {},
     "output_type": "execute_result"
    }
   ],
   "source": [
    "n=1000000\n",
    "delta = (np.log10(1/T0)-np.log10(1/1e6))/(n-1)\n",
    "delta"
   ]
  },
  {
   "cell_type": "code",
   "execution_count": 9,
   "metadata": {},
   "outputs": [],
   "source": [
    "def Omega(m,sigma,model=WIMPs,g=2,method='BDF'):\n",
    "    '''\n",
    "    Relic abundance from the numeric solution of Boltzmann equation.\n",
    "    ---\n",
    "    INPUT\n",
    "     m: mass of the particle in GeV\n",
    "     sigma: thermally averaged cross section in GeV^-2 (GeV^-5 for SIMPs)\n",
    "     model: Boltzmann equation to be solved\n",
    "     g: degrees of freedom of the particle (2 by default)\n",
    "    OUTPUT\n",
    "     Ω_0h²\n",
    "    '''\n",
    "    m = 10.**m\n",
    "    sigma = 10.**sigma\n",
    "    xini = 0.1\n",
    "    xfin = 1e4\n",
    "    if model.__name__ == 'FIMPs':\n",
    "        Yini = 0\n",
    "    else:\n",
    "        Yini = Yeq(xini, m, g)\n",
    "    sol = solve_ivp(model, [xini,xfin], [Yini,], method=method, rtol=1e-8, atol=1e-10, args=(m,sigma,g))\n",
    "    Y0 = sol.y[0][-1]\n",
    "    s0 = 2*np.pi**2/45*gstars0*T0**3\n",
    "    Omegah2 = Y0*m*s0/(3*MP**2*(2.13e-42)**2)\n",
    "    if Omegah2 > 0:\n",
    "        return Omegah2\n",
    "    else:\n",
    "        return 0\n",
    "\n",
    "Omega = np.vectorize(Omega)"
   ]
  },
  {
   "cell_type": "code",
   "execution_count": 10,
   "metadata": {},
   "outputs": [
    {
     "data": {
      "text/plain": [
       "3.479035551383999e+25"
      ]
     },
     "execution_count": 10,
     "metadata": {},
     "output_type": "execute_result"
    }
   ],
   "source": [
    "rho = (np.pi**2*105.75/30)*(1/1e-6)**4\n",
    "rho"
   ]
  },
  {
   "cell_type": "code",
   "execution_count": 11,
   "metadata": {},
   "outputs": [
    {
     "data": {
      "text/plain": [
       "805217.8114179886"
      ]
     },
     "execution_count": 11,
     "metadata": {},
     "output_type": "execute_result"
    }
   ],
   "source": [
    "1/1.2419e-6"
   ]
  },
  {
   "cell_type": "code",
   "execution_count": 12,
   "metadata": {},
   "outputs": [
    {
     "data": {
      "text/plain": [
       "array(0.14674201)"
      ]
     },
     "execution_count": 12,
     "metadata": {},
     "output_type": "execute_result"
    }
   ],
   "source": [
    "Omega(0,-9,g=1)"
   ]
  },
  {
   "cell_type": "code",
   "execution_count": 13,
   "metadata": {},
   "outputs": [
    {
     "data": {
      "application/vnd.jupyter.widget-view+json": {
       "model_id": "bc14d72dd51740cd92f9ddc28b66cd58",
       "version_major": 2,
       "version_minor": 0
      },
      "text/plain": [
       "interactive(children=(FloatLogSlider(value=0.001, description='mass', max=3.0, min=-3.0, step=0.0001), FloatLo…"
      ]
     },
     "metadata": {},
     "output_type": "display_data"
    }
   ],
   "source": [
    "def graf1(mass,sigma,g):\n",
    "    xini = 0.1\n",
    "    xfin = 1e4\n",
    "    Yini = Yeq(xini,mass,g)\n",
    "    xss = np.linspace(xini,30,1000)\n",
    "    Yfin = 4.3e-10/mass\n",
    "    sol = solve_ivp(WIMPs, [xini,xfin], [Yini,], method='BDF', rtol=1e-8, atol=1e-10, args=(mass,sigma,g))\n",
    "    plt.loglog(sol.t,sol.y[0],label=f'Ωh²={Omega(np.log10(mass),np.log10(sigma),g=g):.3f}',color='r')\n",
    "    plt.loglog(xss,Yeq(xss,mass,g),label=r'$Y_{eq}$',color='b')\n",
    "    plt.hlines(Yfin,xini,xfin,color='k',linestyle=':')\n",
    "    plt.axhspan(0.9*Yfin,1.1*Yfin,0,1,color='yellow',alpha=0.5)\n",
    "    #plt.ylim(2e-8,1e-2)\n",
    "    plt.title('Boltzmann equation for WIMPs')\n",
    "    plt.xlabel('x')\n",
    "    plt.ylabel('Y')\n",
    "    plt.grid()\n",
    "    plt.legend()\n",
    "    plt.show()\n",
    "    \n",
    "slider_mass = widgets.FloatLogSlider(value=1e-3, base=10, min=-3, max=3,\n",
    "                                  step=0.0001, description='mass')\n",
    "slider_sigma = widgets.FloatLogSlider(value=1e-12, base=10, min=-15, max=-7,\n",
    "                                  step=0.1, description='sigma')\n",
    "slider_g = widgets.FloatSlider(value=1, min=1, max=3,\n",
    "                                  step=1, description='g')\n",
    "# Crea la función interactiva\n",
    "\n",
    "interactive_plot1 = interactive(graf1, mass=slider_mass, sigma=slider_sigma, g=slider_g,\n",
    "                                continuous_update=0)\n",
    "\n",
    "# Muestra la función interactiva\n",
    "interactive_plot1"
   ]
  },
  {
   "cell_type": "markdown",
   "metadata": {},
   "source": [
    "### Exploring the parameter space"
   ]
  },
  {
   "cell_type": "code",
   "execution_count": 14,
   "metadata": {},
   "outputs": [],
   "source": [
    "# Confidence level etc\n",
    "alpha = 0.05\n",
    "beta = 1. - alpha\n",
    "critical_chi_sq = chi2.isf(alpha, 2)\n",
    "critical_loglike = 0.5 * critical_chi_sq\n",
    "min_chi_sq = 0."
   ]
  },
  {
   "cell_type": "code",
   "execution_count": 15,
   "metadata": {},
   "outputs": [],
   "source": [
    "# Scan settings\n",
    "n_random_samples = int(1e7)\n",
    "dim = 4\n",
    "min_ = -5.\n",
    "max_ = 5.\n",
    "seed = 127\n"
   ]
  },
  {
   "cell_type": "markdown",
   "metadata": {},
   "source": [
    "Likelihood function $\\propto\\mathcal{N}(\\Omega_{obs},\\Sigma)$. Thus, \n",
    "\n",
    "$$\n",
    "\\chi^2=\\left(\\dfrac{\\Omega-\\Omega_{obs}}{\\Sigma}\\right)^2\n",
    "$$\n",
    "\n",
    "with $\\Omega_{obs}=0.12$ and $\\Sigma=\\sqrt{(0.1\\Omega)^2+(0.001)^2}$"
   ]
  },
  {
   "cell_type": "code",
   "execution_count": 16,
   "metadata": {},
   "outputs": [],
   "source": [
    "Omega_0 = 0.12\n",
    "Sigma_th_rel = 0.1\n",
    "Sigma_0 = 0.001"
   ]
  },
  {
   "cell_type": "code",
   "execution_count": 17,
   "metadata": {},
   "outputs": [],
   "source": [
    "def chi_square(Omega):\n",
    "    \"\"\"\n",
    "    Returns chi² function\n",
    "    \"\"\"\n",
    "    Sigma = ((Sigma_th_rel*Omega)**2+(Sigma_0)**2)**0.5\n",
    "    return ((Omega-Omega_0)/Sigma)**2\n",
    "\n",
    "def loglike(Omega):\n",
    "    \"\"\"\n",
    "    Returns log(L)\n",
    "    \"\"\"\n",
    "    return -0.5*chi_square(Omega)\n",
    "\n",
    "def samples_inside(x, chi_sq):\n",
    "    \"\"\"\n",
    "    @returns Points from within delta chi-squared contour\n",
    "    \"\"\"\n",
    "    delta_chi_sq = chi_sq - min_chi_sq\n",
    "    inside = delta_chi_sq <= critical_chi_sq\n",
    "    return x[:, inside]"
   ]
  },
  {
   "cell_type": "code",
   "execution_count": 18,
   "metadata": {},
   "outputs": [],
   "source": [
    "def loglike_pars(P,model,g):\n",
    "    m,sigma = P\n",
    "    return loglike(Omega(m,sigma,model=model,g=g))\n",
    "def chi_square_pars(P,model,g):\n",
    "    m,sigma = P\n",
    "    return chi_square(Omega(m,sigma,model=model,g=g))"
   ]
  },
  {
   "cell_type": "code",
   "execution_count": 19,
   "metadata": {},
   "outputs": [],
   "source": [
    "bound_m = (-3,3)\n",
    "bound_sigma = (-15,-7)\n",
    "g = 1"
   ]
  },
  {
   "cell_type": "code",
   "execution_count": 20,
   "metadata": {},
   "outputs": [],
   "source": [
    "def de_scan(model,bound_m,bound_sigma,g,round_to_nearest=None):\n",
    "    \"\"\"\n",
    "    @returns Points from within delta chi-squared contour from differential evolution\n",
    "    and number of calls\n",
    "    \"\"\"\n",
    "    bounds = [bound_m,bound_sigma]\n",
    "    x = []\n",
    "    chi_sq = []\n",
    "\n",
    "    def objective(x_):\n",
    "        \"\"\"\n",
    "        @returns Objective for DE that saves chi-squared and parameters\n",
    "        \"\"\"\n",
    "        chi_sq_ = chi_square_pars(x_,model,g)\n",
    "        chi_sq.append(chi_sq_)\n",
    "        x.append(x_)\n",
    "        return chi_sq_\n",
    "\n",
    "    differential_evolution(objective, bounds,\n",
    "                           strategy='rand1bin', maxiter=None,\n",
    "                           popsize=50, tol=0.01, mutation=(0.7, 1.99999), recombination=0.15,\n",
    "                           polish=False,seed=seed)\n",
    "\n",
    "    if round_to_nearest is not None:\n",
    "        len_x = len(x)\n",
    "        keep_n = len_x - (len_x % round_to_nearest)\n",
    "        x = x[:keep_n]\n",
    "        chi_sq = chi_sq[:keep_n]\n",
    "\n",
    "    return samples_inside(np.array(x).T, np.array(chi_sq)), len(x)"
   ]
  },
  {
   "cell_type": "code",
   "execution_count": 21,
   "metadata": {},
   "outputs": [],
   "source": [
    "ms_W = np.linspace(*bound_m)\n",
    "sigmas_W = np.linspace(*bound_sigma)\n",
    "\n",
    "Ms_W, Sigmas_W = np.meshgrid(ms_W,sigmas_W)\n",
    "Os_W = Omega(Ms_W,Sigmas_W,g=g)"
   ]
  },
  {
   "cell_type": "code",
   "execution_count": 16,
   "metadata": {},
   "outputs": [],
   "source": [
    "def Omegah2_analytic(mass,sigma,n=0):\n",
    "    A = np.log(0.038*(n+1)*g/(gstar**0.5)*(8*np.pi)**0.5*MP*mass*sigma)\n",
    "    xf = A-(n+0.5)*np.log(A)\n",
    "    omh = 1.07e9*(n+1)*xf**(n+1)/((gstar/gstar**0.5)*(8*np.pi)**0.5*MP*sigma)\n",
    "    return omh\n",
    "\n",
    "Omegah2_analytic = np.vectorize(Omegah2_analytic)"
   ]
  },
  {
   "cell_type": "code",
   "execution_count": 23,
   "metadata": {},
   "outputs": [],
   "source": [
    "def obtain_optimal_params(model,bound_m,bound_sigma,g,path=None,descan=False):\n",
    "    if descan:\n",
    "        np.random.seed(seed)\n",
    "\n",
    "        print('Running de_scan')\n",
    "        t0 = time.time()\n",
    "        x,calls = de_scan(model,bound_m,bound_sigma,g,round_to_nearest=1000)\n",
    "        de_time = time.time() - t0\n",
    "        print('Time = ', de_time)\n",
    "\n",
    "        omegas_chi2 = Omega(x[0],x[1],model=model)\n",
    "\n",
    "        df = pd.DataFrame()\n",
    "        df['log(m)'] = pd.Series(x[0])\n",
    "        df['log(sigma*v)'] = pd.Series(x[1])\n",
    "        df['Omegah2'] = pd.Series(omegas_chi2)\n",
    "\n",
    "        filename = 'optimal_params_'+model.__name__+'.csv'\n",
    "\n",
    "        df.to_csv(filename,index=False)\n",
    "\n",
    "        return df\n",
    "\n",
    "    else:\n",
    "        df = pd.read_csv(path)\n",
    "        return df\n",
    "\n",
    "        "
   ]
  },
  {
   "cell_type": "code",
   "execution_count": 24,
   "metadata": {},
   "outputs": [],
   "source": [
    "Os_an = Omegah2_analytic(10.**Ms_W,10.**Sigmas_W)"
   ]
  },
  {
   "cell_type": "code",
   "execution_count": 25,
   "metadata": {},
   "outputs": [],
   "source": [
    "if scan:\n",
    "    df_WIMP = obtain_optimal_params(WIMPs,bound_m,bound_sigma,g,descan=scan)\n",
    "else:\n",
    "    path_WIMP = 'https://raw.githubusercontent.com/SantiagoJulioD/Trabajo_de_grado/refs/heads/main/Relic_density/optimal_params_WIMPs.csv'\n",
    "    df_WIMP = obtain_optimal_params(WIMPs,bound_m,bound_sigma,g,descan=scan,path=path_WIMP)"
   ]
  },
  {
   "cell_type": "code",
   "execution_count": 26,
   "metadata": {},
   "outputs": [
    {
     "name": "stdout",
     "output_type": "stream",
     "text": [
      "Plotting de_scan\n"
     ]
    },
    {
     "ename": "TypeError",
     "evalue": "Input z must be 2D, not 3D",
     "output_type": "error",
     "traceback": [
      "\u001b[0;31m---------------------------------------------------------------------------\u001b[0m",
      "\u001b[0;31mTypeError\u001b[0m                                 Traceback (most recent call last)",
      "Cell \u001b[0;32mIn[26], line 3\u001b[0m\n\u001b[1;32m      1\u001b[0m \u001b[38;5;28mprint\u001b[39m(\u001b[38;5;124m'\u001b[39m\u001b[38;5;124mPlotting de_scan\u001b[39m\u001b[38;5;124m'\u001b[39m)\n\u001b[1;32m      2\u001b[0m fig, ax \u001b[38;5;241m=\u001b[39m plt\u001b[38;5;241m.\u001b[39msubplots(figsize\u001b[38;5;241m=\u001b[39m(\u001b[38;5;241m8\u001b[39m,\u001b[38;5;241m6\u001b[39m))\n\u001b[0;32m----> 3\u001b[0m CS \u001b[38;5;241m=\u001b[39m ax\u001b[38;5;241m.\u001b[39mcontourf(Ms_W,Sigmas_W,np\u001b[38;5;241m.\u001b[39mlog10(Os_W),cmap\u001b[38;5;241m=\u001b[39m\u001b[38;5;124m'\u001b[39m\u001b[38;5;124minferno\u001b[39m\u001b[38;5;124m'\u001b[39m,)\n\u001b[1;32m      4\u001b[0m de_scatter \u001b[38;5;241m=\u001b[39m ax\u001b[38;5;241m.\u001b[39mscatter(df_WIMP[\u001b[38;5;124m'\u001b[39m\u001b[38;5;124mlog(m)\u001b[39m\u001b[38;5;124m'\u001b[39m], df_WIMP[\u001b[38;5;124m'\u001b[39m\u001b[38;5;124mlog(sigma*v)\u001b[39m\u001b[38;5;124m'\u001b[39m], s\u001b[38;5;241m=\u001b[39m\u001b[38;5;241m12\u001b[39m, edgecolor\u001b[38;5;241m=\u001b[39m\u001b[38;5;124m'\u001b[39m\u001b[38;5;124m0.05\u001b[39m\u001b[38;5;124m'\u001b[39m,\n\u001b[1;32m      5\u001b[0m                         linewidth\u001b[38;5;241m=\u001b[39m\u001b[38;5;241m0.25\u001b[39m, alpha\u001b[38;5;241m=\u001b[39m\u001b[38;5;241m1.0\u001b[39m, c\u001b[38;5;241m=\u001b[39m\u001b[38;5;124m'\u001b[39m\u001b[38;5;124mlightskyblue\u001b[39m\u001b[38;5;124m'\u001b[39m,label\u001b[38;5;241m=\u001b[39m\u001b[38;5;124m'\u001b[39m\u001b[38;5;124mDifferential evolution\u001b[39m\u001b[38;5;124m'\u001b[39m)\n\u001b[1;32m      6\u001b[0m CSl \u001b[38;5;241m=\u001b[39m ax\u001b[38;5;241m.\u001b[39mcontour(CS,levels\u001b[38;5;241m=\u001b[39m[np\u001b[38;5;241m.\u001b[39mlog10(\u001b[38;5;241m0.12\u001b[39m),],colors\u001b[38;5;241m=\u001b[39m\u001b[38;5;124m'\u001b[39m\u001b[38;5;124mred\u001b[39m\u001b[38;5;124m'\u001b[39m,linestyles\u001b[38;5;241m=\u001b[39m\u001b[38;5;124m'\u001b[39m\u001b[38;5;124msolid\u001b[39m\u001b[38;5;124m'\u001b[39m,linewidths\u001b[38;5;241m=\u001b[39m\u001b[38;5;241m2\u001b[39m)\n",
      "File \u001b[0;32m~/anaconda3/lib/python3.12/site-packages/matplotlib/__init__.py:1521\u001b[0m, in \u001b[0;36m_preprocess_data.<locals>.inner\u001b[0;34m(ax, data, *args, **kwargs)\u001b[0m\n\u001b[1;32m   1518\u001b[0m \u001b[38;5;129m@functools\u001b[39m\u001b[38;5;241m.\u001b[39mwraps(func)\n\u001b[1;32m   1519\u001b[0m \u001b[38;5;28;01mdef\u001b[39;00m \u001b[38;5;21minner\u001b[39m(ax, \u001b[38;5;241m*\u001b[39margs, data\u001b[38;5;241m=\u001b[39m\u001b[38;5;28;01mNone\u001b[39;00m, \u001b[38;5;241m*\u001b[39m\u001b[38;5;241m*\u001b[39mkwargs):\n\u001b[1;32m   1520\u001b[0m     \u001b[38;5;28;01mif\u001b[39;00m data \u001b[38;5;129;01mis\u001b[39;00m \u001b[38;5;28;01mNone\u001b[39;00m:\n\u001b[0;32m-> 1521\u001b[0m         \u001b[38;5;28;01mreturn\u001b[39;00m func(\n\u001b[1;32m   1522\u001b[0m             ax,\n\u001b[1;32m   1523\u001b[0m             \u001b[38;5;241m*\u001b[39m\u001b[38;5;28mmap\u001b[39m(cbook\u001b[38;5;241m.\u001b[39msanitize_sequence, args),\n\u001b[1;32m   1524\u001b[0m             \u001b[38;5;241m*\u001b[39m\u001b[38;5;241m*\u001b[39m{k: cbook\u001b[38;5;241m.\u001b[39msanitize_sequence(v) \u001b[38;5;28;01mfor\u001b[39;00m k, v \u001b[38;5;129;01min\u001b[39;00m kwargs\u001b[38;5;241m.\u001b[39mitems()})\n\u001b[1;32m   1526\u001b[0m     bound \u001b[38;5;241m=\u001b[39m new_sig\u001b[38;5;241m.\u001b[39mbind(ax, \u001b[38;5;241m*\u001b[39margs, \u001b[38;5;241m*\u001b[39m\u001b[38;5;241m*\u001b[39mkwargs)\n\u001b[1;32m   1527\u001b[0m     auto_label \u001b[38;5;241m=\u001b[39m (bound\u001b[38;5;241m.\u001b[39marguments\u001b[38;5;241m.\u001b[39mget(label_namer)\n\u001b[1;32m   1528\u001b[0m                   \u001b[38;5;129;01mor\u001b[39;00m bound\u001b[38;5;241m.\u001b[39mkwargs\u001b[38;5;241m.\u001b[39mget(label_namer))\n",
      "File \u001b[0;32m~/anaconda3/lib/python3.12/site-packages/matplotlib/axes/_axes.py:6794\u001b[0m, in \u001b[0;36mAxes.contourf\u001b[0;34m(self, *args, **kwargs)\u001b[0m\n\u001b[1;32m   6783\u001b[0m \u001b[38;5;250m\u001b[39m\u001b[38;5;124;03m\"\"\"\u001b[39;00m\n\u001b[1;32m   6784\u001b[0m \u001b[38;5;124;03mPlot filled contours.\u001b[39;00m\n\u001b[1;32m   6785\u001b[0m \n\u001b[0;32m   (...)\u001b[0m\n\u001b[1;32m   6791\u001b[0m \u001b[38;5;124;03m%(contour_doc)s\u001b[39;00m\n\u001b[1;32m   6792\u001b[0m \u001b[38;5;124;03m\"\"\"\u001b[39;00m\n\u001b[1;32m   6793\u001b[0m kwargs[\u001b[38;5;124m'\u001b[39m\u001b[38;5;124mfilled\u001b[39m\u001b[38;5;124m'\u001b[39m] \u001b[38;5;241m=\u001b[39m \u001b[38;5;28;01mTrue\u001b[39;00m\n\u001b[0;32m-> 6794\u001b[0m contours \u001b[38;5;241m=\u001b[39m mcontour\u001b[38;5;241m.\u001b[39mQuadContourSet(\u001b[38;5;28mself\u001b[39m, \u001b[38;5;241m*\u001b[39margs, \u001b[38;5;241m*\u001b[39m\u001b[38;5;241m*\u001b[39mkwargs)\n\u001b[1;32m   6795\u001b[0m \u001b[38;5;28mself\u001b[39m\u001b[38;5;241m.\u001b[39m_request_autoscale_view()\n\u001b[1;32m   6796\u001b[0m \u001b[38;5;28;01mreturn\u001b[39;00m contours\n",
      "File \u001b[0;32m~/anaconda3/lib/python3.12/site-packages/matplotlib/contour.py:701\u001b[0m, in \u001b[0;36mContourSet.__init__\u001b[0;34m(self, ax, levels, filled, linewidths, linestyles, hatches, alpha, origin, extent, cmap, colors, norm, vmin, vmax, colorizer, extend, antialiased, nchunk, locator, transform, negative_linestyles, clip_path, *args, **kwargs)\u001b[0m\n\u001b[1;32m    697\u001b[0m \u001b[38;5;28;01mif\u001b[39;00m \u001b[38;5;28mself\u001b[39m\u001b[38;5;241m.\u001b[39mnegative_linestyles \u001b[38;5;129;01mis\u001b[39;00m \u001b[38;5;28;01mNone\u001b[39;00m:\n\u001b[1;32m    698\u001b[0m     \u001b[38;5;28mself\u001b[39m\u001b[38;5;241m.\u001b[39mnegative_linestyles \u001b[38;5;241m=\u001b[39m \\\n\u001b[1;32m    699\u001b[0m         mpl\u001b[38;5;241m.\u001b[39mrcParams[\u001b[38;5;124m'\u001b[39m\u001b[38;5;124mcontour.negative_linestyle\u001b[39m\u001b[38;5;124m'\u001b[39m]\n\u001b[0;32m--> 701\u001b[0m kwargs \u001b[38;5;241m=\u001b[39m \u001b[38;5;28mself\u001b[39m\u001b[38;5;241m.\u001b[39m_process_args(\u001b[38;5;241m*\u001b[39margs, \u001b[38;5;241m*\u001b[39m\u001b[38;5;241m*\u001b[39mkwargs)\n\u001b[1;32m    702\u001b[0m \u001b[38;5;28mself\u001b[39m\u001b[38;5;241m.\u001b[39m_process_levels()\n\u001b[1;32m    704\u001b[0m \u001b[38;5;28mself\u001b[39m\u001b[38;5;241m.\u001b[39m_extend_min \u001b[38;5;241m=\u001b[39m \u001b[38;5;28mself\u001b[39m\u001b[38;5;241m.\u001b[39mextend \u001b[38;5;129;01min\u001b[39;00m [\u001b[38;5;124m'\u001b[39m\u001b[38;5;124mmin\u001b[39m\u001b[38;5;124m'\u001b[39m, \u001b[38;5;124m'\u001b[39m\u001b[38;5;124mboth\u001b[39m\u001b[38;5;124m'\u001b[39m]\n",
      "File \u001b[0;32m~/anaconda3/lib/python3.12/site-packages/matplotlib/contour.py:1319\u001b[0m, in \u001b[0;36mQuadContourSet._process_args\u001b[0;34m(self, corner_mask, algorithm, *args, **kwargs)\u001b[0m\n\u001b[1;32m   1316\u001b[0m         corner_mask \u001b[38;5;241m=\u001b[39m mpl\u001b[38;5;241m.\u001b[39mrcParams[\u001b[38;5;124m'\u001b[39m\u001b[38;5;124mcontour.corner_mask\u001b[39m\u001b[38;5;124m'\u001b[39m]\n\u001b[1;32m   1317\u001b[0m \u001b[38;5;28mself\u001b[39m\u001b[38;5;241m.\u001b[39m_corner_mask \u001b[38;5;241m=\u001b[39m corner_mask\n\u001b[0;32m-> 1319\u001b[0m x, y, z \u001b[38;5;241m=\u001b[39m \u001b[38;5;28mself\u001b[39m\u001b[38;5;241m.\u001b[39m_contour_args(args, kwargs)\n\u001b[1;32m   1321\u001b[0m contour_generator \u001b[38;5;241m=\u001b[39m contourpy\u001b[38;5;241m.\u001b[39mcontour_generator(\n\u001b[1;32m   1322\u001b[0m     x, y, z, name\u001b[38;5;241m=\u001b[39m\u001b[38;5;28mself\u001b[39m\u001b[38;5;241m.\u001b[39m_algorithm, corner_mask\u001b[38;5;241m=\u001b[39m\u001b[38;5;28mself\u001b[39m\u001b[38;5;241m.\u001b[39m_corner_mask,\n\u001b[1;32m   1323\u001b[0m     line_type\u001b[38;5;241m=\u001b[39mcontourpy\u001b[38;5;241m.\u001b[39mLineType\u001b[38;5;241m.\u001b[39mSeparateCode,\n\u001b[1;32m   1324\u001b[0m     fill_type\u001b[38;5;241m=\u001b[39mcontourpy\u001b[38;5;241m.\u001b[39mFillType\u001b[38;5;241m.\u001b[39mOuterCode,\n\u001b[1;32m   1325\u001b[0m     chunk_size\u001b[38;5;241m=\u001b[39m\u001b[38;5;28mself\u001b[39m\u001b[38;5;241m.\u001b[39mnchunk)\n\u001b[1;32m   1327\u001b[0m t \u001b[38;5;241m=\u001b[39m \u001b[38;5;28mself\u001b[39m\u001b[38;5;241m.\u001b[39mget_transform()\n",
      "File \u001b[0;32m~/anaconda3/lib/python3.12/site-packages/matplotlib/contour.py:1359\u001b[0m, in \u001b[0;36mQuadContourSet._contour_args\u001b[0;34m(self, args, kwargs)\u001b[0m\n\u001b[1;32m   1357\u001b[0m \u001b[38;5;28;01melif\u001b[39;00m \u001b[38;5;241m2\u001b[39m \u001b[38;5;241m<\u001b[39m nargs \u001b[38;5;241m<\u001b[39m\u001b[38;5;241m=\u001b[39m \u001b[38;5;241m4\u001b[39m:\n\u001b[1;32m   1358\u001b[0m     x, y, z_orig, \u001b[38;5;241m*\u001b[39margs \u001b[38;5;241m=\u001b[39m args\n\u001b[0;32m-> 1359\u001b[0m     x, y, z \u001b[38;5;241m=\u001b[39m \u001b[38;5;28mself\u001b[39m\u001b[38;5;241m.\u001b[39m_check_xyz(x, y, z_orig, kwargs)\n\u001b[1;32m   1361\u001b[0m \u001b[38;5;28;01melse\u001b[39;00m:\n\u001b[1;32m   1362\u001b[0m     \u001b[38;5;28;01mraise\u001b[39;00m _api\u001b[38;5;241m.\u001b[39mnargs_error(fn, takes\u001b[38;5;241m=\u001b[39m\u001b[38;5;124m\"\u001b[39m\u001b[38;5;124mfrom 1 to 4\u001b[39m\u001b[38;5;124m\"\u001b[39m, given\u001b[38;5;241m=\u001b[39mnargs)\n",
      "File \u001b[0;32m~/anaconda3/lib/python3.12/site-packages/matplotlib/contour.py:1385\u001b[0m, in \u001b[0;36mQuadContourSet._check_xyz\u001b[0;34m(self, x, y, z, kwargs)\u001b[0m\n\u001b[1;32m   1382\u001b[0m z \u001b[38;5;241m=\u001b[39m ma\u001b[38;5;241m.\u001b[39masarray(z)\n\u001b[1;32m   1384\u001b[0m \u001b[38;5;28;01mif\u001b[39;00m z\u001b[38;5;241m.\u001b[39mndim \u001b[38;5;241m!=\u001b[39m \u001b[38;5;241m2\u001b[39m:\n\u001b[0;32m-> 1385\u001b[0m     \u001b[38;5;28;01mraise\u001b[39;00m \u001b[38;5;167;01mTypeError\u001b[39;00m(\u001b[38;5;124mf\u001b[39m\u001b[38;5;124m\"\u001b[39m\u001b[38;5;124mInput z must be 2D, not \u001b[39m\u001b[38;5;132;01m{\u001b[39;00mz\u001b[38;5;241m.\u001b[39mndim\u001b[38;5;132;01m}\u001b[39;00m\u001b[38;5;124mD\u001b[39m\u001b[38;5;124m\"\u001b[39m)\n\u001b[1;32m   1386\u001b[0m \u001b[38;5;28;01mif\u001b[39;00m z\u001b[38;5;241m.\u001b[39mshape[\u001b[38;5;241m0\u001b[39m] \u001b[38;5;241m<\u001b[39m \u001b[38;5;241m2\u001b[39m \u001b[38;5;129;01mor\u001b[39;00m z\u001b[38;5;241m.\u001b[39mshape[\u001b[38;5;241m1\u001b[39m] \u001b[38;5;241m<\u001b[39m \u001b[38;5;241m2\u001b[39m:\n\u001b[1;32m   1387\u001b[0m     \u001b[38;5;28;01mraise\u001b[39;00m \u001b[38;5;167;01mTypeError\u001b[39;00m(\u001b[38;5;124mf\u001b[39m\u001b[38;5;124m\"\u001b[39m\u001b[38;5;124mInput z must be at least a (2, 2) shaped array, \u001b[39m\u001b[38;5;124m\"\u001b[39m\n\u001b[1;32m   1388\u001b[0m                     \u001b[38;5;124mf\u001b[39m\u001b[38;5;124m\"\u001b[39m\u001b[38;5;124mbut has shape \u001b[39m\u001b[38;5;132;01m{\u001b[39;00mz\u001b[38;5;241m.\u001b[39mshape\u001b[38;5;132;01m}\u001b[39;00m\u001b[38;5;124m\"\u001b[39m)\n",
      "\u001b[0;31mTypeError\u001b[0m: Input z must be 2D, not 3D"
     ]
    },
    {
     "data": {
      "image/png": "[encoded data removed]",
      "text/plain": [
       "<Figure size 800x600 with 1 Axes>"
      ]
     },
     "metadata": {},
     "output_type": "display_data"
    }
   ],
   "source": [
    "print('Plotting de_scan')\n",
    "fig, ax = plt.subplots(figsize=(8,6))\n",
    "CS = ax.contourf(Ms_W,Sigmas_W,np.log10(Os_W),cmap='inferno',)\n",
    "de_scatter = ax.scatter(df_WIMP['log(m)'], df_WIMP['log(sigma*v)'], s=12, edgecolor='0.05',\n",
    "                        linewidth=0.25, alpha=1.0, c='lightskyblue',label='Differential evolution')\n",
    "CSl = ax.contour(CS,levels=[np.log10(0.12),],colors='red',linestyles='solid',linewidths=2)\n",
    "CS2l = ax.contour(Ms_W,Sigmas_W,np.log10(Os_an),levels=[np.log10(0.12),],colors='yellow',linestyles='dashed',linewidths=2)\n",
    "cbar = fig.colorbar(CS)\n",
    "cbar.add_lines(CSl)\n",
    "\n",
    "ax.legend()\n",
    "\n",
    "h0,_ = de_scatter.legend_elements(prop='sizes',color=de_scatter.cmap(1.5))\n",
    "h1,_ = CSl.legend_elements()\n",
    "h2,_ = CS2l.legend_elements()\n",
    "\n",
    "ax.legend([de_scatter]+h1+h2,['Differential evolution','Ωh²=0.12 (numeric)','Ωh²=0.12 (analytic)'])\n",
    "\n",
    "#ax.add_artist(leg2)\n",
    "\n",
    "ax.set_title(r'$\\mathrm{log}(\\Omega h^2)$ WIMPs')\n",
    "#ax.set_ylim((-13,-8))\n",
    "ax.set_xlabel(r'$\\mathrm{log}m$')\n",
    "ax.set_ylabel(r'$\\mathrm{log}\\langle\\sigma v\\rangle$')\n",
    "plt.savefig('omegah2_WIMPs.pdf')\n",
    "plt.show()"
   ]
  },
  {
   "cell_type": "code",
   "execution_count": 17,
   "metadata": {},
   "outputs": [
    {
     "ename": "NameError",
     "evalue": "name 'CSl' is not defined",
     "output_type": "error",
     "traceback": [
      "\u001b[0;31m---------------------------------------------------------------------------\u001b[0m",
      "\u001b[0;31mNameError\u001b[0m                                 Traceback (most recent call last)",
      "Cell \u001b[0;32mIn[17], line 1\u001b[0m\n\u001b[0;32m----> 1\u001b[0m p_W \u001b[38;5;241m=\u001b[39m CSl\u001b[38;5;241m.\u001b[39mcollections[\u001b[38;5;241m0\u001b[39m]\u001b[38;5;241m.\u001b[39mget_paths()[\u001b[38;5;241m0\u001b[39m]\n\u001b[1;32m      2\u001b[0m v_W \u001b[38;5;241m=\u001b[39m p_W\u001b[38;5;241m.\u001b[39mvertices\n\u001b[1;32m      3\u001b[0m v_W \u001b[38;5;241m=\u001b[39m pd\u001b[38;5;241m.\u001b[39mDataFrame(v_W)\n",
      "\u001b[0;31mNameError\u001b[0m: name 'CSl' is not defined"
     ]
    }
   ],
   "source": [
    "p_W = CSl.collections[0].get_paths()[0]\n",
    "v_W = p_W.vertices\n",
    "v_W = pd.DataFrame(v_W)"
   ]
  },
  {
   "cell_type": "code",
   "execution_count": 18,
   "metadata": {},
   "outputs": [
    {
     "ename": "NameError",
     "evalue": "name 'v_W' is not defined",
     "output_type": "error",
     "traceback": [
      "\u001b[0;31m---------------------------------------------------------------------------\u001b[0m",
      "\u001b[0;31mNameError\u001b[0m                                 Traceback (most recent call last)",
      "Cell \u001b[0;32mIn[18], line 3\u001b[0m\n\u001b[1;32m      1\u001b[0m xini \u001b[38;5;241m=\u001b[39m \u001b[38;5;241m0.1\u001b[39m\n\u001b[1;32m      2\u001b[0m xfin \u001b[38;5;241m=\u001b[39m \u001b[38;5;241m1e4\u001b[39m\n\u001b[0;32m----> 3\u001b[0m m_exp, s_exp \u001b[38;5;241m=\u001b[39m v_W[(v_W[\u001b[38;5;241m0\u001b[39m]\u001b[38;5;241m>\u001b[39m\u001b[38;5;241m0.9\u001b[39m) \u001b[38;5;241m&\u001b[39m (v_W[\u001b[38;5;241m0\u001b[39m]\u001b[38;5;241m<\u001b[39m\u001b[38;5;241m1.1\u001b[39m)]\u001b[38;5;241m.\u001b[39mvalues[\u001b[38;5;241m0\u001b[39m]\n\u001b[1;32m      4\u001b[0m mass \u001b[38;5;241m=\u001b[39m \u001b[38;5;241m10.\u001b[39m\u001b[38;5;241m*\u001b[39m\u001b[38;5;241m*\u001b[39mm_exp\n\u001b[1;32m      5\u001b[0m sigma \u001b[38;5;241m=\u001b[39m \u001b[38;5;241m10.\u001b[39m\u001b[38;5;241m*\u001b[39m\u001b[38;5;241m*\u001b[39ms_exp\n",
      "\u001b[0;31mNameError\u001b[0m: name 'v_W' is not defined"
     ]
    }
   ],
   "source": [
    "xini = 0.1\n",
    "xfin = 1e4\n",
    "m_exp, s_exp = v_W[(v_W[0]>0.9) & (v_W[0]<1.1)].values[0]\n",
    "mass = 10.**m_exp\n",
    "sigma = 10.**s_exp\n",
    "Yini = Yeq(xini,mass,g)\n",
    "xss = np.linspace(xini,30,1000)\n",
    "Yfin = 4.3e-10/mass\n",
    "sol = solve_ivp(WIMPs, [xini,xfin], [Yini,], method='BDF', rtol=1e-8, atol=1e-10, args=(mass,sigma,g))\n",
    "sol_1 = solve_ivp(WIMPs, [xini,xfin], [Yini,], method='BDF', rtol=1e-8, atol=1e-10, args=(mass,sigma*10,g))\n",
    "sol_2 = solve_ivp(WIMPs, [xini,xfin], [Yini,], method='BDF', rtol=1e-8, atol=1e-10, args=(mass,sigma*100,g))\n",
    "sol_3 = solve_ivp(WIMPs, [xini,xfin], [Yini,], method='BDF', rtol=1e-8, atol=1e-10, args=(mass,sigma/10,g))\n",
    "sol_4 = solve_ivp(WIMPs, [xini,xfin], [Yini,], method='BDF', rtol=1e-8, atol=1e-10, args=(mass,sigma/100,g))\n",
    "plt.loglog(sol_4.t,sol_4.y[0],label=r'$\\log\\langle\\sigma v\\rangle=${s:8.2f}'.format(s=np.log10(sigma)-2),color='darkorange',linestyle='--')\n",
    "plt.loglog(sol_3.t,sol_3.y[0],label=r'$\\log\\langle\\sigma v\\rangle=${s:8.2f}'.format(s=np.log10(sigma)-1),color='orangered',linestyle='--')\n",
    "plt.loglog(sol.t,sol.y[0],label=r'$\\log\\langle\\sigma v\\rangle=${s:8.2f}'.format(s=np.log10(sigma)),color='r')\n",
    "plt.loglog(sol_1.t,sol_1.y[0],label=r'$\\log\\langle\\sigma v\\rangle=${s:8.2f}'.format(s=np.log10(sigma)+1),color='crimson',linestyle='--')\n",
    "plt.loglog(sol_2.t,sol_2.y[0],label=r'$\\log\\langle\\sigma v\\rangle=${s:8.2f}'.format(s=np.log10(sigma)+2),color='deeppink',linestyle='--')\n",
    "plt.loglog(xss,Yeq(xss,mass,g),label=r'$Y_{eq}$',color='b')\n",
    "plt.hlines(Yfin,xini,xfin,color='k',linestyle=':')\n",
    "plt.axhspan(0.9*Yfin,1.1*Yfin,0,1,color='yellow',alpha=0.5)\n",
    "#plt.ylim(2e-8,1e-2)\n",
    "plt.title(f'Boltzmann equation for WIMPs m={mass:.2f} GeV')\n",
    "plt.xlabel('x')\n",
    "plt.ylabel('Y')\n",
    "plt.grid()\n",
    "plt.legend()\n",
    "plt.savefig('Boltzmann_WIMP.pdf')\n",
    "plt.show()"
   ]
  },
  {
   "cell_type": "markdown",
   "metadata": {},
   "source": [
    "### Parametrization of WIMP cross section"
   ]
  },
  {
   "cell_type": "code",
   "execution_count": 19,
   "metadata": {},
   "outputs": [],
   "source": [
    "def WIMPs_par(x,Y,mass,alpha,g):\n",
    "    sigma = alpha**2/mass**2\n",
    "    H = (np.pi**2*gstar/90)**0.5*(mass/x)**2/MP\n",
    "    s = 2*np.pi**2/45*gstar*(mass/x)**3\n",
    "    dYdx = -sigma*s/(x*H)*(Y**2 - Yeq(x,mass,g)**2)\n",
    "    return dYdx"
   ]
  },
  {
   "cell_type": "code",
   "execution_count": 20,
   "metadata": {},
   "outputs": [
    {
     "data": {
      "application/vnd.jupyter.widget-view+json": {
       "model_id": "ee1252eba46940a9ac1f5bd5bf00a11a",
       "version_major": 2,
       "version_minor": 0
      },
      "text/plain": [
       "interactive(children=(FloatLogSlider(value=0.001, description='mass', max=5.0, min=-3.0, step=0.0001), FloatLo…"
      ]
     },
     "metadata": {},
     "output_type": "display_data"
    }
   ],
   "source": [
    "def graf5(mass,alpha,g):\n",
    "    xini = 0.1\n",
    "    xfin = 1e4\n",
    "    Yini = Yeq(xini,mass,g)\n",
    "    xss = np.linspace(xini,30,1000)\n",
    "    Yfin = 4.3e-10/mass\n",
    "    sol = solve_ivp(WIMPs_par, [xini,xfin], [Yini,], method='BDF', rtol=1e-8, atol=1e-10, args=(mass,alpha,g))\n",
    "    sigma = alpha**2/mass**2\n",
    "    plt.loglog(sol.t,sol.y[0],label=f'Ωh²={Omega(np.log10(mass),np.log10(sigma)):.3f}',color='r')\n",
    "    plt.loglog(xss,Yeq(xss,mass,g),label=r'$Y_{eq}$',color='b')\n",
    "    plt.hlines(Yfin,xini,xfin,color='k',linestyle=':')\n",
    "    plt.axhspan(0.9*Yfin,1.1*Yfin,0,1,color='yellow',alpha=0.5)\n",
    "    #plt.ylim(2e-8,1e-2)\n",
    "    plt.title(r\"Parametrization of WIMP's cross section $\\langle\\sigma v\\rangle=\\dfrac{\\alpha^2}{m^2}$\")\n",
    "    plt.xlabel('x')\n",
    "    plt.ylabel('Y')\n",
    "    plt.grid()\n",
    "    plt.legend()\n",
    "    plt.show()\n",
    "    \n",
    "slider_mass = widgets.FloatLogSlider(value=1e-3, base=10, min=-3, max=5,\n",
    "                                  step=0.0001, description='mass')\n",
    "slider_alpha = widgets.FloatLogSlider(value=1e-2, base=10, min=-5, max=0,\n",
    "                                  step=0.1, description='alpha')\n",
    "slider_g = widgets.FloatSlider(value=1, min=1, max=3,\n",
    "                                  step=1, description='g')\n",
    "# Crea la función interactiva\n",
    "\n",
    "interactive_plot5 = interactive(graf5, mass=slider_mass, alpha=slider_alpha, g=slider_g,\n",
    "                                continuous_update=0)\n",
    "\n",
    "# Muestra la función interactiva\n",
    "interactive_plot5"
   ]
  },
  {
   "cell_type": "code",
   "execution_count": 21,
   "metadata": {},
   "outputs": [],
   "source": [
    "Omega_par = lambda m,alpha: Omegah2_analytic(10.**m,(10.**alpha/10.**m)**2)"
   ]
  },
  {
   "cell_type": "code",
   "execution_count": 22,
   "metadata": {},
   "outputs": [
    {
     "ename": "NameError",
     "evalue": "name 'g' is not defined",
     "output_type": "error",
     "traceback": [
      "\u001b[0;31m---------------------------------------------------------------------------\u001b[0m",
      "\u001b[0;31mNameError\u001b[0m                                 Traceback (most recent call last)",
      "Cell \u001b[0;32mIn[22], line 6\u001b[0m\n\u001b[1;32m      2\u001b[0m alphas \u001b[38;5;241m=\u001b[39m np\u001b[38;5;241m.\u001b[39mlinspace(\u001b[38;5;241m-\u001b[39m\u001b[38;5;241m5\u001b[39m,\u001b[38;5;241m0\u001b[39m)\n\u001b[1;32m      4\u001b[0m Ms, Alphas \u001b[38;5;241m=\u001b[39m np\u001b[38;5;241m.\u001b[39mmeshgrid(ms,alphas)\n\u001b[0;32m----> 6\u001b[0m Os_par \u001b[38;5;241m=\u001b[39m Omega_par(Ms,Alphas)\n\u001b[1;32m      8\u001b[0m fig, ax \u001b[38;5;241m=\u001b[39m plt\u001b[38;5;241m.\u001b[39msubplots(figsize\u001b[38;5;241m=\u001b[39m(\u001b[38;5;241m8\u001b[39m,\u001b[38;5;241m6\u001b[39m))\n\u001b[1;32m      9\u001b[0m CS \u001b[38;5;241m=\u001b[39m ax\u001b[38;5;241m.\u001b[39mcontourf(Ms,Alphas,np\u001b[38;5;241m.\u001b[39mlog10(Os_par),cmap\u001b[38;5;241m=\u001b[39m\u001b[38;5;124m'\u001b[39m\u001b[38;5;124minferno\u001b[39m\u001b[38;5;124m'\u001b[39m,)\n",
      "Cell \u001b[0;32mIn[21], line 1\u001b[0m, in \u001b[0;36m<lambda>\u001b[0;34m(m, alpha)\u001b[0m\n\u001b[0;32m----> 1\u001b[0m Omega_par \u001b[38;5;241m=\u001b[39m \u001b[38;5;28;01mlambda\u001b[39;00m m,alpha: Omegah2_analytic(\u001b[38;5;241m10.\u001b[39m\u001b[38;5;241m*\u001b[39m\u001b[38;5;241m*\u001b[39mm,(\u001b[38;5;241m10.\u001b[39m\u001b[38;5;241m*\u001b[39m\u001b[38;5;241m*\u001b[39malpha\u001b[38;5;241m/\u001b[39m\u001b[38;5;241m10.\u001b[39m\u001b[38;5;241m*\u001b[39m\u001b[38;5;241m*\u001b[39mm)\u001b[38;5;241m*\u001b[39m\u001b[38;5;241m*\u001b[39m\u001b[38;5;241m2\u001b[39m)\n",
      "File \u001b[0;32m~/anaconda3/lib/python3.12/site-packages/numpy/lib/function_base.py:2372\u001b[0m, in \u001b[0;36mvectorize.__call__\u001b[0;34m(self, *args, **kwargs)\u001b[0m\n\u001b[1;32m   2369\u001b[0m     \u001b[38;5;28mself\u001b[39m\u001b[38;5;241m.\u001b[39m_init_stage_2(\u001b[38;5;241m*\u001b[39margs, \u001b[38;5;241m*\u001b[39m\u001b[38;5;241m*\u001b[39mkwargs)\n\u001b[1;32m   2370\u001b[0m     \u001b[38;5;28;01mreturn\u001b[39;00m \u001b[38;5;28mself\u001b[39m\n\u001b[0;32m-> 2372\u001b[0m \u001b[38;5;28;01mreturn\u001b[39;00m \u001b[38;5;28mself\u001b[39m\u001b[38;5;241m.\u001b[39m_call_as_normal(\u001b[38;5;241m*\u001b[39margs, \u001b[38;5;241m*\u001b[39m\u001b[38;5;241m*\u001b[39mkwargs)\n",
      "File \u001b[0;32m~/anaconda3/lib/python3.12/site-packages/numpy/lib/function_base.py:2365\u001b[0m, in \u001b[0;36mvectorize._call_as_normal\u001b[0;34m(self, *args, **kwargs)\u001b[0m\n\u001b[1;32m   2362\u001b[0m     vargs \u001b[38;5;241m=\u001b[39m [args[_i] \u001b[38;5;28;01mfor\u001b[39;00m _i \u001b[38;5;129;01min\u001b[39;00m inds]\n\u001b[1;32m   2363\u001b[0m     vargs\u001b[38;5;241m.\u001b[39mextend([kwargs[_n] \u001b[38;5;28;01mfor\u001b[39;00m _n \u001b[38;5;129;01min\u001b[39;00m names])\n\u001b[0;32m-> 2365\u001b[0m \u001b[38;5;28;01mreturn\u001b[39;00m \u001b[38;5;28mself\u001b[39m\u001b[38;5;241m.\u001b[39m_vectorize_call(func\u001b[38;5;241m=\u001b[39mfunc, args\u001b[38;5;241m=\u001b[39mvargs)\n",
      "File \u001b[0;32m~/anaconda3/lib/python3.12/site-packages/numpy/lib/function_base.py:2450\u001b[0m, in \u001b[0;36mvectorize._vectorize_call\u001b[0;34m(self, func, args)\u001b[0m\n\u001b[1;32m   2448\u001b[0m     res \u001b[38;5;241m=\u001b[39m func()\n\u001b[1;32m   2449\u001b[0m \u001b[38;5;28;01melse\u001b[39;00m:\n\u001b[0;32m-> 2450\u001b[0m     ufunc, otypes \u001b[38;5;241m=\u001b[39m \u001b[38;5;28mself\u001b[39m\u001b[38;5;241m.\u001b[39m_get_ufunc_and_otypes(func\u001b[38;5;241m=\u001b[39mfunc, args\u001b[38;5;241m=\u001b[39margs)\n\u001b[1;32m   2452\u001b[0m     \u001b[38;5;66;03m# Convert args to object arrays first\u001b[39;00m\n\u001b[1;32m   2453\u001b[0m     inputs \u001b[38;5;241m=\u001b[39m [asanyarray(a, dtype\u001b[38;5;241m=\u001b[39m\u001b[38;5;28mobject\u001b[39m) \u001b[38;5;28;01mfor\u001b[39;00m a \u001b[38;5;129;01min\u001b[39;00m args]\n",
      "File \u001b[0;32m~/anaconda3/lib/python3.12/site-packages/numpy/lib/function_base.py:2410\u001b[0m, in \u001b[0;36mvectorize._get_ufunc_and_otypes\u001b[0;34m(self, func, args)\u001b[0m\n\u001b[1;32m   2406\u001b[0m     \u001b[38;5;28;01mraise\u001b[39;00m \u001b[38;5;167;01mValueError\u001b[39;00m(\u001b[38;5;124m'\u001b[39m\u001b[38;5;124mcannot call `vectorize` on size 0 inputs \u001b[39m\u001b[38;5;124m'\u001b[39m\n\u001b[1;32m   2407\u001b[0m                      \u001b[38;5;124m'\u001b[39m\u001b[38;5;124munless `otypes` is set\u001b[39m\u001b[38;5;124m'\u001b[39m)\n\u001b[1;32m   2409\u001b[0m inputs \u001b[38;5;241m=\u001b[39m [arg\u001b[38;5;241m.\u001b[39mflat[\u001b[38;5;241m0\u001b[39m] \u001b[38;5;28;01mfor\u001b[39;00m arg \u001b[38;5;129;01min\u001b[39;00m args]\n\u001b[0;32m-> 2410\u001b[0m outputs \u001b[38;5;241m=\u001b[39m func(\u001b[38;5;241m*\u001b[39minputs)\n\u001b[1;32m   2412\u001b[0m \u001b[38;5;66;03m# Performance note: profiling indicates that -- for simple\u001b[39;00m\n\u001b[1;32m   2413\u001b[0m \u001b[38;5;66;03m# functions at least -- this wrapping can almost double the\u001b[39;00m\n\u001b[1;32m   2414\u001b[0m \u001b[38;5;66;03m# execution time.\u001b[39;00m\n\u001b[1;32m   2415\u001b[0m \u001b[38;5;66;03m# Hence we make it optional.\u001b[39;00m\n\u001b[1;32m   2416\u001b[0m \u001b[38;5;28;01mif\u001b[39;00m \u001b[38;5;28mself\u001b[39m\u001b[38;5;241m.\u001b[39mcache:\n",
      "Cell \u001b[0;32mIn[16], line 2\u001b[0m, in \u001b[0;36mOmegah2_analytic\u001b[0;34m(mass, sigma, n)\u001b[0m\n\u001b[1;32m      1\u001b[0m \u001b[38;5;28;01mdef\u001b[39;00m \u001b[38;5;21mOmegah2_analytic\u001b[39m(mass,sigma,n\u001b[38;5;241m=\u001b[39m\u001b[38;5;241m0\u001b[39m):\n\u001b[0;32m----> 2\u001b[0m     A \u001b[38;5;241m=\u001b[39m np\u001b[38;5;241m.\u001b[39mlog(\u001b[38;5;241m0.038\u001b[39m\u001b[38;5;241m*\u001b[39m(n\u001b[38;5;241m+\u001b[39m\u001b[38;5;241m1\u001b[39m)\u001b[38;5;241m*\u001b[39mg\u001b[38;5;241m/\u001b[39m(gstar\u001b[38;5;241m*\u001b[39m\u001b[38;5;241m*\u001b[39m\u001b[38;5;241m0.5\u001b[39m)\u001b[38;5;241m*\u001b[39m(\u001b[38;5;241m8\u001b[39m\u001b[38;5;241m*\u001b[39mnp\u001b[38;5;241m.\u001b[39mpi)\u001b[38;5;241m*\u001b[39m\u001b[38;5;241m*\u001b[39m\u001b[38;5;241m0.5\u001b[39m\u001b[38;5;241m*\u001b[39mMP\u001b[38;5;241m*\u001b[39mmass\u001b[38;5;241m*\u001b[39msigma)\n\u001b[1;32m      3\u001b[0m     xf \u001b[38;5;241m=\u001b[39m A\u001b[38;5;241m-\u001b[39m(n\u001b[38;5;241m+\u001b[39m\u001b[38;5;241m0.5\u001b[39m)\u001b[38;5;241m*\u001b[39mnp\u001b[38;5;241m.\u001b[39mlog(A)\n\u001b[1;32m      4\u001b[0m     omh \u001b[38;5;241m=\u001b[39m \u001b[38;5;241m1.07e9\u001b[39m\u001b[38;5;241m*\u001b[39m(n\u001b[38;5;241m+\u001b[39m\u001b[38;5;241m1\u001b[39m)\u001b[38;5;241m*\u001b[39mxf\u001b[38;5;241m*\u001b[39m\u001b[38;5;241m*\u001b[39m(n\u001b[38;5;241m+\u001b[39m\u001b[38;5;241m1\u001b[39m)\u001b[38;5;241m/\u001b[39m((gstar\u001b[38;5;241m/\u001b[39mgstar\u001b[38;5;241m*\u001b[39m\u001b[38;5;241m*\u001b[39m\u001b[38;5;241m0.5\u001b[39m)\u001b[38;5;241m*\u001b[39m(\u001b[38;5;241m8\u001b[39m\u001b[38;5;241m*\u001b[39mnp\u001b[38;5;241m.\u001b[39mpi)\u001b[38;5;241m*\u001b[39m\u001b[38;5;241m*\u001b[39m\u001b[38;5;241m0.5\u001b[39m\u001b[38;5;241m*\u001b[39mMP\u001b[38;5;241m*\u001b[39msigma)\n",
      "\u001b[0;31mNameError\u001b[0m: name 'g' is not defined"
     ]
    }
   ],
   "source": [
    "ms = np.linspace(-3,5)\n",
    "alphas = np.linspace(-5,0)\n",
    "\n",
    "Ms, Alphas = np.meshgrid(ms,alphas)\n",
    "\n",
    "Os_par = Omega_par(Ms,Alphas)\n",
    "\n",
    "fig, ax = plt.subplots(figsize=(8,6))\n",
    "CS = ax.contourf(Ms,Alphas,np.log10(Os_par),cmap='inferno',)\n",
    "CSl = ax.contour(CS,levels=[np.log10(0.12),],colors='r',linestyles='solid',linewidths=2)\n",
    "ax.set_title(r'$\\mathrm{log}(\\Omega h^2)$')\n",
    "ax.set_xlabel(r'$\\mathrm{log}m$')\n",
    "ax.set_ylabel(r'$\\mathrm{log}\\alpha$')\n",
    "h1,_ = CSl.legend_elements()\n",
    "ax.legend(h1,['Ωh²=0.12'])\n",
    "cbar = fig.colorbar(CS)\n",
    "cbar.add_lines(CSl)"
   ]
  },
  {
   "cell_type": "code",
   "execution_count": 23,
   "metadata": {},
   "outputs": [
    {
     "ename": "NameError",
     "evalue": "name 'CSl' is not defined",
     "output_type": "error",
     "traceback": [
      "\u001b[0;31m---------------------------------------------------------------------------\u001b[0m",
      "\u001b[0;31mNameError\u001b[0m                                 Traceback (most recent call last)",
      "Cell \u001b[0;32mIn[23], line 1\u001b[0m\n\u001b[0;32m----> 1\u001b[0m p \u001b[38;5;241m=\u001b[39m CSl\u001b[38;5;241m.\u001b[39mcollections[\u001b[38;5;241m0\u001b[39m]\u001b[38;5;241m.\u001b[39mget_paths()[\u001b[38;5;241m0\u001b[39m]\n\u001b[1;32m      2\u001b[0m v \u001b[38;5;241m=\u001b[39m p\u001b[38;5;241m.\u001b[39mvertices\n\u001b[1;32m      3\u001b[0m d \u001b[38;5;241m=\u001b[39m pd\u001b[38;5;241m.\u001b[39mDataFrame(v,columns\u001b[38;5;241m=\u001b[39m[\u001b[38;5;124m'\u001b[39m\u001b[38;5;124mlogm\u001b[39m\u001b[38;5;124m'\u001b[39m,\u001b[38;5;124m'\u001b[39m\u001b[38;5;124mloga\u001b[39m\u001b[38;5;124m'\u001b[39m])\n",
      "\u001b[0;31mNameError\u001b[0m: name 'CSl' is not defined"
     ]
    }
   ],
   "source": [
    "p = CSl.collections[0].get_paths()[0]\n",
    "v = p.vertices\n",
    "d = pd.DataFrame(v,columns=['logm','loga'])\n",
    "Mmax = 10.**d[d['loga']==0]['logm'].values[0]\n",
    "\n",
    "print(f'The maximal mass value compatible with perturbativity is {Mmax:.2f} GeV')"
   ]
  },
  {
   "cell_type": "markdown",
   "metadata": {},
   "source": [
    "### FIMPs"
   ]
  },
  {
   "cell_type": "code",
   "execution_count": 24,
   "metadata": {},
   "outputs": [],
   "source": [
    "def FIMPs(x,Y,mass,sigma,g):\n",
    "    a = 45/(4*np.pi**4*gstar)\n",
    "    b = (2/15)*(10*gstar)**0.5*MP\n",
    "    return sigma*a**2*b*mass*g**2*(x*kn(2,x))**2\n",
    "\n",
    "FIMPs = np.vectorize(FIMPs)"
   ]
  },
  {
   "cell_type": "code",
   "execution_count": 25,
   "metadata": {},
   "outputs": [],
   "source": [
    "def FIMPs_an(x,mass,sigma,g,xini=0.1,integval=None):\n",
    "    a = 45/(4*np.pi**4*gstar)\n",
    "    b = (2/15)*(10*gstar)**0.5*MP\n",
    "    if integval:\n",
    "        integ = integval\n",
    "    else:\n",
    "        integ = quad(lambda x:(x*kn(2,x))**2,xini,x)[0]\n",
    "    return sigma*a**2*b*mass*g**2*integ\n",
    "\n",
    "FIMPs_an = np.vectorize(FIMPs_an)"
   ]
  },
  {
   "cell_type": "code",
   "execution_count": null,
   "metadata": {},
   "outputs": [
    {
     "data": {
      "application/vnd.jupyter.widget-view+json": {
       "model_id": "0c8b0e95d3df439cbc4a08ae6117f610",
       "version_major": 2,
       "version_minor": 0
      },
      "text/plain": [
       "interactive(children=(FloatLogSlider(value=0.001, description='mass', max=3.0, min=-6.0, step=0.0001), FloatLo…"
      ]
     },
     "metadata": {},
     "output_type": "display_data"
    }
   ],
   "source": [
    "def graf4(mass,sigma,g):\n",
    "    xini = 0.1\n",
    "    xfin = 1e4\n",
    "    Yini = 0.\n",
    "    xss = np.linspace(xini,30,1000)\n",
    "\n",
    "    xs = np.logspace(np.log10(xini),np.log10(xfin),1000)\n",
    "    an = FIMPs_an(xs,mass,sigma,g,xini)\n",
    "\n",
    "    Yfin = 4.3e-10/mass\n",
    "    sol = solve_ivp(FIMPs, [xini,xfin], [Yini,], method='BDF', rtol=1e-8, atol=1e-10, args=(mass,sigma,g))\n",
    "    plt.loglog(sol.t,sol.y[0],label=f'Ωh²={Omega(np.log10(mass),np.log10(sigma),model=FIMPs,g=g):.3f}',color='r')\n",
    "    plt.loglog(xss,Yeq(xss,mass,g),color='b',label=r'$Y_{eq}$')\n",
    "    plt.hlines(Yfin,xini,xfin,color='k',linestyle=':')\n",
    "    plt.axhspan(0.9*Yfin,1.1*Yfin,0,1,color='yellow',alpha=0.5)\n",
    "    #plt.ylim(2e-8,1e-2)\n",
    "    plt.title(\"Boltzmann equation for FIMPs\")\n",
    "    plt.xlabel('x')\n",
    "    plt.ylabel('Y')\n",
    "    plt.grid()\n",
    "    plt.legend()\n",
    "    plt.show()\n",
    "    \n",
    "slider_mass = widgets.FloatLogSlider(value=1e-3, base=10, min=-6, max=3,\n",
    "                                  step=0.0001, description='mass')\n",
    "slider_sigma = widgets.FloatLogSlider(value=1e-12, base=10, min=-32, max=-12,\n",
    "                                  step=0.1, description='sigma')\n",
    "slider_g = widgets.FloatSlider(value=1, min=1, max=3,\n",
    "                                  step=1, description='g')\n",
    "# Crea la función interactiva\n",
    "\n",
    "interactive_plot4 = interactive(graf4, mass=slider_mass, sigma=slider_sigma, g=slider_g,\n",
    "                                continuous_update=0)\n",
    "\n",
    "# Muestra la función interactiva\n",
    "interactive_plot4"
   ]
  },
  {
   "cell_type": "code",
   "execution_count": 27,
   "metadata": {},
   "outputs": [],
   "source": [
    "ms_F = np.linspace(-6,3)\n",
    "sigmas_F = np.linspace(-32,-12)\n",
    "\n",
    "Ms_F, Sigmas_F = np.meshgrid(ms_F,sigmas_F)"
   ]
  },
  {
   "cell_type": "code",
   "execution_count": 28,
   "metadata": {},
   "outputs": [
    {
     "ename": "NameError",
     "evalue": "name 'g' is not defined",
     "output_type": "error",
     "traceback": [
      "\u001b[0;31m---------------------------------------------------------------------------\u001b[0m",
      "\u001b[0;31mNameError\u001b[0m                                 Traceback (most recent call last)",
      "Cell \u001b[0;32mIn[28], line 1\u001b[0m\n\u001b[0;32m----> 1\u001b[0m Om_FIMP \u001b[38;5;241m=\u001b[39m Omega(Ms_F,Sigmas_F,model\u001b[38;5;241m=\u001b[39mFIMPs,g\u001b[38;5;241m=\u001b[39mg)\n\u001b[1;32m      2\u001b[0m Om_FIMP_an \u001b[38;5;241m=\u001b[39m FIMPs_an(np\u001b[38;5;241m.\u001b[39minf,\u001b[38;5;241m10.\u001b[39m\u001b[38;5;241m*\u001b[39m\u001b[38;5;241m*\u001b[39mMs_F,\u001b[38;5;241m10.\u001b[39m\u001b[38;5;241m*\u001b[39m\u001b[38;5;241m*\u001b[39mSigmas_F,g\u001b[38;5;241m=\u001b[39mg)\u001b[38;5;241m*\u001b[39m\u001b[38;5;241m10.\u001b[39m\u001b[38;5;241m*\u001b[39m\u001b[38;5;241m*\u001b[39mMs_F\u001b[38;5;241m*\u001b[39ms0\u001b[38;5;241m/\u001b[39m(\u001b[38;5;241m3\u001b[39m\u001b[38;5;241m*\u001b[39mMP\u001b[38;5;241m*\u001b[39m\u001b[38;5;241m*\u001b[39m\u001b[38;5;241m2\u001b[39m\u001b[38;5;241m*\u001b[39m(\u001b[38;5;241m2.13e-42\u001b[39m)\u001b[38;5;241m*\u001b[39m\u001b[38;5;241m*\u001b[39m\u001b[38;5;241m2\u001b[39m)\n",
      "\u001b[0;31mNameError\u001b[0m: name 'g' is not defined"
     ]
    }
   ],
   "source": [
    "Om_FIMP = Omega(Ms_F,Sigmas_F,model=FIMPs,g=g)\n",
    "Om_FIMP_an = FIMPs_an(np.inf,10.**Ms_F,10.**Sigmas_F,g=g)*10.**Ms_F*s0/(3*MP**2*(2.13e-42)**2)"
   ]
  },
  {
   "cell_type": "code",
   "execution_count": 29,
   "metadata": {},
   "outputs": [],
   "source": [
    "bound_m_F = (-6,3)\n",
    "bound_sigma_F = (-32,-12)"
   ]
  },
  {
   "cell_type": "code",
   "execution_count": null,
   "metadata": {},
   "outputs": [],
   "source": [
    "if scan:\n",
    "    df_FIMP = obtain_optimal_params(FIMPs,bound_m_F,bound_sigma_F,g,descan=scan)\n",
    "else: \n",
    "    path_FIMP = 'https://raw.githubusercontent.com/SantiagoJulioD/Trabajo_de_grado/refs/heads/main/Relic_density/optimal_params_FIMPs.csv'\n",
    "    df_FIMP = obtain_optimal_params(WIMPs,bound_m,bound_sigma,g,descan=scan,path=path_FIMP)"
   ]
  },
  {
   "cell_type": "code",
   "execution_count": 30,
   "metadata": {},
   "outputs": [
    {
     "ename": "NameError",
     "evalue": "name 'Om_FIMP' is not defined",
     "output_type": "error",
     "traceback": [
      "\u001b[0;31m---------------------------------------------------------------------------\u001b[0m",
      "\u001b[0;31mNameError\u001b[0m                                 Traceback (most recent call last)",
      "Cell \u001b[0;32mIn[30], line 2\u001b[0m\n\u001b[1;32m      1\u001b[0m fig, ax \u001b[38;5;241m=\u001b[39m plt\u001b[38;5;241m.\u001b[39msubplots(figsize\u001b[38;5;241m=\u001b[39m(\u001b[38;5;241m8\u001b[39m,\u001b[38;5;241m6\u001b[39m))\n\u001b[0;32m----> 2\u001b[0m CS \u001b[38;5;241m=\u001b[39m ax\u001b[38;5;241m.\u001b[39mcontourf(Ms_F,Sigmas_F,np\u001b[38;5;241m.\u001b[39mlog10(Om_FIMP),cmap\u001b[38;5;241m=\u001b[39m\u001b[38;5;124m'\u001b[39m\u001b[38;5;124minferno\u001b[39m\u001b[38;5;124m'\u001b[39m,)\n\u001b[1;32m      3\u001b[0m de_scatter \u001b[38;5;241m=\u001b[39m ax\u001b[38;5;241m.\u001b[39mscatter(df_FIMP[\u001b[38;5;124m'\u001b[39m\u001b[38;5;124mlog(m)\u001b[39m\u001b[38;5;124m'\u001b[39m], df_FIMP[\u001b[38;5;124m'\u001b[39m\u001b[38;5;124mlog(sigma*v)\u001b[39m\u001b[38;5;124m'\u001b[39m], s\u001b[38;5;241m=\u001b[39m\u001b[38;5;241m12\u001b[39m, edgecolor\u001b[38;5;241m=\u001b[39m\u001b[38;5;124m'\u001b[39m\u001b[38;5;124m0.05\u001b[39m\u001b[38;5;124m'\u001b[39m,\n\u001b[1;32m      4\u001b[0m                         linewidth\u001b[38;5;241m=\u001b[39m\u001b[38;5;241m0.25\u001b[39m, alpha\u001b[38;5;241m=\u001b[39m\u001b[38;5;241m1.0\u001b[39m, c\u001b[38;5;241m=\u001b[39m\u001b[38;5;124m'\u001b[39m\u001b[38;5;124mlightskyblue\u001b[39m\u001b[38;5;124m'\u001b[39m,label\u001b[38;5;241m=\u001b[39m\u001b[38;5;124m'\u001b[39m\u001b[38;5;124mDifferential evolution\u001b[39m\u001b[38;5;124m'\u001b[39m)\n\u001b[1;32m      5\u001b[0m CSl \u001b[38;5;241m=\u001b[39m ax\u001b[38;5;241m.\u001b[39mcontour(CS,levels\u001b[38;5;241m=\u001b[39m[np\u001b[38;5;241m.\u001b[39mlog10(\u001b[38;5;241m0.12\u001b[39m),],colors\u001b[38;5;241m=\u001b[39m\u001b[38;5;124m'\u001b[39m\u001b[38;5;124mr\u001b[39m\u001b[38;5;124m'\u001b[39m,linestyles\u001b[38;5;241m=\u001b[39m\u001b[38;5;124m'\u001b[39m\u001b[38;5;124msolid\u001b[39m\u001b[38;5;124m'\u001b[39m,linewidths\u001b[38;5;241m=\u001b[39m\u001b[38;5;241m2\u001b[39m)\n",
      "\u001b[0;31mNameError\u001b[0m: name 'Om_FIMP' is not defined"
     ]
    },
    {
     "data": {
      "image/png": "[encoded data removed]",
      "text/plain": [
       "<Figure size 800x600 with 1 Axes>"
      ]
     },
     "metadata": {},
     "output_type": "display_data"
    }
   ],
   "source": [
    "fig, ax = plt.subplots(figsize=(8,6))\n",
    "CS = ax.contourf(Ms_F,Sigmas_F,np.log10(Om_FIMP),cmap='inferno',)\n",
    "de_scatter = ax.scatter(df_FIMP['log(m)'], df_FIMP['log(sigma*v)'], s=12, edgecolor='0.05',\n",
    "                        linewidth=0.25, alpha=1.0, c='lightskyblue',label='Differential evolution')\n",
    "CSl = ax.contour(CS,levels=[np.log10(0.12),],colors='r',linestyles='solid',linewidths=2)\n",
    "CSl2 = ax.contour(Ms_F,Sigmas_F,np.log10(Om_FIMP_an),levels=[np.log10(0.12),],colors='yellow',linestyles='dotted',linewidths=2)\n",
    "h0,_ = de_scatter.legend_elements(prop='sizes',color=de_scatter.cmap(1.5))\n",
    "h1,_ = CSl.legend_elements()\n",
    "h2,_ = CS2l.legend_elements()\n",
    "cbar = fig.colorbar(CS)\n",
    "cbar.add_lines(CSl)\n",
    "\n",
    "ax.legend([de_scatter]+h1+h2,['Differential evolution','Ωh²=0.12 (numeric)','Ωh²=0.12 (analytic)'])\n",
    "\n",
    "#ax.add_artist(leg2)\n",
    "\n",
    "ax.set_title(r'$\\mathrm{log}(\\Omega h^2)$ FIMPs')\n",
    "#ax.set_ylim((-13,-8))\n",
    "ax.set_xlabel(r'$\\mathrm{log}m$')\n",
    "ax.set_ylabel(r'$\\mathrm{log}\\langle\\sigma v\\rangle$')\n",
    "plt.savefig('omegah2_FIMPs.pdf')\n",
    "plt.show()"
   ]
  },
  {
   "cell_type": "code",
   "execution_count": null,
   "metadata": {},
   "outputs": [],
   "source": [
    "p_F = CSl.collections[0].get_paths()[0]\n",
    "v_F = p_F.vertices\n",
    "v_F = pd.DataFrame(v_F)"
   ]
  },
  {
   "cell_type": "code",
   "execution_count": 31,
   "metadata": {},
   "outputs": [
    {
     "ename": "NameError",
     "evalue": "name 'v_F' is not defined",
     "output_type": "error",
     "traceback": [
      "\u001b[0;31m---------------------------------------------------------------------------\u001b[0m",
      "\u001b[0;31mNameError\u001b[0m                                 Traceback (most recent call last)",
      "Cell \u001b[0;32mIn[31], line 3\u001b[0m\n\u001b[1;32m      1\u001b[0m xini \u001b[38;5;241m=\u001b[39m \u001b[38;5;241m0.1\u001b[39m\n\u001b[1;32m      2\u001b[0m xfin \u001b[38;5;241m=\u001b[39m \u001b[38;5;241m1e4\u001b[39m\n\u001b[0;32m----> 3\u001b[0m m_exp, s_exp \u001b[38;5;241m=\u001b[39m v_F[(v_F[\u001b[38;5;241m0\u001b[39m]\u001b[38;5;241m>\u001b[39m\u001b[38;5;241m0.9\u001b[39m) \u001b[38;5;241m&\u001b[39m (v_F[\u001b[38;5;241m0\u001b[39m]\u001b[38;5;241m<\u001b[39m\u001b[38;5;241m1.1\u001b[39m)]\u001b[38;5;241m.\u001b[39mvalues[\u001b[38;5;241m0\u001b[39m]\n\u001b[1;32m      4\u001b[0m mass \u001b[38;5;241m=\u001b[39m \u001b[38;5;241m10.\u001b[39m\u001b[38;5;241m*\u001b[39m\u001b[38;5;241m*\u001b[39mm_exp\n\u001b[1;32m      5\u001b[0m sigma \u001b[38;5;241m=\u001b[39m \u001b[38;5;241m10.\u001b[39m\u001b[38;5;241m*\u001b[39m\u001b[38;5;241m*\u001b[39ms_exp\n",
      "\u001b[0;31mNameError\u001b[0m: name 'v_F' is not defined"
     ]
    }
   ],
   "source": [
    "xini = 0.1\n",
    "xfin = 1e4\n",
    "m_exp, s_exp = v_F[(v_F[0]>0.9) & (v_F[0]<1.1)].values[0]\n",
    "mass = 10.**m_exp\n",
    "sigma = 10.**s_exp\n",
    "Yini = 0.\n",
    "xss = np.linspace(xini,30,1000)\n",
    "Yfin = 4.3e-10/mass\n",
    "sol = solve_ivp(FIMPs, [xini,xfin], [Yini,], method='BDF', rtol=1e-8, atol=1e-10, args=(mass,sigma,g))\n",
    "sol_1 = solve_ivp(FIMPs, [xini,xfin], [Yini,], method='BDF', rtol=1e-8, atol=1e-10, args=(mass,sigma*10,g))\n",
    "sol_2 = solve_ivp(FIMPs, [xini,xfin], [Yini,], method='BDF', rtol=1e-8, atol=1e-10, args=(mass,sigma*100,g))\n",
    "sol_3 = solve_ivp(FIMPs, [xini,xfin], [Yini,], method='BDF', rtol=1e-8, atol=1e-10, args=(mass,sigma/10,g))\n",
    "sol_4 = solve_ivp(FIMPs, [xini,xfin], [Yini,], method='BDF', rtol=1e-8, atol=1e-10, args=(mass,sigma/100,g))\n",
    "plt.loglog(sol_4.t,sol_4.y[0],label=r'$\\log\\langle\\sigma v\\rangle=${s:8.2f}'.format(s=np.log10(sigma)-2),color='darkorange',linestyle='--')\n",
    "plt.loglog(sol_3.t,sol_3.y[0],label=r'$\\log\\langle\\sigma v\\rangle=${s:8.2f}'.format(s=np.log10(sigma)-1),color='orangered',linestyle='--')\n",
    "plt.loglog(sol.t,sol.y[0],label=r'$\\log\\langle\\sigma v\\rangle=${s:8.2f}'.format(s=np.log10(sigma)),color='r')\n",
    "plt.loglog(sol_1.t,sol_1.y[0],label=r'$\\log\\langle\\sigma v\\rangle=${s:8.2f}'.format(s=np.log10(sigma)+1),color='crimson',linestyle='--')\n",
    "plt.loglog(sol_2.t,sol_2.y[0],label=r'$\\log\\langle\\sigma v\\rangle=${s:8.2f}'.format(s=np.log10(sigma)+2),color='deeppink',linestyle='--')\n",
    "plt.loglog(xss,Yeq(xss,mass,g),label=r'$Y_{eq}$',color='b')\n",
    "plt.hlines(Yfin,xini,xfin,color='k',linestyle=':')\n",
    "plt.axhspan(0.9*Yfin,1.1*Yfin,0,1,color='yellow',alpha=0.5)\n",
    "#plt.ylim(2e-8,1e-2)\n",
    "plt.title(f'Boltzmann equation for FIMPs m={mass:.2f} GeV')\n",
    "plt.xlabel('x')\n",
    "plt.ylabel('Y')\n",
    "plt.grid()\n",
    "plt.legend()\n",
    "plt.savefig('Boltzmann_FIMP.pdf')\n",
    "plt.show()"
   ]
  },
  {
   "cell_type": "code",
   "execution_count": null,
   "metadata": {},
   "outputs": [
    {
     "data": {
      "text/plain": [
       "-6.0"
      ]
     },
     "execution_count": 197,
     "metadata": {},
     "output_type": "execute_result"
    }
   ],
   "source": [
    "m_exp"
   ]
  },
  {
   "cell_type": "markdown",
   "metadata": {},
   "source": [
    "### WIMPs semi-annihilation and SIMPs"
   ]
  },
  {
   "cell_type": "code",
   "execution_count": 32,
   "metadata": {},
   "outputs": [],
   "source": [
    "def WIMPs_SA(x,Y,mass,sigma,g):\n",
    "    H = (np.pi**2*gstar/90)**0.5*(mass/x)**2/MP\n",
    "    s = 2*np.pi**2/45*gstar*(mass/x)**3\n",
    "    dYdx = -sigma*s/(x*H)*(Y**2 - Y*Yeq(x,mass,g))\n",
    "    return dYdx\n",
    "\n",
    "def SIMPs(x,Y,mass,sigma,g):\n",
    "    H = (np.pi**2*gstar/90)**0.5*(mass/x)**2/MP\n",
    "    s = 2*np.pi**2/45*gstar*(mass/x)**3\n",
    "    dYdx = -sigma*s**2/(x*H)*(Y**3 - Y**2*Yeq(x,mass,g))\n",
    "    return dYdx"
   ]
  },
  {
   "cell_type": "code",
   "execution_count": 33,
   "metadata": {},
   "outputs": [
    {
     "data": {
      "application/vnd.jupyter.widget-view+json": {
       "model_id": "0433660da6474b43bec854e60f2a2a81",
       "version_major": 2,
       "version_minor": 0
      },
      "text/plain": [
       "interactive(children=(FloatLogSlider(value=0.975, description='mass', min=-3.0, step=0.0001), FloatLogSlider(v…"
      ]
     },
     "metadata": {},
     "output_type": "display_data"
    }
   ],
   "source": [
    "def graf2(mass,sigma,g):\n",
    "    xini = 0.1\n",
    "    xfin = 1e4\n",
    "    Yini = Yeq(xini,mass,g)\n",
    "    xss = np.linspace(xini,30,1000)\n",
    "    Yfin = 4.3e-10/mass\n",
    "    sol = solve_ivp(SIMPs, [xini,xfin], [Yini,], method='BDF', rtol=1e-8, atol=1e-10, args=(mass,sigma,g))\n",
    "    plt.loglog(sol.t,sol.y[0],label=f'Ωh²={Omega(np.log10(mass),np.log10(sigma),model=SIMPs,g=g):.3}',color='r')\n",
    "    plt.loglog(xss,Yeq(xss,mass,g),color='b',label=r'$Y_{eq}$')\n",
    "    plt.hlines(Yfin,xini,xfin,color='k',linestyle=':')\n",
    "    plt.axhspan(0.9*Yfin,1.1*Yfin,0,1,color='yellow',alpha=0.5)\n",
    "    #plt.ylim(2e-8,1e-2)\n",
    "    plt.title(\"Boltzmann equation for SIMPs\")\n",
    "    plt.xlabel('x')\n",
    "    plt.ylabel('Y')\n",
    "    plt.grid()\n",
    "    plt.legend()\n",
    "    plt.show()\n",
    "    \n",
    "slider_mass = widgets.FloatLogSlider(value=0.975, base=10, min=-3, max=4,\n",
    "                                  step=0.0001, description='mass')\n",
    "slider_sigma = widgets.FloatLogSlider(value=1e3, base=10, min=-3, max=7,\n",
    "                                  step=0.1, description='sigma')\n",
    "slider_g = widgets.FloatSlider(value=1, min=1, max=3,\n",
    "                                  step=1, description='g')\n",
    "# Crea la función interactiva\n",
    "\n",
    "interactive_plot2 = interactive(graf2, mass=slider_mass, sigma=slider_sigma, g=slider_g,\n",
    "                                continuous_update=0)\n",
    "\n",
    "# Muestra la función interactiva\n",
    "interactive_plot2"
   ]
  },
  {
   "cell_type": "code",
   "execution_count": 34,
   "metadata": {},
   "outputs": [],
   "source": [
    "bound_m_S = (-4,3)\n",
    "bound_sigma_S = (-3,8)"
   ]
  },
  {
   "cell_type": "code",
   "execution_count": 35,
   "metadata": {},
   "outputs": [
    {
     "ename": "NameError",
     "evalue": "name 'obtain_optimal_params' is not defined",
     "output_type": "error",
     "traceback": [
      "\u001b[0;31m---------------------------------------------------------------------------\u001b[0m",
      "\u001b[0;31mNameError\u001b[0m                                 Traceback (most recent call last)",
      "Cell \u001b[0;32mIn[35], line 5\u001b[0m\n\u001b[1;32m      3\u001b[0m \u001b[38;5;28;01melse\u001b[39;00m:\n\u001b[1;32m      4\u001b[0m     path_SIMP \u001b[38;5;241m=\u001b[39m \u001b[38;5;124m'\u001b[39m\u001b[38;5;124mhttps://raw.githubusercontent.com/SantiagoJulioD/Trabajo_de_grado/refs/heads/main/Relic_density/optimal_params_SIMPs.csv\u001b[39m\u001b[38;5;124m'\u001b[39m\n\u001b[0;32m----> 5\u001b[0m     df_SIMP \u001b[38;5;241m=\u001b[39m obtain_optimal_params(WIMPs,bound_m,bound_sigma,g,descan\u001b[38;5;241m=\u001b[39m\u001b[38;5;28;01mFalse\u001b[39;00m,path\u001b[38;5;241m=\u001b[39mpath_SIMP)\n",
      "\u001b[0;31mNameError\u001b[0m: name 'obtain_optimal_params' is not defined"
     ]
    }
   ],
   "source": [
    "if scan:\n",
    "    df_SIMP = obtain_optimal_params(SIMPs,bound_m_S,bound_sigma_S,g,descan=scan)\n",
    "else:\n",
    "    path_SIMP = 'https://raw.githubusercontent.com/SantiagoJulioD/Trabajo_de_grado/refs/heads/main/Relic_density/optimal_params_SIMPs.csv'\n",
    "    df_SIMP = obtain_optimal_params(WIMPs,bound_m,bound_sigma,g,descan=False,path=path_SIMP)"
   ]
  },
  {
   "cell_type": "code",
   "execution_count": 36,
   "metadata": {},
   "outputs": [
    {
     "ename": "NameError",
     "evalue": "name 'g' is not defined",
     "output_type": "error",
     "traceback": [
      "\u001b[0;31m---------------------------------------------------------------------------\u001b[0m",
      "\u001b[0;31mNameError\u001b[0m                                 Traceback (most recent call last)",
      "Cell \u001b[0;32mIn[36], line 6\u001b[0m\n\u001b[1;32m      2\u001b[0m sigmas_S \u001b[38;5;241m=\u001b[39m np\u001b[38;5;241m.\u001b[39mlinspace(\u001b[38;5;241m-\u001b[39m\u001b[38;5;241m3\u001b[39m,\u001b[38;5;241m8\u001b[39m)\n\u001b[1;32m      4\u001b[0m Ms_S, Sigmas_S \u001b[38;5;241m=\u001b[39m np\u001b[38;5;241m.\u001b[39mmeshgrid(ms_S,sigmas_S)\n\u001b[0;32m----> 6\u001b[0m Om_SIMP \u001b[38;5;241m=\u001b[39m Omega(Ms_S,Sigmas_S,model\u001b[38;5;241m=\u001b[39mSIMPs,g\u001b[38;5;241m=\u001b[39mg)\n",
      "\u001b[0;31mNameError\u001b[0m: name 'g' is not defined"
     ]
    }
   ],
   "source": [
    "ms_S = np.linspace(-6,3)\n",
    "sigmas_S = np.linspace(-3,8)\n",
    "\n",
    "Ms_S, Sigmas_S = np.meshgrid(ms_S,sigmas_S)\n",
    "\n",
    "Om_SIMP = Omega(Ms_S,Sigmas_S,model=SIMPs,g=g)"
   ]
  },
  {
   "cell_type": "code",
   "execution_count": 37,
   "metadata": {},
   "outputs": [],
   "source": [
    "def Omega0_SIMP(m,sigma,g,const):\n",
    "    alpha = 2*np.pi**2/45*gstar\n",
    "    beta = (np.pi**2/(90*MP**2)*gstar)**0.5\n",
    "    lam = sigma*alpha**2/beta*m**4\n",
    "    k = 0.145*g/gstar\n",
    "    func = lambda xf_: np.exp(-2*xf_)*(k**2*lam*const)-xf_**2\n",
    "    xf = newton(func,10,maxiter=2000)\n",
    "    Yinf = (2/lam)**0.5*xf**2\n",
    "    return Yinf*m*s0/(3*MP**2*(2.13e-42)**2)\n",
    "\n",
    "Omega0_SIMP = np.vectorize(Omega0_SIMP)"
   ]
  },
  {
   "cell_type": "code",
   "execution_count": 38,
   "metadata": {},
   "outputs": [],
   "source": [
    "Om_th_S = Omega0_SIMP(10.**Ms_S,10.**Sigmas_S,2,5)"
   ]
  },
  {
   "cell_type": "code",
   "execution_count": 39,
   "metadata": {},
   "outputs": [
    {
     "ename": "NameError",
     "evalue": "name 'Om_SIMP' is not defined",
     "output_type": "error",
     "traceback": [
      "\u001b[0;31m---------------------------------------------------------------------------\u001b[0m",
      "\u001b[0;31mNameError\u001b[0m                                 Traceback (most recent call last)",
      "Cell \u001b[0;32mIn[39], line 2\u001b[0m\n\u001b[1;32m      1\u001b[0m fig, ax \u001b[38;5;241m=\u001b[39m plt\u001b[38;5;241m.\u001b[39msubplots(figsize\u001b[38;5;241m=\u001b[39m(\u001b[38;5;241m8\u001b[39m,\u001b[38;5;241m6\u001b[39m))\n\u001b[0;32m----> 2\u001b[0m CS \u001b[38;5;241m=\u001b[39m ax\u001b[38;5;241m.\u001b[39mcontourf(Ms_S,Sigmas_S,np\u001b[38;5;241m.\u001b[39mlog10(Om_SIMP),cmap\u001b[38;5;241m=\u001b[39m\u001b[38;5;124m'\u001b[39m\u001b[38;5;124minferno\u001b[39m\u001b[38;5;124m'\u001b[39m,)\n\u001b[1;32m      3\u001b[0m de_scatter \u001b[38;5;241m=\u001b[39m ax\u001b[38;5;241m.\u001b[39mscatter(df_SIMP[\u001b[38;5;124m'\u001b[39m\u001b[38;5;124mlog(m)\u001b[39m\u001b[38;5;124m'\u001b[39m], df_SIMP[\u001b[38;5;124m'\u001b[39m\u001b[38;5;124mlog(sigma*v)\u001b[39m\u001b[38;5;124m'\u001b[39m], s\u001b[38;5;241m=\u001b[39m\u001b[38;5;241m12\u001b[39m, edgecolor\u001b[38;5;241m=\u001b[39m\u001b[38;5;124m'\u001b[39m\u001b[38;5;124m0.05\u001b[39m\u001b[38;5;124m'\u001b[39m,\n\u001b[1;32m      4\u001b[0m                         linewidth\u001b[38;5;241m=\u001b[39m\u001b[38;5;241m0.25\u001b[39m, alpha\u001b[38;5;241m=\u001b[39m\u001b[38;5;241m1.0\u001b[39m, c\u001b[38;5;241m=\u001b[39m\u001b[38;5;124m'\u001b[39m\u001b[38;5;124mlightskyblue\u001b[39m\u001b[38;5;124m'\u001b[39m,label\u001b[38;5;241m=\u001b[39m\u001b[38;5;124m'\u001b[39m\u001b[38;5;124mDifferential evolution\u001b[39m\u001b[38;5;124m'\u001b[39m)\n\u001b[1;32m      5\u001b[0m CSl \u001b[38;5;241m=\u001b[39m ax\u001b[38;5;241m.\u001b[39mcontour(CS,levels\u001b[38;5;241m=\u001b[39m[np\u001b[38;5;241m.\u001b[39mlog10(\u001b[38;5;241m0.12\u001b[39m),],colors\u001b[38;5;241m=\u001b[39m\u001b[38;5;124m'\u001b[39m\u001b[38;5;124mr\u001b[39m\u001b[38;5;124m'\u001b[39m,linestyles\u001b[38;5;241m=\u001b[39m\u001b[38;5;124m'\u001b[39m\u001b[38;5;124msolid\u001b[39m\u001b[38;5;124m'\u001b[39m,linewidths\u001b[38;5;241m=\u001b[39m\u001b[38;5;241m2\u001b[39m)\n",
      "\u001b[0;31mNameError\u001b[0m: name 'Om_SIMP' is not defined"
     ]
    },
    {
     "data": {
      "image/png": "[encoded data removed]",
      "text/plain": [
       "<Figure size 800x600 with 1 Axes>"
      ]
     },
     "metadata": {},
     "output_type": "display_data"
    }
   ],
   "source": [
    "fig, ax = plt.subplots(figsize=(8,6))\n",
    "CS = ax.contourf(Ms_S,Sigmas_S,np.log10(Om_SIMP),cmap='inferno',)\n",
    "de_scatter = ax.scatter(df_SIMP['log(m)'], df_SIMP['log(sigma*v)'], s=12, edgecolor='0.05',\n",
    "                        linewidth=0.25, alpha=1.0, c='lightskyblue',label='Differential evolution')\n",
    "CSl = ax.contour(CS,levels=[np.log10(0.12),],colors='r',linestyles='solid',linewidths=2)\n",
    "CS2l = ax.contour(Ms_S,Sigmas_S,np.log10(Om_th_S),levels=[np.log10(0.12),],colors='yellow')\n",
    "ax.set(xlim=(-4,3))\n",
    "h0,_ = de_scatter.legend_elements(prop='sizes',color=de_scatter.cmap(1.5))\n",
    "h1,_ = CSl.legend_elements()\n",
    "h2,_ = CS2l.legend_elements()\n",
    "cbar = fig.colorbar(CS)\n",
    "cbar.add_lines(CSl)\n",
    "\n",
    "ax.legend([de_scatter]+h1+h2,['Differential evolution','Ωh²=0.12 (numeric)','Ωh²=0.12 (analytic)'])\n",
    "\n",
    "#ax.add_artist(leg2)\n",
    "\n",
    "ax.set_title(r'$\\mathrm{log}(\\Omega h^2)$ SIMPs')\n",
    "#ax.set_ylim((-13,-8))\n",
    "ax.set_xlabel(r'$\\mathrm{log}m$')\n",
    "ax.set_ylabel(r'$\\mathrm{log}\\langle\\sigma v\\rangle$')\n",
    "plt.savefig('omegah2_SIMPs.pdf')\n",
    "plt.show()\n"
   ]
  },
  {
   "cell_type": "code",
   "execution_count": 40,
   "metadata": {},
   "outputs": [
    {
     "ename": "NameError",
     "evalue": "name 'df_SIMP' is not defined",
     "output_type": "error",
     "traceback": [
      "\u001b[0;31m---------------------------------------------------------------------------\u001b[0m",
      "\u001b[0;31mNameError\u001b[0m                                 Traceback (most recent call last)",
      "Cell \u001b[0;32mIn[40], line 3\u001b[0m\n\u001b[1;32m      1\u001b[0m fig, ax \u001b[38;5;241m=\u001b[39m plt\u001b[38;5;241m.\u001b[39msubplots(figsize\u001b[38;5;241m=\u001b[39m(\u001b[38;5;241m8\u001b[39m,\u001b[38;5;241m6\u001b[39m))\n\u001b[1;32m      2\u001b[0m CS \u001b[38;5;241m=\u001b[39m ax\u001b[38;5;241m.\u001b[39mcontourf(Ms_S,Sigmas_S,np\u001b[38;5;241m.\u001b[39mlog10(Om_th_S),cmap\u001b[38;5;241m=\u001b[39m\u001b[38;5;124m'\u001b[39m\u001b[38;5;124minferno\u001b[39m\u001b[38;5;124m'\u001b[39m,)\n\u001b[0;32m----> 3\u001b[0m de_scatter \u001b[38;5;241m=\u001b[39m ax\u001b[38;5;241m.\u001b[39mscatter(df_SIMP[\u001b[38;5;124m'\u001b[39m\u001b[38;5;124mlog(m)\u001b[39m\u001b[38;5;124m'\u001b[39m], df_SIMP[\u001b[38;5;124m'\u001b[39m\u001b[38;5;124mlog(sigma*v)\u001b[39m\u001b[38;5;124m'\u001b[39m], s\u001b[38;5;241m=\u001b[39m\u001b[38;5;241m12\u001b[39m, edgecolor\u001b[38;5;241m=\u001b[39m\u001b[38;5;124m'\u001b[39m\u001b[38;5;124m0.05\u001b[39m\u001b[38;5;124m'\u001b[39m,\n\u001b[1;32m      4\u001b[0m                         linewidth\u001b[38;5;241m=\u001b[39m\u001b[38;5;241m0.25\u001b[39m, alpha\u001b[38;5;241m=\u001b[39m\u001b[38;5;241m1.0\u001b[39m, c\u001b[38;5;241m=\u001b[39m\u001b[38;5;124m'\u001b[39m\u001b[38;5;124mlightskyblue\u001b[39m\u001b[38;5;124m'\u001b[39m,label\u001b[38;5;241m=\u001b[39m\u001b[38;5;124m'\u001b[39m\u001b[38;5;124mDifferential evolution\u001b[39m\u001b[38;5;124m'\u001b[39m)\n\u001b[1;32m      5\u001b[0m CSl \u001b[38;5;241m=\u001b[39m ax\u001b[38;5;241m.\u001b[39mcontour(Ms_S,Sigmas_S,np\u001b[38;5;241m.\u001b[39mlog10(Om_SIMP),levels\u001b[38;5;241m=\u001b[39m[np\u001b[38;5;241m.\u001b[39mlog10(\u001b[38;5;241m0.12\u001b[39m),],colors\u001b[38;5;241m=\u001b[39m\u001b[38;5;124m'\u001b[39m\u001b[38;5;124mr\u001b[39m\u001b[38;5;124m'\u001b[39m,linestyles\u001b[38;5;241m=\u001b[39m\u001b[38;5;124m'\u001b[39m\u001b[38;5;124msolid\u001b[39m\u001b[38;5;124m'\u001b[39m,linewidths\u001b[38;5;241m=\u001b[39m\u001b[38;5;241m2\u001b[39m)\n\u001b[1;32m      6\u001b[0m CS2l \u001b[38;5;241m=\u001b[39m ax\u001b[38;5;241m.\u001b[39mcontour(CS,levels\u001b[38;5;241m=\u001b[39m[np\u001b[38;5;241m.\u001b[39mlog10(\u001b[38;5;241m0.12\u001b[39m),],colors\u001b[38;5;241m=\u001b[39m\u001b[38;5;124m'\u001b[39m\u001b[38;5;124myellow\u001b[39m\u001b[38;5;124m'\u001b[39m)\n",
      "\u001b[0;31mNameError\u001b[0m: name 'df_SIMP' is not defined"
     ]
    },
    {
     "data": {
      "image/png": "[encoded data removed]",
      "text/plain": [
       "<Figure size 800x600 with 1 Axes>"
      ]
     },
     "metadata": {},
     "output_type": "display_data"
    }
   ],
   "source": [
    "fig, ax = plt.subplots(figsize=(8,6))\n",
    "CS = ax.contourf(Ms_S,Sigmas_S,np.log10(Om_th_S),cmap='inferno',)\n",
    "de_scatter = ax.scatter(df_SIMP['log(m)'], df_SIMP['log(sigma*v)'], s=12, edgecolor='0.05',\n",
    "                        linewidth=0.25, alpha=1.0, c='lightskyblue',label='Differential evolution')\n",
    "CSl = ax.contour(Ms_S,Sigmas_S,np.log10(Om_SIMP),levels=[np.log10(0.12),],colors='r',linestyles='solid',linewidths=2)\n",
    "CS2l = ax.contour(CS,levels=[np.log10(0.12),],colors='yellow')\n",
    "ax.set(xlim=(-4,3))\n",
    "h0,_ = de_scatter.legend_elements(prop='sizes',color=de_scatter.cmap(1.5))\n",
    "h1,_ = CSl.legend_elements()\n",
    "h2,_ = CS2l.legend_elements()\n",
    "cbar = fig.colorbar(CS)\n",
    "cbar.add_lines(CSl)\n",
    "\n",
    "ax.legend([de_scatter]+h1+h2,['Differential evolution','Ωh²=0.12 (numeric)','Ωh²=0.12 (analytic)'])\n",
    "\n",
    "#ax.add_artist(leg2)\n",
    "\n",
    "ax.set_title(r'$\\mathrm{log}(\\Omega h^2)$ SIMPs')\n",
    "#ax.set_ylim((-13,-8))\n",
    "ax.set_xlabel(r'$\\mathrm{log}m$')\n",
    "ax.set_ylabel(r'$\\mathrm{log}\\langle\\sigma v\\rangle$')\n",
    "plt.savefig('omegah2_SIMPs_th.pdf')\n",
    "plt.show()\n"
   ]
  },
  {
   "cell_type": "code",
   "execution_count": 42,
   "metadata": {},
   "outputs": [
    {
     "ename": "NameError",
     "evalue": "name 'CSl' is not defined",
     "output_type": "error",
     "traceback": [
      "\u001b[0;31m---------------------------------------------------------------------------\u001b[0m",
      "\u001b[0;31mNameError\u001b[0m                                 Traceback (most recent call last)",
      "Cell \u001b[0;32mIn[42], line 1\u001b[0m\n\u001b[0;32m----> 1\u001b[0m p_S \u001b[38;5;241m=\u001b[39m CSl\u001b[38;5;241m.\u001b[39mcollections[\u001b[38;5;241m0\u001b[39m]\u001b[38;5;241m.\u001b[39mget_paths()[\u001b[38;5;241m0\u001b[39m]\n\u001b[1;32m      2\u001b[0m v_S \u001b[38;5;241m=\u001b[39m p_S\u001b[38;5;241m.\u001b[39mvertices\n\u001b[1;32m      3\u001b[0m v_S \u001b[38;5;241m=\u001b[39m pd\u001b[38;5;241m.\u001b[39mDataFrame(v_S)\n",
      "\u001b[0;31mNameError\u001b[0m: name 'CSl' is not defined"
     ]
    }
   ],
   "source": [
    "p_S = CSl.collections[0].get_paths()[0]\n",
    "v_S = p_S.vertices\n",
    "v_S = pd.DataFrame(v_S)"
   ]
  },
  {
   "cell_type": "code",
   "execution_count": 41,
   "metadata": {},
   "outputs": [
    {
     "ename": "NameError",
     "evalue": "name 'v_S' is not defined",
     "output_type": "error",
     "traceback": [
      "\u001b[0;31m---------------------------------------------------------------------------\u001b[0m",
      "\u001b[0;31mNameError\u001b[0m                                 Traceback (most recent call last)",
      "Cell \u001b[0;32mIn[41], line 3\u001b[0m\n\u001b[1;32m      1\u001b[0m xini \u001b[38;5;241m=\u001b[39m \u001b[38;5;241m0.1\u001b[39m\n\u001b[1;32m      2\u001b[0m xfin \u001b[38;5;241m=\u001b[39m \u001b[38;5;241m1e4\u001b[39m\n\u001b[0;32m----> 3\u001b[0m m_exp, s_exp \u001b[38;5;241m=\u001b[39m v_S[(v_S[\u001b[38;5;241m0\u001b[39m]\u001b[38;5;241m>\u001b[39m\u001b[38;5;241m-\u001b[39m\u001b[38;5;241m0.1\u001b[39m) \u001b[38;5;241m&\u001b[39m (v_S[\u001b[38;5;241m0\u001b[39m]\u001b[38;5;241m<\u001b[39m\u001b[38;5;241m0.1\u001b[39m)]\u001b[38;5;241m.\u001b[39mvalues[\u001b[38;5;241m1\u001b[39m]\n\u001b[1;32m      4\u001b[0m mass \u001b[38;5;241m=\u001b[39m \u001b[38;5;241m10.\u001b[39m\u001b[38;5;241m*\u001b[39m\u001b[38;5;241m*\u001b[39mm_exp\n\u001b[1;32m      5\u001b[0m sigma \u001b[38;5;241m=\u001b[39m \u001b[38;5;241m10.\u001b[39m\u001b[38;5;241m*\u001b[39m\u001b[38;5;241m*\u001b[39ms_exp\n",
      "\u001b[0;31mNameError\u001b[0m: name 'v_S' is not defined"
     ]
    }
   ],
   "source": [
    "xini = 0.1\n",
    "xfin = 1e4\n",
    "m_exp, s_exp = v_S[(v_S[0]>-0.1) & (v_S[0]<0.1)].values[1]\n",
    "mass = 10.**m_exp\n",
    "sigma = 10.**s_exp\n",
    "Yini = Yeq(xini,mass,g)\n",
    "xss = np.linspace(xini,30,1000)\n",
    "Yfin = 4.3e-10/mass\n",
    "sol = solve_ivp(SIMPs, [xini,xfin], [Yini,], method='BDF', rtol=1e-8, atol=1e-10, args=(mass,sigma,g))\n",
    "sol_1 = solve_ivp(SIMPs, [xini,xfin], [Yini,], method='BDF', rtol=1e-8, atol=1e-10, args=(mass,sigma*10,g))\n",
    "sol_2 = solve_ivp(SIMPs, [xini,xfin], [Yini,], method='BDF', rtol=1e-8, atol=1e-10, args=(mass,sigma*100,g))\n",
    "sol_3 = solve_ivp(SIMPs, [xini,xfin], [Yini,], method='BDF', rtol=1e-8, atol=1e-10, args=(mass,sigma/10,g))\n",
    "sol_4 = solve_ivp(SIMPs, [xini,xfin], [Yini,], method='BDF', rtol=1e-8, atol=1e-10, args=(mass,sigma/100,g))\n",
    "plt.loglog(sol_4.t,sol_4.y[0],label=r'$\\log\\langle\\sigma v\\rangle=${s:8.2f}'.format(s=np.log10(sigma)-2),color='darkorange',linestyle='--')\n",
    "plt.loglog(sol_3.t,sol_3.y[0],label=r'$\\log\\langle\\sigma v\\rangle=${s:8.2f}'.format(s=np.log10(sigma)-1),color='orangered',linestyle='--')\n",
    "plt.loglog(sol.t,sol.y[0],label=r'$\\log\\langle\\sigma v\\rangle=${s:8.2f}'.format(s=np.log10(sigma)),color='r')\n",
    "plt.loglog(sol_1.t,sol_1.y[0],label=r'$\\log\\langle\\sigma v\\rangle=${s:8.2f}'.format(s=np.log10(sigma)+1),color='crimson',linestyle='--')\n",
    "plt.loglog(sol_2.t,sol_2.y[0],label=r'$\\log\\langle\\sigma v\\rangle=${s:8.2f}'.format(s=np.log10(sigma)+2),color='deeppink',linestyle='--')\n",
    "plt.loglog(xss,Yeq(xss,mass,g),label=r'$Y_{eq}$',color='b')\n",
    "plt.hlines(Yfin,xini,xfin,color='k',linestyle=':')\n",
    "plt.axhspan(0.9*Yfin,1.1*Yfin,0,1,color='yellow',alpha=0.5)\n",
    "#plt.ylim(2e-8,1e-2)\n",
    "plt.title(f'Boltzmann equation for SIMPs m={mass:.2f} GeV')\n",
    "plt.xlabel('x')\n",
    "plt.ylabel('Y')\n",
    "plt.grid()\n",
    "plt.legend()\n",
    "plt.savefig('Boltzmann_SIMP.pdf')\n",
    "plt.show()"
   ]
  },
  {
   "cell_type": "code",
   "execution_count": null,
   "metadata": {},
   "outputs": [
    {
     "data": {
      "application/vnd.jupyter.widget-view+json": {
       "model_id": "37d6095b75c24fa7968e4fc6966199c4",
       "version_major": 2,
       "version_minor": 0
      },
      "text/plain": [
       "interactive(children=(FloatLogSlider(value=0.001, description='mass', max=2.0, min=-4.0, step=0.0001), FloatLo…"
      ]
     },
     "metadata": {},
     "output_type": "display_data"
    }
   ],
   "source": [
    "def graf3(mass,sigma,g):\n",
    "    xini = 0.1\n",
    "    xfin = 1e4\n",
    "    Yini = Yeq(xini,mass,g)\n",
    "    xss = np.linspace(xini,30,1000)\n",
    "    Yfin = 4.3e-10/mass\n",
    "    sol = solve_ivp(WIMPs_SA, [xini,xfin], [Yini,], method='BDF', rtol=1e-8, atol=1e-10, args=(mass,sigma,g))\n",
    "    plt.loglog(sol.t,sol.y[0],label=f'Ωh²={Omega(np.log10(mass),np.log10(sigma),g=g,model=WIMPs_SA):.3f}',color='r')\n",
    "    plt.loglog(xss,Yeq(xss,mass,g),label=r'$Y_{eq}$',color='b')\n",
    "    plt.hlines(Yfin,xini,xfin,color='k',linestyle=':')\n",
    "    plt.axhspan(0.9*Yfin,1.1*Yfin,0,1,color='yellow',alpha=0.5)\n",
    "    #plt.ylim(2e-8,1e-2)\n",
    "    plt.title(\"Boltzmann equation for WIMPs semi-annihilation\")\n",
    "    plt.xlabel('x')\n",
    "    plt.ylabel('Y')\n",
    "    plt.grid()\n",
    "    plt.legend()\n",
    "    plt.show()\n",
    "    \n",
    "slider_mass = widgets.FloatLogSlider(value=1e-3, base=10, min=-4, max=2,\n",
    "                                  step=0.0001, description='mass')\n",
    "slider_sigma = widgets.FloatLogSlider(value=1e-12, base=10, min=-10, max=-3,\n",
    "                                  step=0.1, description='sigma')\n",
    "slider_g = widgets.FloatSlider(value=2, min=1, max=3,\n",
    "                                  step=1, description='g')\n",
    "# Crea la función interactiva\n",
    "\n",
    "interactive_plot3 = interactive(graf3, mass=slider_mass, sigma=slider_sigma, g=slider_g,\n",
    "                                continuous_update=0)\n",
    "\n",
    "# Muestra la función interactiva\n",
    "interactive_plot3"
   ]
  },
  {
   "cell_type": "code",
   "execution_count": null,
   "metadata": {},
   "outputs": [],
   "source": [
    "bound_m = (-3,3)\n",
    "bound_sigma = (-15,-7)"
   ]
  },
  {
   "cell_type": "code",
   "execution_count": null,
   "metadata": {},
   "outputs": [],
   "source": [
    "ms_Wsa = np.linspace(*bound_m)\n",
    "sigmas_Wsa = np.linspace(*bound_sigma)\n",
    "\n",
    "Ms_Wsa, Sigmas_Wsa = np.meshgrid(ms_Wsa,sigmas_Wsa)\n",
    "Os_Wsa = Omega(Ms_Wsa,Sigmas_Wsa,g=g,model=WIMPs_SA)\n",
    "Os_an_Wsa = Omegah2_analytic(10.**Ms_W,10.**Sigmas_W)"
   ]
  },
  {
   "cell_type": "code",
   "execution_count": null,
   "metadata": {},
   "outputs": [],
   "source": [
    "if scan:\n",
    "    df_WIMPSA = obtain_optimal_params(WIMPs_SA,bound_m,bound_sigma,g,descan=scan)\n",
    "else:\n",
    "    path_WIMPSA = 'https://raw.githubusercontent.com/SantiagoJulioD/Trabajo_de_grado/refs/heads/main/Relic_density/optimal_params_WIMPs_SA.csv'\n",
    "    df_WIMPSA = obtain_optimal_params(WIMPs_SA,bound_m,bound_sigma,g,descan=scan,path=path_WIMPSA)"
   ]
  },
  {
   "cell_type": "code",
   "execution_count": null,
   "metadata": {},
   "outputs": [
    {
     "data": {
      "image/png": "[encoded data removed]",
      "text/plain": [
       "<Figure size 800x600 with 2 Axes>"
      ]
     },
     "metadata": {},
     "output_type": "display_data"
    }
   ],
   "source": [
    "fig, ax = plt.subplots(figsize=(8,6))\n",
    "CS = ax.contourf(Ms_Wsa,Sigmas_Wsa,np.log10(Os_Wsa),cmap='inferno',)\n",
    "de_scatter = ax.scatter(df_WIMPSA['log(m)'], df_WIMPSA['log(sigma*v)'], s=12, edgecolor='0.05',\n",
    "                        linewidth=0.25, alpha=1.0, c='lightskyblue',label='Differential evolution')\n",
    "CSl = ax.contour(CS,levels=[np.log10(0.12),],colors='r',linestyles='solid',linewidths=2)\n",
    "CS2l = ax.contour(Ms_Wsa,Sigmas_Wsa,np.log10(Os_an_Wsa),levels=[np.log10(0.12),],colors='yellow')\n",
    "h0,_ = de_scatter.legend_elements(prop='sizes',color=de_scatter.cmap(1.5))\n",
    "h1,_ = CSl.legend_elements()\n",
    "h2,_ = CS2l.legend_elements()\n",
    "cbar = fig.colorbar(CS)\n",
    "cbar.add_lines(CSl)\n",
    "\n",
    "ax.legend([de_scatter]+h1+h2,['Differential evolution','Ωh²=0.12 (numeric)','Ωh²=0.12 (analytic)'])\n",
    "\n",
    "#ax.add_artist(leg2)\n",
    "\n",
    "ax.set_title(r'$\\mathrm{log}(\\Omega h^2)$ WIMPs semi-annihilation')\n",
    "#ax.set_ylim((-13,-8))\n",
    "ax.set_xlabel(r'$\\mathrm{log}m$')\n",
    "ax.set_ylabel(r'$\\mathrm{log}\\langle\\sigma v\\rangle$')\n",
    "plt.savefig('omegah2_WIMPs_SA.pdf')\n",
    "plt.show()\n"
   ]
  },
  {
   "cell_type": "code",
   "execution_count": null,
   "metadata": {},
   "outputs": [],
   "source": [
    "p_Wsa = CSl.collections[0].get_paths()[0]\n",
    "v_Wsa = p_Wsa.vertices\n",
    "v_Wsa = pd.DataFrame(v_Wsa)"
   ]
  },
  {
   "cell_type": "code",
   "execution_count": null,
   "metadata": {},
   "outputs": [
    {
     "data": {
      "image/png": "[encoded data removed]",
      "text/plain": [
       "<Figure size 640x480 with 1 Axes>"
      ]
     },
     "metadata": {},
     "output_type": "display_data"
    }
   ],
   "source": [
    "xini = 0.1\n",
    "xfin = 1e4\n",
    "m_exp, s_exp = v_Wsa[(v_Wsa[0]>0.4) & (v_Wsa[0]<0.6)].values[0]\n",
    "mass = 10.**m_exp\n",
    "sigma = 10.**s_exp\n",
    "Yini = Yeq(xini,mass,g)\n",
    "xss = np.linspace(xini,30,1000)\n",
    "Yfin = 4.3e-10/mass\n",
    "sol = solve_ivp(WIMPs_SA, [xini,xfin], [Yini,], method='BDF', rtol=1e-8, atol=1e-10, args=(mass,sigma,g))\n",
    "sol_1 = solve_ivp(WIMPs_SA, [xini,xfin], [Yini,], method='BDF', rtol=1e-8, atol=1e-10, args=(mass,sigma*10,g))\n",
    "sol_2 = solve_ivp(WIMPs_SA, [xini,xfin], [Yini,], method='BDF', rtol=1e-8, atol=1e-10, args=(mass,sigma*100,g))\n",
    "sol_3 = solve_ivp(WIMPs_SA, [xini,xfin], [Yini,], method='BDF', rtol=1e-8, atol=1e-10, args=(mass,sigma/10,g))\n",
    "sol_4 = solve_ivp(WIMPs_SA, [xini,xfin], [Yini,], method='BDF', rtol=1e-8, atol=1e-10, args=(mass,sigma/100,g))\n",
    "plt.loglog(sol_4.t,sol_4.y[0],label=r'$\\log\\langle\\sigma v\\rangle=${s:8.2f}'.format(s=np.log10(sigma)-2),color='darkorange',linestyle='--')\n",
    "plt.loglog(sol_3.t,sol_3.y[0],label=r'$\\log\\langle\\sigma v\\rangle=${s:8.2f}'.format(s=np.log10(sigma)-1),color='orangered',linestyle='--')\n",
    "plt.loglog(sol.t,sol.y[0],label=r'$\\log\\langle\\sigma v\\rangle=${s:8.2f}'.format(s=np.log10(sigma)),color='r')\n",
    "plt.loglog(sol_1.t,sol_1.y[0],label=r'$\\log\\langle\\sigma v\\rangle=${s:8.2f}'.format(s=np.log10(sigma)+1),color='crimson',linestyle='--')\n",
    "plt.loglog(sol_2.t,sol_2.y[0],label=r'$\\log\\langle\\sigma v\\rangle=${s:8.2f}'.format(s=np.log10(sigma)+2),color='deeppink',linestyle='--')\n",
    "plt.loglog(xss,Yeq(xss,mass,g),label=r'$Y_{eq}$',color='b')\n",
    "plt.hlines(Yfin,xini,xfin,color='k',linestyle=':')\n",
    "plt.axhspan(0.9*Yfin,1.1*Yfin,0,1,color='yellow',alpha=0.5)\n",
    "#plt.ylim(2e-8,1e-2)\n",
    "plt.title(f'Boltzmann equation for WIMPs semi-annihilation m={mass:.2f} GeV')\n",
    "plt.xlabel('x')\n",
    "plt.ylabel('Y')\n",
    "plt.grid()\n",
    "plt.legend()\n",
    "plt.savefig('Boltzmann_WIMP_SA.pdf')\n",
    "plt.show()"
   ]
  },
  {
   "cell_type": "markdown",
   "metadata": {},
   "source": [
    "### Parameterization of SIMP cross section"
   ]
  },
  {
   "cell_type": "code",
   "execution_count": null,
   "metadata": {},
   "outputs": [],
   "source": [
    "def SIMPs_par(x,Y,mass,alpha,g):\n",
    "    sigma = alpha**3/mass**5\n",
    "    H = (np.pi**2*gstar/90)**0.5*(mass/x)**2/MP\n",
    "    s = 2*np.pi**2/45*gstar*(mass/x)**3\n",
    "    dYdx = -sigma*s**2/(x*H)*(Y**3 - Y**2*Yeq(x,mass,g))\n",
    "    return dYdx"
   ]
  },
  {
   "cell_type": "code",
   "execution_count": null,
   "metadata": {},
   "outputs": [
    {
     "data": {
      "application/vnd.jupyter.widget-view+json": {
       "model_id": "62faea721d094544b84235303452f9a1",
       "version_major": 2,
       "version_minor": 0
      },
      "text/plain": [
       "interactive(children=(FloatLogSlider(value=0.001, description='mass', max=3.0, min=-6.0, step=0.0001), FloatLo…"
      ]
     },
     "metadata": {},
     "output_type": "display_data"
    }
   ],
   "source": [
    "def graf6(mass,alpha,g):\n",
    "    xini = 0.1\n",
    "    xfin = 1e4\n",
    "    Yini = Yeq(xini,mass,g)\n",
    "    xss = np.linspace(xini,30,1000)\n",
    "    Yfin =4.3e-10/mass\n",
    "    sol = solve_ivp(SIMPs_par, [xini,xfin], [Yini,], method='BDF', rtol=1e-8, atol=1e-10, args=(mass,alpha,g))\n",
    "    sigma = alpha**3/mass**5\n",
    "    plt.loglog(sol.t,sol.y[0],label=f'Ωh²={Omega(np.log10(mass),np.log10(sigma),model=SIMPs,g=g)}',color='r')\n",
    "    plt.loglog(xss,Yeq(xss,mass,g),color='b',label=r'$Y_{eq}$')\n",
    "    plt.hlines(Yfin,xini,xfin,color='k',linestyle=':')\n",
    "    plt.axhspan(0.9*Yfin,1.1*Yfin,0,1,color='yellow',alpha=0.5)\n",
    "    plt.title(r\"Parametrization of SIMP's cross section $\\langle\\sigma v\\rangle=\\dfrac{\\alpha^3}{m^5}$\")\n",
    "    plt.xlabel('x')\n",
    "    plt.ylabel('Y')\n",
    "    plt.grid()\n",
    "    plt.legend()\n",
    "    plt.show()\n",
    "\n",
    "    \n",
    "slider_mass = widgets.FloatLogSlider(value=1e-3, base=10, min=-6, max=3,\n",
    "                                  step=0.0001, description='mass')\n",
    "slider_alpha = widgets.FloatLogSlider(value=1e-2, base=10, min=-5, max=0,\n",
    "                                  step=0.1, description='alpha')\n",
    "slider_g = widgets.FloatSlider(value=2, min=1, max=3,\n",
    "                                  step=1, description='g')\n",
    "# Crea la función interactiva\n",
    "\n",
    "interactive_plot6 = interactive(graf6, mass=slider_mass, alpha=slider_alpha, g=slider_g,\n",
    "                                continuous_update=0)\n",
    "\n",
    "# Muestra la función interactiva\n",
    "interactive_plot6"
   ]
  },
  {
   "cell_type": "code",
   "execution_count": null,
   "metadata": {},
   "outputs": [],
   "source": [
    "Omega_par_SIMP = lambda m,alpha: Omega(m,3*alpha-5*m,model=SIMPs,g=g)"
   ]
  },
  {
   "cell_type": "code",
   "execution_count": null,
   "metadata": {},
   "outputs": [],
   "source": [
    "ms = np.linspace(-6,3)\n",
    "alphas = np.linspace(-5,0)\n",
    "\n",
    "Ms, Alphas = np.meshgrid(ms,alphas)"
   ]
  },
  {
   "cell_type": "code",
   "execution_count": null,
   "metadata": {},
   "outputs": [],
   "source": [
    "Om_par_S = Omega_par_SIMP(Ms,Alphas)"
   ]
  },
  {
   "cell_type": "code",
   "execution_count": null,
   "metadata": {},
   "outputs": [
    {
     "data": {
      "image/png": "[encoded data removed]",
      "text/plain": [
       "<Figure size 800x600 with 2 Axes>"
      ]
     },
     "metadata": {},
     "output_type": "display_data"
    }
   ],
   "source": [
    "fig, ax = plt.subplots(figsize=(8,6))\n",
    "CS = ax.contourf(Ms,Alphas,np.log10(Om_par_S),cmap='inferno',)\n",
    "CSl = ax.contour(CS,levels=[np.log10(0.12),],colors='r',linestyles='solid',linewidths=2)\n",
    "ax.set_title(r'$\\mathrm{log}(\\Omega h^2)$')\n",
    "ax.set_xlabel(r'$\\mathrm{log}m$')\n",
    "ax.set_ylabel(r'$\\mathrm{log}\\alpha$')\n",
    "h1,_ = CSl.legend_elements()\n",
    "ax.legend(h1,['Ωh²=0.12'])\n",
    "cbar = fig.colorbar(CS)\n",
    "cbar.add_lines(CSl)"
   ]
  },
  {
   "cell_type": "markdown",
   "metadata": {},
   "source": [
    "$$Y_\\infty=\\sqrt{\\dfrac{2}{\\lambda}}x_f^2$$\n",
    "\n",
    "where $\\lambda=-\\langle\\sigma v^2\\rangle\\dfrac{\\alpha^2}{\\beta}m^4,~\\alpha=\\dfrac{2\\pi^2}{45}g_{\\star S},~\\beta=\\sqrt{\\dfrac{\\pi^2}{90M_P^2}g_\\star}$ and $x_f$ is the solution to $e^{-2x_f}=\\dfrac{x_f^2}{k^2\\lambda c(c+1)^2}$, $k=0.145\\dfrac{g}{g_{\\star S}}$"
   ]
  },
  {
   "cell_type": "markdown",
   "metadata": {},
   "source": [
    "$$\\Omega_{DM}h^2=\\dfrac{Y_0ms_0}{3M_P^2(2.13\\times 10^{-42}\\text{ GeV})^2}$$"
   ]
  },
  {
   "cell_type": "markdown",
   "metadata": {},
   "source": [
    "### Long-lived relativistic particle"
   ]
  },
  {
   "cell_type": "markdown",
   "metadata": {},
   "source": [
    "$$\\begin{align*}\n",
    "\\dfrac{\\mathrm{d}n_\\phi}{\\mathrm{d}t}+3Hn_\\phi&=-\\Gamma_\\phi n_\\phi\\\\\n",
    "\\dfrac{\\mathrm{d}\\rho_R}{\\mathrm{d}t}+4H\\rho_R&=+\\Gamma_\\phi n_\\phi m_\\phi\\\\\n",
    "H&=\\sqrt{\\dfrac{\\rho_R+m_\\phi n_\\phi}{3M_P^2}}\n",
    "\\end{align*}$$\n",
    "\n",
    "Using $R=\\rho_Ra^4$ and $\\Phi=n_\\phi a^3$:\n",
    "\n",
    "$$\\begin{align*}\n",
    "\\dfrac{\\mathrm{d}\\Phi}{\\mathrm{d}t}&=-\\Gamma_\\phi\\Phi\\\\\n",
    "\\dfrac{\\mathrm{d}R}{\\mathrm{d}t}&=\\Gamma_\\phi\\Phi am_\\phi\\\\\n",
    "\\dfrac{\\mathrm{d}a}{\\mathrm{d}t}&=\\sqrt{\\dfrac{R+\\Phi m_\\phi a}{3M_P^2}}a^{-2}\\\\\n",
    "\\end{align*}"
   ]
  },
  {
   "cell_type": "code",
   "execution_count": null,
   "metadata": {},
   "outputs": [],
   "source": [
    "def dVda(a,V,mass,Gamma):\n",
    "    Phi, R = V\n",
    "    H = ((R+Phi*a*mass)/(3*MP**2))**0.5*a**-2\n",
    "    dPhida = -Gamma*Phi/(a*H)\n",
    "    dRda = Gamma*mass*Phi/H\n",
    "    dVda = [dPhida,dRda]\n",
    "    return dVda"
   ]
  },
  {
   "cell_type": "code",
   "execution_count": null,
   "metadata": {},
   "outputs": [],
   "source": [
    "a0 = 1.\n",
    "afin = 1e15\n",
    "V0_rh = [1e15,0.]\n",
    "mass = 10.\n",
    "sol_rh = solve_ivp(dVda,[a0,afin],V0_rh,method='BDF',rtol=1e-8,atol=1e-10,args=(mass,1e-24))\n",
    "\n",
    "rho_R_rh = sol_rh.y[1]*sol_rh.t**-4\n",
    "rho_phi_rh = mass*sol_rh.y[0]*sol_rh.t**-3\n",
    "\n",
    "delta_rho_rh = rho_R_rh-rho_phi_rh\n",
    "\n",
    "for i in range(len(delta_rho_rh)-1):\n",
    "    if delta_rho_rh[i]*delta_rho_rh[i+1]<0:\n",
    "        a_rh = sol_rh.t[i]\n",
    "\n"
   ]
  },
  {
   "cell_type": "code",
   "execution_count": null,
   "metadata": {},
   "outputs": [],
   "source": [
    "T_rh = (30/np.pi**2*1/gstar*sol_rh.y[1]*sol_rh.t**-4)**1/4"
   ]
  },
  {
   "cell_type": "code",
   "execution_count": null,
   "metadata": {},
   "outputs": [
    {
     "data": {
      "image/png": "[encoded data removed]",
      "text/plain": [
       "<Figure size 640x480 with 2 Axes>"
      ]
     },
     "metadata": {},
     "output_type": "display_data"
    }
   ],
   "source": [
    "fig, ax1 = plt.subplots()\n",
    "\n",
    "ax1.loglog(sol_rh.t,rho_phi_rh,color='r',label=r'$\\rho_\\phi$')\n",
    "ax1.loglog(sol_rh.t,rho_R_rh,color='b',label=r'$\\rho_R$')\n",
    "ax1.vlines(a_rh,1e-31,1e18,colors='k',linestyles='dotted')\n",
    "ax1.set_ylabel(r'$\\rho$ [GeV⁴]')\n",
    "ax1.set_xlabel(r'$a$')\n",
    "ax1.set_ylim(1e-31,1e18)\n",
    "ax1.legend()\n",
    "ax1.grid()\n",
    "\n",
    "ax2 = ax1.twinx()\n",
    "\n",
    "ax2.loglog(sol_rh.t,T_rh,'g--',label='T')\n",
    "ax2.set_ylim((1e-28,1e5))\n",
    "ax2.legend(loc='lower right')\n",
    "ax2.set_ylabel(r'$T$ [GeV]')\n",
    "ax2.hlines(mass,1,1e15,linestyles='dotted')\n",
    "plt.show()"
   ]
  },
  {
   "cell_type": "code",
   "execution_count": null,
   "metadata": {},
   "outputs": [],
   "source": [
    "V0_emd = [1.,100]\n",
    "mass = 10\n",
    "sol_emd = solve_ivp(dVda,[a0,afin],V0_emd,method='BDF',rtol=1e-8,atol=1e-10,args=(mass,1e-24))\n",
    "\n",
    "rho_R_emd = sol_emd.y[1]*sol_emd.t**-4\n",
    "rho_phi_emd = mass*sol_emd.y[0]*sol_emd.t**-3\n",
    "\n",
    "delta_rho_emd = rho_R_emd-rho_phi_emd\n",
    "\n",
    "a_emd = []\n",
    "for i in range(len(delta_rho_emd)-1):\n",
    "    if delta_rho_emd[i]*delta_rho_emd[i+1]<0:\n",
    "        a_emd.append(sol_emd.t[i])"
   ]
  },
  {
   "cell_type": "code",
   "execution_count": null,
   "metadata": {},
   "outputs": [],
   "source": [
    "T_emd = (30/np.pi**2*1/gstar*sol_emd.y[1]*sol_emd.t**-4)**1/4"
   ]
  },
  {
   "cell_type": "code",
   "execution_count": null,
   "metadata": {},
   "outputs": [
    {
     "data": {
      "image/png": "[encoded data removed]",
      "text/plain": [
       "<Figure size 640x480 with 2 Axes>"
      ]
     },
     "metadata": {},
     "output_type": "display_data"
    }
   ],
   "source": [
    "fig, ax1 = plt.subplots()\n",
    "\n",
    "ax1.loglog(sol_emd.t,rho_phi_emd,color='r',label=r'$\\rho_\\phi$')\n",
    "ax1.loglog(sol_emd.t,rho_R_emd,color='b',label=r'$\\rho_R$')\n",
    "ax1.vlines(a_emd,1e-31,1e18,colors='k',linestyles='dotted')\n",
    "ax1.set_ylabel(r'$\\rho$ [GeV⁴]')\n",
    "ax1.set_xlabel(r'$a$')\n",
    "ax1.set_ylim(1e-23,1e18)\n",
    "ax1.set_xlim(1,1e8)\n",
    "ax1.legend()\n",
    "ax1.grid()\n",
    "\n",
    "ax2 = ax1.twinx()\n",
    "\n",
    "ax2.loglog(sol_emd.t,T_emd,'g--',label='T')\n",
    "ax2.set_ylim((1e-23,1e5))\n",
    "ax2.legend(loc='lower right')\n",
    "ax2.set_ylabel(r'$T$ [GeV]')\n",
    "ax2.hlines(mass,1,1e15,linestyles='dotted')\n",
    "plt.show()"
   ]
  },
  {
   "cell_type": "markdown",
   "metadata": {},
   "source": [
    "$$\n",
    "\\dfrac{\\mathrm{d}N}{\\mathrm{d}a}=-\\langle\\sigma v\\rangle\\dfrac{N^2-N_{eq}^2}{Ha^4}\n",
    "$$\n",
    "\n",
    "$$\n",
    "N_{eq}=a^3\\dfrac{g}{2\\pi^2}m^2\\dfrac{T_0}{a}K_2\\left(\\dfrac{ma}{T_0}\\right)\n",
    "$$"
   ]
  },
  {
   "cell_type": "code",
   "execution_count": null,
   "metadata": {},
   "outputs": [],
   "source": [
    "def dNda(a,N,mass,sigma,g,T0):\n",
    "    Neq = a**2*g/(2*np.pi**2)*T0*kn(2,mass*a/T0)\n",
    "    H = (np.pi**2*gstar/(90*MP**2))**0.5*(T0/a)**2\n",
    "    dNda = -sigma*(N**2-Neq**2)/(H*a**4)\n",
    "    return dNda"
   ]
  },
  {
   "cell_type": "code",
   "execution_count": null,
   "metadata": {},
   "outputs": [
    {
     "data": {
      "application/vnd.jupyter.widget-view+json": {
       "model_id": "11061854bea54e1ca53e71f9ec13a79b",
       "version_major": 2,
       "version_minor": 0
      },
      "text/plain": [
       "interactive(children=(FloatLogSlider(value=0.001, description='mass', max=3.0, min=-3.0, step=0.0001), FloatLo…"
      ]
     },
     "metadata": {},
     "output_type": "display_data"
    }
   ],
   "source": [
    "def graf7(mass,sigma,g):\n",
    "    aini = 1.\n",
    "    T0 = mass/0.1\n",
    "    afin = 1e10\n",
    "    Nini = g/(2*np.pi**2)*T0*kn(2,mass/T0)\n",
    "    sol = solve_ivp(dNda, [aini,afin], [Nini,], method='BDF', rtol=1e-8, atol=1e-10, args=(mass,sigma,g,T0))\n",
    "    plt.loglog(sol.t,sol.y[0],color='r')\n",
    "    #plt.loglog(xss,Yeq(xss,mass,g),label=r'$Y_{eq}$',color='b')\n",
    "    #plt.hlines(Yfin,xini,xfin,color='k',linestyle=':')\n",
    "    #plt.axhspan(0.9*Yfin,1.1*Yfin,0,1,color='yellow',alpha=0.5)\n",
    "    #plt.ylim(2e-8,1e-2)\n",
    "    plt.title('Boltzmann equation for WIMPs')\n",
    "    plt.xlabel('a')\n",
    "    plt.ylabel('N')\n",
    "    plt.grid()\n",
    "    #plt.legend()\n",
    "    plt.show()\n",
    "    \n",
    "slider_mass = widgets.FloatLogSlider(value=1e-3, base=10, min=-3, max=3,\n",
    "                                  step=0.0001, description='mass')\n",
    "slider_sigma = widgets.FloatLogSlider(value=1e-12, base=10, min=-25, max=-10,\n",
    "                                  step=0.1, description='sigma')\n",
    "slider_g = widgets.FloatSlider(value=2, min=1, max=3,\n",
    "                                  step=1, description='g')\n",
    "# Crea la función interactiva\n",
    "\n",
    "interactive_plot7 = interactive(graf7, mass=slider_mass, sigma=slider_sigma, g=slider_g,\n",
    "                                continuous_update=0)\n",
    "\n",
    "# Muestra la función interactiva\n",
    "interactive_plot7"
   ]
  },
  {
   "cell_type": "code",
   "execution_count": null,
   "metadata": {},
   "outputs": [],
   "source": []
  }
 ],
 "metadata": {
  "kernelspec": {
   "display_name": "Python 3",
   "language": "python",
   "name": "python3"
  },
  "language_info": {
   "codemirror_mode": {
    "name": "ipython",
    "version": 3
   },
   "file_extension": ".py",
   "mimetype": "text/x-python",
   "name": "python",
   "nbconvert_exporter": "python",
   "pygments_lexer": "ipython3",
   "version": "3.10.12"
  }
 },
 "nbformat": 4,
 "nbformat_minor": 2
}
