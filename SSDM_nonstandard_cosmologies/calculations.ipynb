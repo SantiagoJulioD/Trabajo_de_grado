{
 "cells": [
  {
   "cell_type": "code",
   "execution_count": 1,
   "metadata": {},
   "outputs": [],
   "source": [
    "import numpy as np\n",
    "import matplotlib.pyplot as plt\n",
    "from scipy.integrate import quad, solve_ivp\n",
    "from scipy.special import kn\n",
    "import astropy.constants as ct"
   ]
  },
  {
   "cell_type": "code",
   "execution_count": 2,
   "metadata": {},
   "outputs": [],
   "source": [
    "# constants\n",
    "\n",
    "vev = 246 # GeV - Higgs VEV\n",
    "m_h = 125 # GeV - Higgs mass\n",
    "Gamma_h = 4.07e-3 # GeV - total Higgs decay width\n",
    "M_W = 80.377 # GeV - W boson mass\n",
    "M_Z = 91.1876 # GeV - Z boson mass\n",
    "\n",
    "m_e = 0.511e-3 # GeV - electron mass\n",
    "m_muon = 105.66e-3 # GeV - muon mass\n",
    "m_tau = 1.77693 # GeV - tau mass\n",
    "m_u = 2.16e-3 # GeV - up mass\n",
    "m_d = 4.7e-3 # GeV - down mass\n",
    "m_c = 1.273 # GeV - charm mass\n",
    "m_s = 93.5e-3 # GeV - strange mass\n",
    "m_t = 172.57 # GeV - top mass\n",
    "m_b = 4.183 # GeV - bottom mass\n",
    "\n",
    "M_V = [M_W, M_Z]\n",
    "M_f = [m_e,m_muon,m_tau,m_u,m_d,m_c,m_s,m_t,m_b]\n",
    "n_cs = [1,1,1,3,3,3,3,3,3]\n",
    "\n",
    "c_V = [1,1/2]\n",
    "\n",
    "g_V = 3\n",
    "g_f = 2\n",
    "\n",
    "C = 0.349 # no sé qué es esto\n",
    "\n",
    "gstar = 106.75\n",
    "MP = 2.4e18\n",
    "T0 = 2.725*ct.k_B.value/ct.e.value*1e-9\n",
    "gstars0 = 3.91\n",
    "gstar0 = 3.38\n",
    "s0 = 2*np.pi**2/45*gstars0*T0**3\n",
    "gS = 1\n"
   ]
  },
  {
   "cell_type": "code",
   "execution_count": 3,
   "metadata": {},
   "outputs": [],
   "source": [
    "def sigma_V(s,lambda_HS,M_S,m_V):\n",
    "    A = g_V**-2*lambda_HS**2/(32*np.pi*s)\n",
    "    B = ((s-4*M_S**2)/(s-4*m_V**2+0j))**0.5\n",
    "    C = (s**2-4*s*m_V**2+12*m_V**4)/((s-m_h**2)**2+m_h**2*Gamma_h**2)\n",
    "    return (A*B*C).real\n",
    "\n",
    "def sigma_f(s,lambda_HS,M_S,m_f,n_c):\n",
    "    A = (2*n_c)**-2*lambda_HS**2*n_c/(16*np.pi*s)\n",
    "    B = ((s-4*m_f**2)*(s-4*M_S**2+0j))**0.5*m_f**2/((s-m_h**2)**2+m_h**2*Gamma_h**2)\n",
    "    return (A*B).real\n",
    "\n",
    "def sigma_h(s,lambda_HS,M_S):\n",
    "    A = 1/(32*np.pi*s)*((s-4*M_S**2)/(s-4*m_h**2)+0j)**0.5\n",
    "    B = lambda_HS + 3*m_h**2*lambda_HS/(s-m_h**2+1j*m_h*Gamma_h) - 4*vev**2*lambda_HS**2/(s-2*m_h**2)\n",
    "    return (A*(B*B.conjugate())).real\n",
    "\n",
    "def Gamma_hSS(lambda_HS,M_S):\n",
    "    return (lambda_HS**2*vev**2/(32*np.pi*m_h)*(1-4*M_S**2/m_h**2+0j)**0.5).real\n"
   ]
  },
  {
   "cell_type": "code",
   "execution_count": 4,
   "metadata": {},
   "outputs": [],
   "source": [
    "def thermal_average_cs(T,m_S,lambda_HS):\n",
    "    gauge_bosons = 0\n",
    "    fermions = 0\n",
    "    for M in M_V:\n",
    "        factor_V = 4*M/(T*kn(2,M/T)**2)\n",
    "        integrand_V = lambda w: (np.tan(w)**2+1)*(np.tan(w)-1)*np.tan(w)**0.5*sigma_V(4*M**2*np.tan(w),lambda_HS,m_S,M)*kn(1,2*M/T*np.tan(w)**0.5)\n",
    "        integral_V = quad(integrand_V,np.pi/4+1e-5,np.pi/2-1e-5)[0]\n",
    "        gauge_bosons += factor_V*integral_V\n",
    "    for M,n in zip(M_f,n_cs):\n",
    "        factor_f = 4*M/(T*kn(2,M/T)**2)\n",
    "        integrand_f = lambda w: (np.tan(w)**2+1)*(np.tan(w)-1)*np.tan(w)**0.5*sigma_f(4*M**2*np.tan(w),lambda_HS,m_S,M,n)*kn(1,2*M/T*np.tan(w)**0.5)\n",
    "        integral_f = quad(integrand_f,np.pi/4+1e-5,np.pi/2-1e-5)[0]\n",
    "        fermions += factor_f*integral_f\n",
    "    \n",
    "    integrand_h = lambda w: (np.tan(w)**2+1)*(np.tan(w)-1)*np.tan(w)**0.5*sigma_h(4*m_h**2*np.tan(w),lambda_HS,m_S)*kn(1,2*m_h/T*np.tan(w)**0.5)\n",
    "    higgs = 4*m_h/(T*kn(2,m_h/T)**2)*quad(integrand_h,np.pi/4+1e-5,np.pi/2-1e-5)[0]\n",
    "\n",
    "    return gauge_bosons + fermions + higgs\n",
    "\n",
    "def Omegah2(m_S,lambda_HS):\n",
    "    def Boltz_eq(x):\n",
    "        H = (np.pi**2*gstar/90)**0.5*(m_S/x)**2/MP\n",
    "        s = 2*np.pi**2/45*gstar*(m_S/x)**3\n",
    "        def integrand(w):\n",
    "            suma = 0\n",
    "            for M in M_V:\n",
    "                suma += sigma_V(4*m_S**2*np.tan(w),lambda_HS,m_S,M)\n",
    "            for M,n in zip(M_f,n_cs):\n",
    "                suma += sigma_f(4*m_S**2*np.tan(w),lambda_HS,m_S,M,n)\n",
    "            suma += sigma_h(4*m_S**2*np.tan(w),lambda_HS,m_S)\n",
    "            return (np.tan(w)**1.5-np.tan(w)**0.5)/np.cos(w)**2*suma*kn(1,2*x*np.tan(w)**0.5)\n",
    "        integral = quad(integrand,np.pi/4,np.pi/2)[0]\n",
    "        first_term = integral/(H*s)*(gS/(2*np.pi**2))**2*m_S**6/x**2\n",
    "        second_term = C*m_h*m_S/(s*H*x**2)*Gamma_hSS(lambda_HS,m_S)*kn(1,m_h/m_S*x)\n",
    "        return first_term + second_term\n",
    "    Y = quad(Boltz_eq,1e-12,np.inf)[0]\n",
    "    return s0*m_S*Y/(3*MP**2*(2.13e-42)**2)\n",
    "\n",
    "thermal_average_cs = np.vectorize(thermal_average_cs)"
   ]
  },
  {
   "cell_type": "code",
   "execution_count": 5,
   "metadata": {},
   "outputs": [],
   "source": [
    "\n",
    "thermal_average = lambda x,M_S,lambda_HS: thermal_average_cs(M_S/x,M_S,lambda_HS)"
   ]
  },
  {
   "cell_type": "code",
   "execution_count": 6,
   "metadata": {},
   "outputs": [
    {
     "name": "stderr",
     "output_type": "stream",
     "text": [
      "/tmp/ipykernel_7047/585542265.py:10: RuntimeWarning: divide by zero encountered in scalar divide\n",
      "  factor_f = 4*M/(T*kn(2,M/T)**2)\n",
      "/tmp/ipykernel_7047/585542265.py:13: RuntimeWarning: invalid value encountered in scalar multiply\n",
      "  fermions += factor_f*integral_f\n",
      "/tmp/ipykernel_7047/585542265.py:16: RuntimeWarning: divide by zero encountered in scalar divide\n",
      "  higgs = 4*m_h/(T*kn(2,m_h/T)**2)*quad(integrand_h,np.pi/4+1e-5,np.pi/2-1e-5)[0]\n",
      "/tmp/ipykernel_7047/585542265.py:16: RuntimeWarning: invalid value encountered in scalar multiply\n",
      "  higgs = 4*m_h/(T*kn(2,m_h/T)**2)*quad(integrand_h,np.pi/4+1e-5,np.pi/2-1e-5)[0]\n",
      "/tmp/ipykernel_7047/585542265.py:5: RuntimeWarning: divide by zero encountered in scalar divide\n",
      "  factor_V = 4*M/(T*kn(2,M/T)**2)\n",
      "/tmp/ipykernel_7047/585542265.py:8: RuntimeWarning: invalid value encountered in scalar multiply\n",
      "  gauge_bosons += factor_V*integral_V\n"
     ]
    },
    {
     "name": "stdout",
     "output_type": "stream",
     "text": [
      "-15.0 7.381106550234064e-86\n",
      "-14.696969696969697 1.2029364560667837e-84\n",
      "-14.393939393939394 1.960486693270438e-83\n",
      "-14.09090909090909 3.195104824620207e-82\n",
      "-13.787878787878787 5.207224754625218e-81\n",
      "-13.484848484848484 8.486478889907699e-80\n",
      "-13.181818181818182 1.383084605381751e-78\n",
      "-12.878787878787879 2.2540832899718695e-77\n",
      "-12.575757575757576 3.6735941231360886e-76\n",
      "-12.272727272727273 5.987043088238524e-75\n",
      "-11.969696969696969 9.75738846996663e-74\n",
      "-11.666666666666666 1.5902112002645917e-72\n",
      "-11.363636363636363 2.5916480308543075e-71\n",
      "-11.06060606060606 4.22374054132775e-70\n",
      "-10.757575757575758 6.883644672449937e-69\n",
      "-10.454545454545453 1.1218625650157385e-67\n",
      "-10.151515151515152 1.8283564516640203e-66\n",
      "-9.848484848484848 2.9797654530835164e-65\n",
      "-9.545454545454545 4.8562752341365956e-64\n",
      "-9.242424242424242 7.914518615981559e-63\n",
      "-8.93939393939394 1.2898693320015878e-61\n",
      "-8.636363636363637 2.1021656203807352e-60\n",
      "-8.333333333333332 3.4260061743237295e-59\n",
      "-8.030303030303031 5.583536422002894e-58\n",
      "-7.727272727272727 9.09977314379029e-57\n",
      "-7.424242424242424 1.4830362875302231e-55\n",
      "-7.121212121212121 2.4169796269712094e-54\n",
      "-6.818181818181818 3.939074561810108e-53\n",
      "-6.515151515151516 6.419710039232662e-52\n",
      "-6.212121212121211 1.0462527698902653e-50\n",
      "-5.909090909090908 1.7051312663496867e-49\n",
      "-5.6060606060606055 2.7789387469863136e-48\n",
      "-5.303030303030303 4.528975575026998e-47\n",
      "-5.0 7.381088680141664e-46\n",
      "-4.696969696969697 1.202925761966298e-44\n",
      "-4.3939393939393945 1.960423328500971e-43\n",
      "-4.09090909090909 3.1947339496954133e-42\n",
      "-3.787878787878787 5.205087415933542e-41\n",
      "-3.4848484848484844 8.474407976820763e-40\n",
      "-3.1818181818181817 1.376451397584743e-38\n",
      "-2.878787878787879 2.2190180961045606e-37\n",
      "-2.575757575757576 3.4986343165828755e-36\n",
      "-2.2727272727272716 5.189600645442148e-35\n",
      "-1.9696969696969688 6.616601801762868e-34\n",
      "-1.666666666666666 6.0660357237694925e-33\n",
      "-1.3636363636363633 3.1726988687782665e-32\n",
      "-1.0606060606060606 1.1503414408188975e-31\n",
      "-0.7575757575757578 4.677237182601927e-31\n",
      "-0.45454545454545325 1.815652474352456e-30\n",
      "-0.1515151515151505 6.22464946178587e-30\n",
      "0.15151515151515227 1.672933765222385e-29\n",
      "0.45454545454545503 3.283556022265625e-29\n",
      "0.7575757575757578 4.86531042409897e-29\n",
      "1.0606060606060623 6.009090199618084e-29\n",
      "1.3636363636363633 6.744775007028743e-29\n",
      "1.6666666666666679 7.184227201048837e-29\n",
      "1.9696969696969688 7.43633383098672e-29\n",
      "2.2727272727272734 7.607794828492738e-29\n",
      "2.575757575757578 nan\n",
      "2.878787878787879 nan\n",
      "3.1818181818181834 nan\n",
      "3.4848484848484844 nan\n",
      "3.787878787878789 nan\n",
      "4.09090909090909 nan\n",
      "4.3939393939393945 nan\n",
      "4.696969696969699 nan\n",
      "5.0 nan\n",
      "5.3030303030303045 nan\n",
      "5.6060606060606055 nan\n",
      "5.90909090909091 nan\n",
      "6.212121212121211 nan\n",
      "6.515151515151516 nan\n",
      "6.81818181818182 nan\n",
      "7.121212121212121 nan\n",
      "7.424242424242426 nan\n",
      "7.727272727272727 nan\n",
      "8.030303030303031 nan\n",
      "8.333333333333336 nan\n",
      "8.636363636363637 nan\n",
      "8.939393939393941 nan\n",
      "9.242424242424242 nan\n",
      "9.545454545454547 nan\n",
      "9.848484848484848 nan\n",
      "10.151515151515152 nan\n",
      "10.454545454545457 nan\n",
      "10.757575757575758 nan\n",
      "11.060606060606062 nan\n",
      "11.363636363636363 nan\n",
      "11.666666666666668 nan\n",
      "11.969696969696969 nan\n",
      "12.272727272727273 nan\n",
      "12.575757575757578 nan\n",
      "12.878787878787879 nan\n",
      "13.181818181818183 nan\n",
      "13.484848484848484 nan\n",
      "13.787878787878789 nan\n",
      "14.090909090909093 nan\n",
      "14.393939393939394 nan\n",
      "14.696969696969699 nan\n",
      "15.0 nan\n"
     ]
    },
    {
     "data": {
      "text/plain": [
       "[<matplotlib.lines.Line2D at 0x7a4ae2cf8410>]"
      ]
     },
     "execution_count": 6,
     "metadata": {},
     "output_type": "execute_result"
    },
    {
     "data": {
      "image/png": "[encoded data removed]",
      "text/plain": [
       "<Figure size 640x480 with 1 Axes>"
      ]
     },
     "metadata": {},
     "output_type": "display_data"
    }
   ],
   "source": [
    "xs = np.logspace(-15,15,100)\n",
    "sigs = thermal_average(xs,100,1e-11)\n",
    "for i,j in zip(np.log10(xs),sigs):\n",
    "    print(i,j)\n",
    "plt.loglog(xs,sigs)"
   ]
  },
  {
   "cell_type": "code",
   "execution_count": 7,
   "metadata": {},
   "outputs": [
    {
     "data": {
      "text/plain": [
       "4.999233367275083e+164"
      ]
     },
     "execution_count": 7,
     "metadata": {},
     "output_type": "execute_result"
    }
   ],
   "source": [
    "((np.pi/(2*10**2.575757575757578))**0.5*np.exp(-10**2.575757575757578))**-1"
   ]
  },
  {
   "cell_type": "code",
   "execution_count": 8,
   "metadata": {},
   "outputs": [],
   "source": [
    "## solo el canal W+W- -> SS\n",
    "def thermal_average_W(x,m_S,lambda_HS):\n",
    "    factor = 4*x\n",
    "    integrand = lambda w: (np.tan(w)**1.5-np.tan(w)**0.5)/np.cos(w)**2*kn(1,2*x*np.tan(w)**0.5)*sigma_V(4*m_S**2*np.tan(w),lambda_HS,m_S,M_W)\n",
    "    return factor*quad(integrand,np.pi/4,np.pi/2-1e-5)[0]"
   ]
  },
  {
   "cell_type": "code",
   "execution_count": 9,
   "metadata": {},
   "outputs": [],
   "source": [
    "def Omegah2(m_S,lambda_HS):\n",
    "    def Boltz_eq(x):\n",
    "        H = (np.pi**2*gstar/90)**0.5*(m_S/x)**2/MP\n",
    "        s = 2*np.pi**2/45*gstar*(m_S/x)**3\n",
    "        first_term = thermal_average_W(x,m_S,lambda_HS)/(H*s*x)*((gS/(2*np.pi**2))*m_S**3/x)**2\n",
    "        second_term = C*m_h*m_S/(s*H*x**2)*Gamma_hSS(lambda_HS,m_S)*kn(1,m_h/m_S*x)\n",
    "        return first_term + second_term\n",
    "    Y = quad(Boltz_eq,1e-12,1e10)[0]\n",
    "    return s0*m_S*Y/(3*MP**2*(2.13e-42)**2)"
   ]
  },
  {
   "cell_type": "code",
   "execution_count": 10,
   "metadata": {},
   "outputs": [
    {
     "data": {
      "text/plain": [
       "0.0"
      ]
     },
     "execution_count": 10,
     "metadata": {},
     "output_type": "execute_result"
    }
   ],
   "source": [
    "Omegah2(1,1e-10)"
   ]
  },
  {
   "cell_type": "code",
   "execution_count": 11,
   "metadata": {},
   "outputs": [],
   "source": [
    "# Sigma_WW en términos de w\n",
    "\n",
    "def sigma_W(w,M_S,lambda_HS):\n",
    "    A = g_V**-2*lambda_HS**2/(32*np.pi*4*M_W**2*np.tan(w))\n",
    "    B = ((np.tan(w)-M_S**2/M_W**2)/(np.tan(w)-1+0j))**0.5\n",
    "    C = (16*M_W**4*np.tan(w)**2-16*M_W**4*np.tan(w)+12*M_W**4)/((4*M_W**2*np.tan(w)-m_h**2)**2+m_h**2*Gamma_h**2)\n",
    "    return (A*B*C).real\n",
    "\n",
    "def sigma_Z(w,M_S,lambda_HS):\n",
    "    A = g_V**-2*lambda_HS**2/(32*np.pi*4*M_S**2*np.tan(w))\n",
    "    B = ((np.tan(w)-1+0j)/(np.tan(w)-M_Z**2/M_S**2))**0.5\n",
    "    C = (16*M_S**4*np.tan(w)**2-16*M_S**2*M_Z**2+12*M_Z**4)/((4*M_S**2*np.tan(w)-m_h**2)**2+m_h**2*Gamma_h**2)\n",
    "    return A*B*C"
   ]
  },
  {
   "cell_type": "code",
   "execution_count": 12,
   "metadata": {},
   "outputs": [
    {
     "name": "stderr",
     "output_type": "stream",
     "text": [
      "/home/santiago/anaconda3/lib/python3.12/site-packages/matplotlib/cbook.py:1699: ComplexWarning: Casting complex values to real discards the imaginary part\n",
      "  return math.isfinite(val)\n",
      "/home/santiago/anaconda3/lib/python3.12/site-packages/matplotlib/cbook.py:1345: ComplexWarning: Casting complex values to real discards the imaginary part\n",
      "  return np.asarray(x, float)\n"
     ]
    },
    {
     "data": {
      "text/plain": [
       "[<matplotlib.lines.Line2D at 0x7a4ae220f740>]"
      ]
     },
     "execution_count": 12,
     "metadata": {},
     "output_type": "execute_result"
    },
    {
     "data": {
      "image/png": "[encoded data removed]",
      "text/plain": [
       "<Figure size 640x480 with 1 Axes>"
      ]
     },
     "metadata": {},
     "output_type": "display_data"
    }
   ],
   "source": [
    "ws = np.linspace(np.pi/4+1e-5,np.pi/2-1e-5)\n",
    "plt.semilogy(ws,sigma_V(4*M_W**2*np.tan(ws),1e-11,100,M_W))\n",
    "plt.semilogy(ws,sigma_Z(ws,100,1e-11))"
   ]
  },
  {
   "cell_type": "code",
   "execution_count": 13,
   "metadata": {},
   "outputs": [
    {
     "data": {
      "text/plain": [
       "array([0.00000000e+00, 0.00000000e+00, 0.00000000e+00, 0.00000000e+00,\n",
       "       0.00000000e+00, 0.00000000e+00, 0.00000000e+00, 0.00000000e+00,\n",
       "       0.00000000e+00, 0.00000000e+00, 0.00000000e+00, 0.00000000e+00,\n",
       "       0.00000000e+00, 0.00000000e+00, 0.00000000e+00, 0.00000000e+00,\n",
       "       0.00000000e+00, 0.00000000e+00, 0.00000000e+00, 0.00000000e+00,\n",
       "       0.00000000e+00, 0.00000000e+00, 0.00000000e+00, 0.00000000e+00,\n",
       "       0.00000000e+00, 0.00000000e+00, 0.00000000e+00, 0.00000000e+00,\n",
       "       0.00000000e+00, 0.00000000e+00, 0.00000000e+00, 0.00000000e+00,\n",
       "       0.00000000e+00, 0.00000000e+00, 0.00000000e+00, 0.00000000e+00,\n",
       "       0.00000000e+00, 0.00000000e+00, 0.00000000e+00, 0.00000000e+00,\n",
       "       0.00000000e+00, 0.00000000e+00, 0.00000000e+00, 0.00000000e+00,\n",
       "       0.00000000e+00, 0.00000000e+00, 0.00000000e+00, 0.00000000e+00,\n",
       "       0.00000000e+00, 4.27366785e-35])"
      ]
     },
     "execution_count": 13,
     "metadata": {},
     "output_type": "execute_result"
    }
   ],
   "source": [
    "sigma_W(ws,1000,1e-11)"
   ]
  },
  {
   "cell_type": "code",
   "execution_count": 14,
   "metadata": {},
   "outputs": [],
   "source": [
    "def Omegah2(m_S,lambda_HS):\n",
    "    def Boltz_eq(x):\n",
    "        H = (np.pi**2*gstar/90)**0.5*(m_S/x)**2/MP\n",
    "        s = 2*np.pi**2/45*gstar*(m_S/x)**3\n",
    "        suma = 0\n",
    "        for M in M_V:\n",
    "            integrand_V = lambda w: ((np.tan(w)-1)*np.tan(w)**0.5/(np.cos(w)**2)*sigma_V(4*M**2*np.tan(w),lambda_HS,m_S,M)*kn(1,2*M/m_S*np.tan(w)**0.5*x)).real\n",
    "            integ_V = quad(integrand_V,np.pi/4+1e-5,np.pi/2-1e-5)[0]\n",
    "            suma += (3**2/np.pi**4)*m_S*M**5/x*integ_V\n",
    "        for M,n in zip(M_f,n_cs):\n",
    "            integrand_f = lambda w: ((np.tan(w)-1)*np.tan(w)**0.5/(np.cos(w)**2)*sigma_f(4*M**2*np.tan(w),lambda_HS,m_S,M,n)*kn(1,2*M/m_S*np.tan(w)**0.5*x)).real\n",
    "            integ_f = quad(integrand_f,np.pi/4+1e-5,np.pi/2-1e-5)[0]\n",
    "            suma += ((2*n)**2/np.pi**4)*m_S*M**5/x*integ_f\n",
    "        integrand_h = lambda w: ((np.tan(w)-1)*np.tan(w)**0.5/(np.cos(w)**2)*sigma_h(4*M**2*np.tan(w),lambda_HS,m_S)*kn(1,2*m_h/m_S*np.tan(w)**0.5*x)).real\n",
    "        integ_h = quad(integrand_h,np.pi/4+1e-10,np.pi/2-1e-10)[0]\n",
    "        suma += (1**2/np.pi**4)*m_S*m_h**5/x*integ_h\n",
    "\n",
    "        return 1/(H*s*x)*(suma+C*m_h**2*m_S/(2*np.pi**2*x)*Gamma_hSS(lambda_HS,m_S)*kn(1,m_h/m_S*x))\n",
    "\n",
    "    Y = quad(Boltz_eq,0,np.inf)[0]\n",
    "    return s0*m_S*Y/(3*MP**2*(1.45e-42)**2)*0.68**2\n",
    "\n",
    "Omegah2 = np.vectorize(Omegah2)"
   ]
  },
  {
   "cell_type": "code",
   "execution_count": 22,
   "metadata": {},
   "outputs": [
    {
     "data": {
      "text/plain": [
       "2.1323529411764705e-42"
      ]
     },
     "execution_count": 22,
     "metadata": {},
     "output_type": "execute_result"
    }
   ],
   "source": [
    "(0.68/1.45e-42)**-1"
   ]
  },
  {
   "cell_type": "code",
   "execution_count": 15,
   "metadata": {},
   "outputs": [],
   "source": [
    "mm = np.logspace(0,4)\n",
    "ll = np.logspace(-13,-10,20)\n",
    "MM, LL = np.meshgrid(mm,ll)"
   ]
  },
  {
   "cell_type": "code",
   "execution_count": 16,
   "metadata": {},
   "outputs": [
    {
     "data": {
      "text/plain": [
       "1.3665637248024647e+48"
      ]
     },
     "execution_count": 16,
     "metadata": {},
     "output_type": "execute_result"
    }
   ],
   "source": [
    "1.05e1*(ct.hbar.value*ct.c.value/ct.e.value*1e-9)**-3"
   ]
  },
  {
   "cell_type": "code",
   "execution_count": 17,
   "metadata": {},
   "outputs": [
    {
     "data": {
      "text/plain": [
       "array(0.0110515)"
      ]
     },
     "execution_count": 17,
     "metadata": {},
     "output_type": "execute_result"
    }
   ],
   "source": [
    "Omegah2(1,1e-11)"
   ]
  },
  {
   "cell_type": "code",
   "execution_count": 18,
   "metadata": {},
   "outputs": [],
   "source": [
    "OO = Omegah2(MM,LL)"
   ]
  },
  {
   "cell_type": "code",
   "execution_count": 19,
   "metadata": {},
   "outputs": [
    {
     "data": {
      "image/png": "[encoded data removed]",
      "text/plain": [
       "<Figure size 800x600 with 2 Axes>"
      ]
     },
     "metadata": {},
     "output_type": "display_data"
    }
   ],
   "source": [
    "fig, ax = plt.subplots(figsize=(8,6))\n",
    "CS = ax.contourf(np.log10(MM),np.log10(LL),np.log10(OO),cmap='inferno',)\n",
    "CSl = ax.contour(CS,levels=[np.log10(0.12),],colors='red',linestyles='solid',linewidths=2)\n",
    "ax.vlines(np.log10(m_h/2),-13,0)\n",
    "ax.set_ylim(-13,0)\n",
    "cbar = fig.colorbar(CS)\n",
    "cbar.add_lines(CSl)"
   ]
  },
  {
   "cell_type": "code",
   "execution_count": null,
   "metadata": {},
   "outputs": [],
   "source": []
  }
 ],
 "metadata": {
  "kernelspec": {
   "display_name": "base",
   "language": "python",
   "name": "python3"
  },
  "language_info": {
   "codemirror_mode": {
    "name": "ipython",
    "version": 3
   },
   "file_extension": ".py",
   "mimetype": "text/x-python",
   "name": "python",
   "nbconvert_exporter": "python",
   "pygments_lexer": "ipython3",
   "version": "3.12.4"
  }
 },
 "nbformat": 4,
 "nbformat_minor": 2
}
