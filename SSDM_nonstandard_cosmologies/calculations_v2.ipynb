{
 "cells": [
  {
   "cell_type": "code",
   "execution_count": 1,
   "id": "74baecb1",
   "metadata": {},
   "outputs": [],
   "source": [
    "import numpy as np\n",
    "import matplotlib.pyplot as plt\n",
    "from scipy.integrate import quad, solve_ivp\n",
    "from scipy.special import kn\n",
    "import astropy.constants as ct\n",
    "import pandas as pd\n",
    "from scipy.optimize import newton"
   ]
  },
  {
   "cell_type": "code",
   "execution_count": 2,
   "id": "2e4bd0d5",
   "metadata": {},
   "outputs": [],
   "source": [
    "# constants\n",
    "\n",
    "vev = 246 # GeV - Higgs VEV\n",
    "m_h = 125.2 # GeV - Higgs mass\n",
    "Gamma_h = 4.07e-3 # GeV - total Higgs decay width\n",
    "M_W = 80.3692 # GeV - W boson mass\n",
    "M_Z = 91.188 # GeV - Z boson mass\n",
    "\n",
    "m_e = 0.511e-3 # GeV - electron mass\n",
    "m_muon = 105.66e-3 # GeV - muon mass\n",
    "m_tau = 1.77693 # GeV - tau mass\n",
    "m_u = 2.16e-3 # GeV - up mass\n",
    "m_d = 4.7e-3 # GeV - down mass\n",
    "m_c = 1.273 # GeV - charm mass\n",
    "m_s = 93.5e-3 # GeV - strange mass\n",
    "m_t = 172.57 # GeV - top mass\n",
    "m_b = 4.183 # GeV - bottom mass\n",
    "\n",
    "M_V = [M_W, M_Z]\n",
    "M_f = [m_e,m_muon,m_tau,m_u,m_d,m_c,m_s,m_t,m_b]\n",
    "n_cs = [1,1,1,3,3,3,3,3,3]\n",
    "\n",
    "c_V = [1,1/2]\n",
    "\n",
    "g_V = 3\n",
    "g_f = 2\n",
    "\n",
    "C = 0.349 # no sé qué es esto\n",
    "\n",
    "gstar = 106.75\n",
    "MP = 2.4e18\n",
    "T0 = 2.725*ct.k_B.value/ct.e.value*1e-9\n",
    "gstars0 = 3.91\n",
    "gstar0 = 3.38\n",
    "s0 = 2*np.pi**2/45*gstars0*T0**3\n",
    "gS = 1"
   ]
  },
  {
   "cell_type": "code",
   "execution_count": 3,
   "id": "28ae1ce3",
   "metadata": {},
   "outputs": [],
   "source": [
    "SM_particles = pd.DataFrame(index=['h','W','Z','e','mu','tau','u','d','c','s','t','b'])\n",
    "SM_particles['mass'] = np.array([m_h,]+M_V+M_f)\n",
    "SM_particles['spin'] = np.array([0,1,1,0.5,0.5,0.5,0.5,0.5,0.5,0.5,0.5,0.5])\n",
    "SM_particles['n_c'] = np.array([1,1,1,1,1,1,3,3,3,3,3,3])\n",
    "SM_particles['dof'] = 2*SM_particles['spin']+1"
   ]
  },
  {
   "cell_type": "code",
   "execution_count": 4,
   "id": "b443a3dd",
   "metadata": {},
   "outputs": [],
   "source": [
    "def sigma(w,M_S,lambda_HS,initial_particle):\n",
    "    if initial_particle == 'h':\n",
    "        M = SM_particles.loc[initial_particle]['mass']\n",
    "        g = SM_particles.loc[initial_particle]['dof']\n",
    "        A_ = g**-2*lambda_HS**2/(32*M**2*np.pi*np.tan(w))\n",
    "        B_ = ((np.tan(w)-M_S**2/M**2)/(np.tan(w)-1)+0j)**0.5\n",
    "        C_ = ((2*np.tan(w)+1)/(4*np.tan(w)-1))**2\n",
    "        return (A_*B_*C_).real\n",
    "    if SM_particles.loc[initial_particle]['spin'] == 1.:\n",
    "        M = SM_particles.loc[initial_particle]['mass']\n",
    "        g = SM_particles.loc[initial_particle]['dof']\n",
    "        A_ = g**-2*lambda_HS**2*M**2/(32*np.pi*np.tan(w))\n",
    "        B_ = ((np.tan(w)-M_S**2/M**2)/(np.tan(w)-1)+0j)**0.5\n",
    "        C_ = (4*np.tan(w)**2-4*np.tan(w)+3)/((4*M**2*np.tan(w)-m_h**2)**2+m_h**2*Gamma_h**2)\n",
    "        return (A_*B_*C_).real\n",
    "    if SM_particles.loc[initial_particle]['spin'] == 0.5:\n",
    "        M = SM_particles.loc[initial_particle]['mass']\n",
    "        g = SM_particles.loc[initial_particle]['dof']\n",
    "        n = SM_particles.loc[initial_particle]['n_c']\n",
    "        A_ = g**-2*lambda_HS**2*M**2/(16*np.pi*np.tan(w)*n)\n",
    "        B_ = ((np.tan(w)-M_S**2/M**2)*(np.tan(w)-1)+0j)**0.5\n",
    "        C_ = 1/((4*M**2*np.tan(w)-m_h**2)**2+m_h**2*Gamma_h**2)\n",
    "        return (A_*B_*C_).real\n",
    "    \n",
    "def Gamma_hSS(lambda_HS,M_S):\n",
    "    return (lambda_HS**2*vev**2/(32*np.pi*m_h)*(1-4*M_S**2/m_h**2+0j)**0.5).real\n"
   ]
  },
  {
   "cell_type": "code",
   "execution_count": 9,
   "id": "08e6ebdd",
   "metadata": {},
   "outputs": [],
   "source": [
    "def Omegah2(M_S,lambda_HS,channel):\n",
    "    def Boltz_eq(x):\n",
    "        HMS = (np.pi**2*gstar/90)**0.5*M_S**2/MP\n",
    "        sMS = 2*np.pi**2/45*gstar*M_S**3\n",
    "        if channel == 'all':\n",
    "            suma = 0\n",
    "            for part in SM_particles.index:\n",
    "                M = SM_particles.loc[part]['mass']\n",
    "                g = SM_particles.loc[part]['dof']\n",
    "                integrand = lambda w: ((np.tan(w)-1)*np.tan(w)**0.5/(np.cos(w)**2)*sigma(w,M_S,lambda_HS,part)*kn(1,2*M/M_S*np.tan(w)**0.5*x)).real\n",
    "                res = quad(integrand,np.pi/4+1e-5,np.pi/2-1e-5)[0]\n",
    "                suma += (g**2/np.pi**4)*M_S*M**5/x*res\n",
    "    \n",
    "        return x**4/(HMS*sMS)*(suma+C*m_h**2*M_S/(2*np.pi**2*x)*Gamma_hSS(lambda_HS,M_S)*kn(1,m_h/M_S*x))\n",
    "    Y = quad(Boltz_eq,0,np.inf)[0]\n",
    "    return s0*M_S*Y/(3*MP**2*(1.45e-42)**2)*0.68**2\n",
    "\n",
    "Omegah2 = np.vectorize(Omegah2)"
   ]
  },
  {
   "cell_type": "code",
   "execution_count": 14,
   "id": "f7397e58",
   "metadata": {},
   "outputs": [],
   "source": [
    "mm = np.logspace(0,4)\n",
    "ll = np.logspace(-13,-10,10)\n",
    "MM, LL = np.meshgrid(mm,ll)\n"
   ]
  },
  {
   "cell_type": "code",
   "execution_count": 15,
   "id": "16dd9259",
   "metadata": {},
   "outputs": [
    {
     "data": {
      "text/plain": [
       "array(0.1102869)"
      ]
     },
     "execution_count": 15,
     "metadata": {},
     "output_type": "execute_result"
    }
   ],
   "source": [
    "Omegah2(1,10**-10.5,'all')"
   ]
  },
  {
   "cell_type": "code",
   "execution_count": 16,
   "id": "5ddf48d0",
   "metadata": {},
   "outputs": [],
   "source": [
    "OO = Omegah2(MM,LL,'all')"
   ]
  },
  {
   "cell_type": "code",
   "execution_count": 17,
   "id": "15d8a46e",
   "metadata": {},
   "outputs": [
    {
     "data": {
      "image/png": "[encoded data removed]",
      "text/plain": [
       "<Figure size 800x600 with 2 Axes>"
      ]
     },
     "metadata": {},
     "output_type": "display_data"
    }
   ],
   "source": [
    "fig, ax = plt.subplots(figsize=(8,6))\n",
    "CS = ax.contourf(np.log10(MM),np.log10(LL),np.log10(OO),cmap='inferno',)\n",
    "CSl = ax.contour(CS,levels=[np.log10(0.12),],colors='red',linestyles='solid',linewidths=2)\n",
    "ax.vlines(np.log10(m_h/2),-13,-10)\n",
    "cbar = fig.colorbar(CS)\n",
    "cbar.add_lines(CSl)"
   ]
  },
  {
   "cell_type": "code",
   "execution_count": null,
   "id": "87dbfba6",
   "metadata": {},
   "outputs": [],
   "source": []
  }
 ],
 "metadata": {
  "kernelspec": {
   "display_name": "base",
   "language": "python",
   "name": "python3"
  },
  "language_info": {
   "codemirror_mode": {
    "name": "ipython",
    "version": 3
   },
   "file_extension": ".py",
   "mimetype": "text/x-python",
   "name": "python",
   "nbconvert_exporter": "python",
   "pygments_lexer": "ipython3",
   "version": "3.12.4"
  }
 },
 "nbformat": 4,
 "nbformat_minor": 5
}
