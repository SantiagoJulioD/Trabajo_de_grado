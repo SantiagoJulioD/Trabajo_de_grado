{
 "cells": [
  {
   "cell_type": "code",
   "execution_count": 2,
   "id": "d6ff661c",
   "metadata": {},
   "outputs": [],
   "source": [
    "# Imports\n",
    "import numpy as np\n",
    "import matplotlib.pyplot as plt\n",
    "from scipy.integrate import quad, solve_ivp, fixed_quad, simpson\n",
    "from scipy.special import kn\n",
    "import astropy.constants as ct\n",
    "import pandas as pd\n",
    "from scipy.optimize import newton,curve_fit\n",
    "from scipy.interpolate import interp1d\n",
    "from scipy.differentiate import derivative\n",
    "import concurrent.futures"
   ]
  },
  {
   "cell_type": "code",
   "execution_count": 3,
   "id": "9a24c763",
   "metadata": {},
   "outputs": [],
   "source": [
    "# Constants\n",
    "\n",
    "vev = 246 # GeV - Higgs VEV\n",
    "m_h = 125.2 # GeV - Higgs mass\n",
    "Gamma_h = 4.07e-3 # GeV - total Higgs decay width\n",
    "M_W = 80.3692 # GeV - W boson mass\n",
    "M_Z = 91.188 # GeV - Z boson mass\n",
    "\n",
    "m_e = 0.511e-3 # GeV - electron mass\n",
    "m_muon = 105.66e-3 # GeV - muon mass\n",
    "m_tau = 1.77693 # GeV - tau mass\n",
    "m_u = 2.16e-3 # GeV - up mass\n",
    "m_d = 4.7e-3 # GeV - down mass\n",
    "m_c = 1.273 # GeV - charm mass\n",
    "m_s = 93.5e-3 # GeV - strange mass\n",
    "m_t = 172.57 # GeV - top mass\n",
    "m_b = 4.183 # GeV - bottom mass\n",
    "\n",
    "M_V = [M_W, M_Z]\n",
    "M_f = [m_e,m_muon,m_tau,m_u,m_d,m_c,m_s,m_t,m_b]\n",
    "n_cs = [1,1,1,3,3,3,3,3,3]\n",
    "\n",
    "c_V = [1,1/2]\n",
    "\n",
    "g_V = 3\n",
    "g_f = 2\n",
    "\n",
    "# C = 0.349 # no sé qué es esto\n",
    "C = 1 - 5.792e-1 -6.240e-2 - 2.165e-4 - 2.876e-4\n",
    "\n",
    "gstar = 106.75\n",
    "MP = 2.4e18\n",
    "T0 = 2.725*ct.k_B.value/ct.e.value*1e-9\n",
    "gstars0 = 3.91\n",
    "gstar0 = 3.38\n",
    "s0 = 2*np.pi**2/45*gstars0*T0**3\n",
    "rhoc0 = 4.78658e-5*1e6*ct.c.value**3*ct.hbar.value**3/ct.e.value**3*(1e-9)**4 # GeV⁴\n",
    "gS = 1\n",
    "\n",
    "s0mo = 2.8912e9*(ct.c.value/ct.hbar.value*ct.e.value*1e-9)**(-3)\n",
    "rhoc0mo = 10.537*(ct.c.value/ct.hbar.value*ct.e.value*1e-9)**(-3)"
   ]
  },
  {
   "cell_type": "code",
   "execution_count": 4,
   "id": "2efca4fc",
   "metadata": {},
   "outputs": [],
   "source": [
    "# Relativistic degrees of freedom\n",
    "rdof = pd.read_csv('https://raw.githubusercontent.com/SantiagoJulioD/Trabajo_de_grado/refs/heads/main/FIMP_fermion/rdof.csv')\n",
    "rdof.loc[250,'Temp'] = T0\n",
    "rdof['lnTemp'] = np.log(rdof['Temp'])\n",
    "rdof['lnheff'] = np.log(rdof['g_s'])"
   ]
  },
  {
   "cell_type": "code",
   "execution_count": 5,
   "id": "e81fe68f",
   "metadata": {},
   "outputs": [],
   "source": [
    "# SM particles\n",
    "SM_particles = pd.DataFrame(index=['h','W','Z','e','mu','tau','u','d','c','s','t','b'])\n",
    "SM_particles['mass'] = np.array([m_h,]+M_V+M_f)\n",
    "SM_particles['spin'] = np.array([0,1,1,0.5,0.5,0.5,0.5,0.5,0.5,0.5,0.5,0.5])\n",
    "SM_particles['n_c'] = np.array([1,1,1,1,1,1,3,3,3,3,3,3])\n",
    "SM_particles['dof'] = 2*SM_particles['spin']+1\n",
    "SM_particles['antiparticle'] = np.array([0.5,1,0.5,1,1,1,1,1,1,1,1,1])\n",
    "SM_particles['name'] = np.array(['Higgs','W± boson','Z0 boson','electron','muon','tau','up quark','down quark','charm quark','strange quark','top quark','bottom quark'])"
   ]
  },
  {
   "cell_type": "code",
   "execution_count": 6,
   "id": "e9586abb",
   "metadata": {},
   "outputs": [],
   "source": [
    "# RDOF equations\n",
    "heff = interp1d(rdof['Temp'][::-1],rdof['g_s'][::-1],bounds_error=False,fill_value=(rdof['g_s'].values[-1],rdof['g_s'].values[0]))\n",
    "geff = interp1d(rdof['Temp'][::-1],rdof['g_rho'][::-1],bounds_error=False,fill_value=(rdof['g_rho'].values[-1],rdof['g_rho'].values[0]))\n",
    "lnheff = interp1d(rdof['lnTemp'][::-1],rdof['lnheff'][::-1],bounds_error=False,fill_value=(rdof['lnheff'].values[-1],rdof['lnheff'].values[0]))\n",
    "der = derivative(lnheff,rdof['lnTemp']).df\n",
    "dlnheffdlnT = interp1d(rdof['lnTemp'][::-1],der[::-1],bounds_error=False,fill_value=(der[-1],der[0]))"
   ]
  },
  {
   "cell_type": "code",
   "execution_count": 7,
   "id": "4fa9be0d",
   "metadata": {},
   "outputs": [
    {
     "data": {
      "image/png": "[encoded data removed]",
      "text/plain": [
       "<Figure size 640x480 with 1 Axes>"
      ]
     },
     "metadata": {},
     "output_type": "display_data"
    }
   ],
   "source": [
    "# Graph of RDOF\n",
    "der = derivative(lnheff,rdof['lnTemp']).df\n",
    "\n",
    "plt.plot(rdof['lnTemp'],rdof['lnheff'],label=r'$ln(h_{eff})$')\n",
    "plt.plot(rdof['lnTemp'],dlnheffdlnT(rdof['lnTemp']),label=r'$\\dfrac{dln(h_{eff})}{dln(T)}$')\n",
    "plt.xlabel('ln(T)')\n",
    "plt.grid()\n",
    "plt.legend()\n",
    "plt.show()"
   ]
  },
  {
   "cell_type": "code",
   "execution_count": 18,
   "id": "70daff01",
   "metadata": {},
   "outputs": [],
   "source": [
    "def scale_factor(T):\n",
    "    a_int = lambda lnT: (1+1/3*dlnheffdlnT(lnT))\n",
    "    scalefactor = np.exp(quad(a_int,np.log(T),np.log(T0),limit=1000)[0])\n",
    "    return scalefactor\n",
    "scale_factor = np.vectorize(scale_factor)"
   ]
  },
  {
   "cell_type": "code",
   "execution_count": 11,
   "id": "9e855e79",
   "metadata": {},
   "outputs": [],
   "source": [
    "def Gamma_hSS(lambda_HS,M_S):\n",
    "    return (lambda_HS**2*vev**2/(32*np.pi*m_h)*(1-4*M_S**2/m_h**2+0j)**0.5).real"
   ]
  },
  {
   "cell_type": "code",
   "execution_count": 12,
   "id": "618aa348",
   "metadata": {},
   "outputs": [],
   "source": [
    "def dYdT(T,M_S,lambda_HS):\n",
    "    H = (np.pi**2/90*geff(T))**0.5*T**2/MP\n",
    "    const = m_h**2/(2*np.pi**2)*C*Gamma_hSS(lambda_HS,M_S)\n",
    "    func = scale_factor(T)**3/H*const*kn(1,m_h/T)*(1+1/3*dlnheffdlnT(np.log(T)))\n",
    "    return func"
   ]
  },
  {
   "cell_type": "code",
   "execution_count": 28,
   "id": "e975050d",
   "metadata": {},
   "outputs": [
    {
     "name": "stderr",
     "output_type": "stream",
     "text": [
      "/tmp/ipykernel_13495/2642557001.py:3: IntegrationWarning: The occurrence of roundoff error is detected, which prevents \n",
      "  the requested tolerance from being achieved.  The error may be \n",
      "  underestimated.\n",
      "  scalefactor = np.exp(quad(a_int,np.log(T),np.log(T0),limit=1000)[0])\n"
     ]
    }
   ],
   "source": [
    "TR = 1e6\n",
    "Ts = np.logspace(np.log10(T0),np.log10(TR),100)\n",
    "Ip = 0\n",
    "for i in range(len(Ts)-1):\n",
    "    Ip += quad(dYdT,Ts[i],Ts[i+1],args=(1,1e-11))[0]"
   ]
  },
  {
   "cell_type": "code",
   "execution_count": 32,
   "id": "35bf27f8",
   "metadata": {},
   "outputs": [
    {
     "name": "stderr",
     "output_type": "stream",
     "text": [
      "/tmp/ipykernel_13495/2642557001.py:3: IntegrationWarning: The occurrence of roundoff error is detected, which prevents \n",
      "  the requested tolerance from being achieved.  The error may be \n",
      "  underestimated.\n",
      "  scalefactor = np.exp(quad(a_int,np.log(T),np.log(T0),limit=1000)[0])\n"
     ]
    },
    {
     "data": {
      "text/plain": [
       "[<matplotlib.lines.Line2D at 0x7fdf16adc530>]"
      ]
     },
     "execution_count": 32,
     "metadata": {},
     "output_type": "execute_result"
    },
    {
     "data": {
      "image/png": "[encoded data removed]",
      "text/plain": [
       "<Figure size 640x480 with 1 Axes>"
      ]
     },
     "metadata": {},
     "output_type": "display_data"
    }
   ],
   "source": [
    "plt.loglog(Ts,dYdT(Ts,1,1e-11))"
   ]
  },
  {
   "cell_type": "code",
   "execution_count": null,
   "id": "c11572ff",
   "metadata": {},
   "outputs": [],
   "source": [
    "def Boltz_eq(x,M_S,lambda_HS):\n",
    "    HMS = (np.pi**2*geff(M_S/x)/90)**0.5*M_S**2/MP\n",
    "    sMS = 2*np.pi**2/45*heff(M_S/x)*M_S**3\n",
    "    exponent_f = lambda u: 1+1/3*dlnheffdlnT(np.log(M_S/u))\n",
    "    x0 = M_S/T0\n",
    "    exponent = quad(exponent_f,np.log(x0),np.log(x),limit=100)[0]\n",
    "    ax = np.exp(exponent)\n",
    "    return s0mo*M_S*x**4/(HMS*sMS)*(C*m_h**2*M_S/(2*np.pi**2*x)*Gamma_hSS(lambda_HS,M_S)*kn(1,m_h/M_S*x))/rhoc0mo"
   ]
  },
  {
   "cell_type": "code",
   "execution_count": 43,
   "id": "461aa896",
   "metadata": {},
   "outputs": [
    {
     "data": {
      "text/plain": [
       "array([1.00000000e-06, 2.14122089e-05, 4.58482690e-04, 9.81712713e-03,\n",
       "       2.10206377e-01, 4.50098286e+00, 9.63759852e+01, 2.06362273e+03,\n",
       "       4.41867209e+04, 9.46135299e+05, 2.02588467e+07, 4.33786657e+08,\n",
       "       9.28833052e+09, 1.98883673e+11, 4.25853876e+12])"
      ]
     },
     "execution_count": 43,
     "metadata": {},
     "output_type": "execute_result"
    }
   ],
   "source": [
    "TR=1e6\n",
    "xs = np.logspace(np.log10(1/TR),np.log10(1/T0),15)\n",
    "xs"
   ]
  },
  {
   "cell_type": "code",
   "execution_count": 44,
   "id": "907e1ab9",
   "metadata": {},
   "outputs": [
    {
     "name": "stdout",
     "output_type": "stream",
     "text": [
      "1.1413986304501638e-17\n",
      "9.406014650295847e-14\n",
      "1.3174861906640187e-08\n",
      "1.361372571145836e-08\n",
      "1.2014120648129682e-10\n",
      "4.737508204134493e-244\n",
      "0.0\n",
      "0.0\n",
      "0.0\n",
      "0.0\n",
      "0.0\n",
      "0.0\n",
      "0.0\n",
      "0.0\n"
     ]
    }
   ],
   "source": [
    "# integral para el decaimiento del Higgs\n",
    "Ip = 0\n",
    "for i in range(len(xs)-1):\n",
    "    I = quad(Boltz_eq,xs[i],xs[i+1],args=(1,1e-11),limit=10000)\n",
    "    Ip += I[0]\n",
    "    print(I[1])"
   ]
  },
  {
   "cell_type": "code",
   "execution_count": 45,
   "id": "0e6a0077",
   "metadata": {},
   "outputs": [],
   "source": [
    "# integral para el decaimiento del Higgs\n",
    "Ip = 0\n",
    "for i in range(len(xs)-1):\n",
    "    x_ = np.linspace(xs[i],xs[i+1],1000)\n",
    "    I = simpson(Boltz_eq(x_,1,1e-11),x_)\n",
    "    Ip += I"
   ]
  },
  {
   "cell_type": "code",
   "execution_count": 46,
   "id": "6d11f6d1",
   "metadata": {},
   "outputs": [
    {
     "data": {
      "text/plain": [
       "0.013634281671602414"
      ]
     },
     "execution_count": 46,
     "metadata": {},
     "output_type": "execute_result"
    }
   ],
   "source": [
    "Ip"
   ]
  },
  {
   "cell_type": "code",
   "execution_count": 59,
   "id": "8942de9c",
   "metadata": {},
   "outputs": [],
   "source": [
    "Ts = np.logspace(np.log10(T0),12,100000)\n",
    "I = simpson(func(Ts),Ts)\n",
    "K = T0**3*m_h**2*C/((np.pi**2/(90*MP**2)*gstar)**0.5*2*np.pi)\n",
    "\n",
    "def coupling(M_S):\n",
    "    den = K*Ip[0]*vev**2/(32*np.pi*m_h*(1-4*M_S**2/m_h**2)**0.5*M_S*(0.68)**2/rhoc0)\n",
    "    return (0.12/den)**0.5"
   ]
  },
  {
   "cell_type": "code",
   "execution_count": null,
   "id": "292ae4a9",
   "metadata": {},
   "outputs": [
    {
     "data": {
      "text/plain": [
       "[<matplotlib.lines.Line2D at 0x766a4a134170>]"
      ]
     },
     "execution_count": 60,
     "metadata": {},
     "output_type": "execute_result"
    },
    {
     "data": {
      "image/png": "[encoded data removed]",
      "text/plain": [
       "<Figure size 640x480 with 1 Axes>"
      ]
     },
     "metadata": {},
     "output_type": "display_data"
    }
   ],
   "source": [
    "Ms = np.logspace(0,np.log10(m_h/2))\n",
    "plt.loglog(Ms,coupling(Ms))"
   ]
  },
  {
   "cell_type": "code",
   "execution_count": null,
   "id": "017616a2",
   "metadata": {},
   "outputs": [],
   "source": []
  }
 ],
 "metadata": {
  "kernelspec": {
   "display_name": "base",
   "language": "python",
   "name": "python3"
  },
  "language_info": {
   "codemirror_mode": {
    "name": "ipython",
    "version": 3
   },
   "file_extension": ".py",
   "mimetype": "text/x-python",
   "name": "python",
   "nbconvert_exporter": "python",
   "pygments_lexer": "ipython3",
   "version": "3.12.4"
  }
 },
 "nbformat": 4,
 "nbformat_minor": 5
}
