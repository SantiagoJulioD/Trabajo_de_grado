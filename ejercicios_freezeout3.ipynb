{
 "cells": [
  {
   "cell_type": "code",
   "execution_count": 1,
   "id": "16e3df7e-feef-4b96-b51c-d7ab9b2452a4",
   "metadata": {
    "tags": []
   },
   "outputs": [],
   "source": [
    "import numpy as np\n",
    "from scipy.integrate import odeint, solve_ivp\n",
    "from scipy.special import kn\n",
    "from scipy.optimize import newton, bisect\n",
    "import matplotlib.pyplot as plt\n",
    "from astropy import constants as ct\n",
    "from ipywidgets import interact,fixed,widgets,interactive\n",
    "import warnings \n",
    "  \n",
    "# Settings the warnings to be ignored \n",
    "warnings.filterwarnings('ignore') "
   ]
  },
  {
   "cell_type": "markdown",
   "id": "35885a94-0283-4399-beee-6f1d2abe98c2",
   "metadata": {},
   "source": [
    "From the Friedmann equation, considering SM radiation domination, the Hubble parameter can be written as:\n",
    "\n",
    "$$\n",
    "H(T)=\\sqrt{\\dfrac{\\rho_R(T)}{3M_P^2}}\n",
    "$$\n",
    "\n",
    "where $\\rho_R(T)$ is given by:\n",
    "\n",
    "$$\n",
    "\\rho_R(T)=\\dfrac{\\pi^2}{30}g_\\star(T)T^4\n",
    "$$\n",
    "\n",
    "with $g_\\star=106.75$ being the relativistic degrees of freedom. Setting the chemical potential equal to zero, the DM number density in equilibrium is:\n",
    "\n",
    "$$n_{eq}(T)=\\dfrac{g_{DM}}{2\\pi^2}m_{DM}^2TK_2\\left(\\dfrac{m_{DM}}{T}\\right)$$\n",
    "\n",
    "The Boltzmann equation can be written in terms of the yield $Y$ as:\n",
    "\n",
    "$$\\dfrac{\\mathrm{d}Y}{\\mathrm{d}x}=-\\dfrac{\\langle\\sigma v\\rangle s}{xH}(Y^2-Y_{eq}^2)$$\n",
    "\n",
    "where $x=m_{DM}/T$, $Y(T)=n(T)/s(T)$, $Y_{eq}=n_{eq}(T)/s(T)$ and $s$ is given by:\n",
    "\n",
    "$$\n",
    "s(T)=\\dfrac{2\\pi^2}{45}g_{\\star s}(T)T^3\n",
    "$$\n",
    "\n",
    "This equation depicts the process $\\mathrm{DM}+\\mathrm{DM}\\to\\mathrm{SM}+\\mathrm{SM}$.\n",
    "\n",
    "The freeze-out time $x_f$ is defined as the $x$ at which $n_{eq}\\langle\\sigma v\\rangle=H$. The expected yield $Y_0$ that is consistent with the observations is given by:\n",
    "\n",
    "$$\n",
    "Y_0=\\dfrac{3M_P^2\\Omega_{DM}h^2(2.13\\times10^{-42}\\text{ GeV})^2}{ms_0}\n",
    "$$\n",
    "\n",
    "with $\\Omega_{DM}h^2\\approx 0.12$."
   ]
  },
  {
   "cell_type": "code",
   "execution_count": 2,
   "id": "399e59cc-959d-4e3f-a1aa-7cd128f77505",
   "metadata": {
    "tags": []
   },
   "outputs": [],
   "source": [
    "gstar = 106.75\n",
    "MP = 2.4e18 #GeV\n",
    "T0 = 2.725*ct.k_B.value/ct.e.value*1e-9\n",
    "abundance = 0.12\n",
    "gstars0 = 3.91\n",
    "gstar0 = 3.38"
   ]
  },
  {
   "cell_type": "code",
   "execution_count": 3,
   "id": "58d1c5cb-31cc-4e37-b205-e1fd46986c2d",
   "metadata": {
    "tags": []
   },
   "outputs": [],
   "source": [
    "def Yeq(x,mass,g):\n",
    "    neq = g/(2*np.pi**2)*mass**3/x*kn(2,x)\n",
    "    s = 2*np.pi**2/45*gstar*(mass/x)**3\n",
    "    return neq/s\n",
    "\n",
    "def WIMPs(x,Y,mass,sigma,g):\n",
    "    H = (np.pi**2*gstar/90)**0.5*(mass/x)**2/MP\n",
    "    s = 2*np.pi**2/45*gstar*(mass/x)**3\n",
    "    dYdx = -sigma*s/(x*H)*(Y**2 - Yeq(x,mass,g)**2)\n",
    "    return dYdx\n",
    "\n",
    "def xf(mass,sigma,g):\n",
    "    func = lambda x: g/(2*np.pi**2)*mass**3/x*kn(2,x)*sigma - (np.pi**2*gstar/90)**0.5*(mass/x)**2/MP\n",
    "    try:\n",
    "        xf = newton(func,2)\n",
    "        return xf\n",
    "    except:\n",
    "        return np.nan\n",
    "\n",
    "def Y0m(mass,sigma,g):\n",
    "    lam = (2*gstars0*np.pi/15)*(10/gstar0)**0.5*mass*sigma*MP\n",
    "    xfo = xf(mass,sigma,g)\n",
    "    return (xfo/lam)*mass\n",
    "    \n",
    "Y0m = np.vectorize(Y0m)"
   ]
  },
  {
   "cell_type": "code",
   "execution_count": 4,
   "id": "1bf87055-eb63-4419-b2a6-c66f5f28c18e",
   "metadata": {
    "tags": []
   },
   "outputs": [],
   "source": [
    "xini = 0.1\n",
    "xfin = 1e4\n",
    "m0 = 100\n",
    "sigma0 = 7e-10\n",
    "g0 = 2\n",
    "Yini = Yeq(xini, m0, g0)\n",
    "sol = solve_ivp(WIMPs, [xini,xfin], [Yini,], method='BDF', rtol=1e-8, atol=1e-10, args=(m0,sigma0,g0))"
   ]
  },
  {
   "cell_type": "code",
   "execution_count": 5,
   "id": "6a40167a-def1-488f-bfe0-44209d05d11d",
   "metadata": {
    "tags": []
   },
   "outputs": [],
   "source": [
    "def sigma_fit(mass,g):\n",
    "    Y = 4.3e-10/mass\n",
    "    func = lambda sigma: 4.3e-10/mass-xf(mass,sigma,g)/(2*gstars0*np.pi/15)*(10/gstar0)**0.5*mass*sigma*MP\n",
    "    sig = newton(func,1e-9)\n",
    "    return sig"
   ]
  },
  {
   "cell_type": "code",
   "execution_count": 6,
   "id": "dcad9b42-1894-4e12-b03a-f7ae0c23a231",
   "metadata": {
    "tags": []
   },
   "outputs": [
    {
     "data": {
      "application/vnd.jupyter.widget-view+json": {
       "model_id": "d152c88b25a9492fb6d71463907ede14",
       "version_major": 2,
       "version_minor": 0
      },
      "text/plain": [
       "interactive(children=(FloatLogSlider(value=0.001, description='mass', max=3.0, min=-3.0, step=0.0001), FloatLo…"
      ]
     },
     "execution_count": 6,
     "metadata": {},
     "output_type": "execute_result"
    }
   ],
   "source": [
    "def graf1(mass,sigma,g):\n",
    "    xini = 0.1\n",
    "    xfin = 1e4\n",
    "    Yini = Yeq(xini,mass,g)\n",
    "    xss = np.linspace(xini,30,1000)\n",
    "    sol = solve_ivp(WIMPs, [xini,xfin], [Yini,], method='BDF', rtol=1e-8, atol=1e-10, args=(mass,sigma,g))\n",
    "    plt.loglog(sol.t,sol.y[0],label=f'Ym={sol.y[0][-1]*mass}')\n",
    "    plt.loglog(xss,Yeq(xss,mass,g))\n",
    "    plt.hlines(4.3e-10/mass,xini,xfin,color='k',linestyle=':')\n",
    "    plt.vlines(xf(mass,sigma,g),2e-8,3e-3,color='r')\n",
    "    #plt.vlines(xf(mass,sigma),2e-8,3e-3,color='g')\n",
    "    #plt.vlines(Yxm(mass,sigma,freezeout=True)[1],2e-8,3e-3,color='g',linestyle=':')\n",
    "    #plt.ylim(2e-8,3e-3)\n",
    "    plt.grid()\n",
    "    plt.legend()\n",
    "    plt.show()\n",
    "    \n",
    "slider_mass = widgets.FloatLogSlider(value=1e-3, base=10, min=-3, max=3,\n",
    "                                  step=0.0001, description='mass')\n",
    "slider_sigma = widgets.FloatLogSlider(value=1e-12, base=10, min=-15, max=-7,\n",
    "                                  step=0.1, description='sigma')\n",
    "slider_g = widgets.FloatSlider(value=2, min=1, max=3,\n",
    "                                  step=1, description='g')\n",
    "# Crea la función interactiva\n",
    "\n",
    "interactive_plot1 = interactive(graf1, mass=slider_mass, sigma=slider_sigma, g=slider_g,\n",
    "                                continuous_update=0)\n",
    "\n",
    "# Muestra la función interactiva\n",
    "interactive_plot1"
   ]
  },
  {
   "cell_type": "code",
   "execution_count": 7,
   "id": "7a896ef1-b55e-4b0c-b71d-ac47d37c6aae",
   "metadata": {
    "tags": []
   },
   "outputs": [],
   "source": [
    "def WIMPs_SA(x,Y,mass,sigma,g):\n",
    "    H = (np.pi**2*gstar/90)**0.5*(mass/x)**2/MP\n",
    "    s = 2*np.pi**2/45*gstar*(mass/x)**3\n",
    "    dYdx = -sigma*s/(x*H)*(Y**2 - Y*Yeq(x,mass,g))\n",
    "    return dYdx\n",
    "\n",
    "def SIMPs(x,Y,mass,sigma,g):\n",
    "    H = (np.pi**2*gstar/90)**0.5*(mass/x)**2/MP\n",
    "    s = 2*np.pi**2/45*gstar*(mass/x)**3\n",
    "    dYdx = -sigma*s**2/(x*H)*(Y**3 - Y**2*Yeq(x,mass,g))\n",
    "    return dYdx"
   ]
  },
  {
   "cell_type": "code",
   "execution_count": 8,
   "id": "bc746f17-b2d3-4b38-92d5-9b3945f33735",
   "metadata": {
    "tags": []
   },
   "outputs": [
    {
     "data": {
      "application/vnd.jupyter.widget-view+json": {
       "model_id": "35851ca65b3648559deb5051e0d9397e",
       "version_major": 2,
       "version_minor": 0
      },
      "text/plain": [
       "interactive(children=(FloatLogSlider(value=0.001, description='mass', max=2.0, min=-4.0, step=0.0001), FloatLo…"
      ]
     },
     "execution_count": 8,
     "metadata": {},
     "output_type": "execute_result"
    }
   ],
   "source": [
    "def graf2(mass,sigma,g):\n",
    "    xini = 0.1\n",
    "    xfin = 1e4\n",
    "    Yini = Yeq(xini,mass,g)\n",
    "    xss = np.linspace(xini,30,1000)\n",
    "    sol = solve_ivp(SIMPs, [xini,xfin], [Yini,], method='BDF', rtol=1e-8, atol=1e-10, args=(mass,sigma,g))\n",
    "    plt.loglog(sol.t,sol.y[0],label=f'Ym={sol.y[0][-1]*mass}')\n",
    "    plt.loglog(xss,Yeq(xss,mass,g))\n",
    "    plt.hlines(4.3e-10/mass,xini,xfin,color='k',linestyle=':')\n",
    "    #plt.vlines(xf(mass,sigma,g),2e-8,3e-3,color='r')\n",
    "    #plt.vlines(xf(mass,sigma),2e-8,3e-3,color='g')\n",
    "    #plt.vlines(Yxm(mass,sigma,freezeout=True)[1],2e-8,3e-3,color='g',linestyle=':')\n",
    "    #plt.ylim(2e-8,3e-3)\n",
    "    plt.grid()\n",
    "    plt.legend()\n",
    "    plt.show()\n",
    "    \n",
    "slider_mass = widgets.FloatLogSlider(value=1e-3, base=10, min=-4, max=2,\n",
    "                                  step=0.0001, description='mass')\n",
    "slider_sigma = widgets.FloatLogSlider(value=1e-12, base=10, min=-10, max=-3,\n",
    "                                  step=0.1, description='sigma')\n",
    "slider_g = widgets.FloatSlider(value=2, min=1, max=3,\n",
    "                                  step=1, description='g')\n",
    "# Crea la función interactiva\n",
    "\n",
    "interactive_plot2 = interactive(graf2, mass=slider_mass, sigma=slider_sigma, g=slider_g,\n",
    "                                continuous_update=0)\n",
    "\n",
    "# Muestra la función interactiva\n",
    "interactive_plot2"
   ]
  },
  {
   "cell_type": "code",
   "execution_count": 9,
   "id": "88a1dc7b-15c6-4830-9fb4-8cfa241e589a",
   "metadata": {
    "tags": []
   },
   "outputs": [
    {
     "data": {
      "application/vnd.jupyter.widget-view+json": {
       "model_id": "b1ec9a2355454dc5a691d1cd5fde949c",
       "version_major": 2,
       "version_minor": 0
      },
      "text/plain": [
       "interactive(children=(FloatLogSlider(value=0.001, description='mass', max=2.0, min=-4.0, step=0.0001), FloatLo…"
      ]
     },
     "execution_count": 9,
     "metadata": {},
     "output_type": "execute_result"
    }
   ],
   "source": [
    "def graf3(mass,sigma,g):\n",
    "    xini = 0.1\n",
    "    xfin = 1e4\n",
    "    Yini = Yeq(xini,mass,g)\n",
    "    xss = np.linspace(xini,30,1000)\n",
    "    sol = solve_ivp(WIMPs_SA, [xini,xfin], [Yini,], method='BDF', rtol=1e-8, atol=1e-10, args=(mass,sigma,g))\n",
    "    plt.loglog(sol.t,sol.y[0],label=f'Ym={sol.y[0][-1]*mass}')\n",
    "    plt.loglog(xss,Yeq(xss,mass,g))\n",
    "    plt.hlines(4.3e-10/mass,xini,xfin,color='k',linestyle=':')\n",
    "    #plt.vlines(xf(mass,sigma,g),2e-8,3e-3,color='r')\n",
    "    #plt.vlines(xf(mass,sigma),2e-8,3e-3,color='g')\n",
    "    #plt.vlines(Yxm(mass,sigma,freezeout=True)[1],2e-8,3e-3,color='g',linestyle=':')\n",
    "    #plt.ylim(2e-8,3e-3)\n",
    "    plt.grid()\n",
    "    plt.legend()\n",
    "    plt.show()\n",
    "    \n",
    "slider_mass = widgets.FloatLogSlider(value=1e-3, base=10, min=-4, max=2,\n",
    "                                  step=0.0001, description='mass')\n",
    "slider_sigma = widgets.FloatLogSlider(value=1e-12, base=10, min=-10, max=-3,\n",
    "                                  step=0.1, description='sigma')\n",
    "slider_g = widgets.FloatSlider(value=2, min=1, max=3,\n",
    "                                  step=1, description='g')\n",
    "# Crea la función interactiva\n",
    "\n",
    "interactive_plot3 = interactive(graf3, mass=slider_mass, sigma=slider_sigma, g=slider_g,\n",
    "                                continuous_update=0)\n",
    "\n",
    "# Muestra la función interactiva\n",
    "interactive_plot3"
   ]
  },
  {
   "cell_type": "code",
   "execution_count": null,
   "id": "a1656edc-b724-4994-a0ae-b4dea7bc28aa",
   "metadata": {},
   "outputs": [],
   "source": []
  }
 ],
 "metadata": {
  "kernelspec": {
   "display_name": "Python 3 (ipykernel)",
   "language": "python",
   "name": "python3"
  },
  "language_info": {
   "codemirror_mode": {
    "name": "ipython",
    "version": 3
   },
   "file_extension": ".py",
   "mimetype": "text/x-python",
   "name": "python",
   "nbconvert_exporter": "python",
   "pygments_lexer": "ipython3",
   "version": "3.11.5"
  }
 },
 "nbformat": 4,
 "nbformat_minor": 5
}
