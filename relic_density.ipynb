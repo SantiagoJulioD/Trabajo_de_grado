{
 "cells": [
  {
   "cell_type": "code",
   "execution_count": 1,
   "metadata": {},
   "outputs": [],
   "source": [
    "import time\n",
    "import numpy as np\n",
    "import matplotlib.pyplot as plt\n",
    "from scipy.stats import chi2\n",
    "from scipy.optimize import differential_evolution, newton\n",
    "from scipy.integrate import odeint, solve_ivp\n",
    "from scipy.special import kn\n",
    "from astropy import constants as ct\n",
    "import pandas as pd\n",
    "from ipywidgets import interact,fixed,widgets,interactive\n",
    "import warnings \n",
    "  \n",
    "# Settings the warnings to be ignored \n",
    "warnings.filterwarnings('ignore') "
   ]
  },
  {
   "cell_type": "code",
   "execution_count": 2,
   "metadata": {},
   "outputs": [],
   "source": [
    "# Confidence level etc\n",
    "alpha = 0.05\n",
    "beta = 1. - alpha\n",
    "critical_chi_sq = chi2.isf(alpha, 2)\n",
    "critical_loglike = 0.5 * critical_chi_sq\n",
    "min_chi_sq = 0."
   ]
  },
  {
   "cell_type": "code",
   "execution_count": 3,
   "metadata": {},
   "outputs": [],
   "source": [
    "# Scan settings\n",
    "n_random_samples = int(1e7)\n",
    "dim = 4\n",
    "min_ = -5.\n",
    "max_ = 5.\n",
    "seed = 127\n"
   ]
  },
  {
   "cell_type": "markdown",
   "metadata": {},
   "source": [
    "Likelihood function $\\propto\\mathcal{N}(\\Omega_{obs},\\Sigma)$. Thus, \n",
    "\n",
    "$$\n",
    "\\chi^2=\\left(\\dfrac{\\Omega-\\Omega_{obs}}{\\Sigma}\\right)^2\n",
    "$$\n",
    "\n",
    "with $\\Omega_{obs}=0.12$ and $\\Sigma=\\sqrt{(0.1\\Omega)^2+(0.001)^2}$"
   ]
  },
  {
   "cell_type": "code",
   "execution_count": 4,
   "metadata": {},
   "outputs": [],
   "source": [
    "Omega_0 = 0.12\n",
    "Sigma_th_rel = 0.1\n",
    "Sigma_0 = 0.001"
   ]
  },
  {
   "cell_type": "code",
   "execution_count": 5,
   "metadata": {},
   "outputs": [],
   "source": [
    "def chi_square(Omega):\n",
    "    \"\"\"\n",
    "    Returns chi² function\n",
    "    \"\"\"\n",
    "    Sigma = ((Sigma_th_rel*Omega)**2+(Sigma_0)**2)**0.5\n",
    "    return ((Omega-Omega_0)/Sigma)**2\n",
    "\n",
    "def loglike(Omega):\n",
    "    \"\"\"\n",
    "    Returns log(L)\n",
    "    \"\"\"\n",
    "    return -0.5*chi_square(Omega)\n",
    "\n",
    "def samples_inside(x, chi_sq):\n",
    "    \"\"\"\n",
    "    @returns Points from within delta chi-squared contour\n",
    "    \"\"\"\n",
    "    delta_chi_sq = chi_sq - min_chi_sq\n",
    "    inside = delta_chi_sq <= critical_chi_sq\n",
    "    return x[:, inside]"
   ]
  },
  {
   "cell_type": "markdown",
   "metadata": {},
   "source": [
    "$$\n",
    "Y_0=\\dfrac{3M_P^2\\Omega_{DM}h^2(2.13\\times10^{-42}\\text{ GeV})^2}{ms_0}\n",
    "$$\n"
   ]
  },
  {
   "cell_type": "markdown",
   "metadata": {},
   "source": [
    "$$\\Omega_{DM}h^2=\\dfrac{Y_0ms_0}{3M_P^2(2.13\\times 10^{-42}\\text{ GeV})^2}$$"
   ]
  },
  {
   "cell_type": "code",
   "execution_count": 6,
   "metadata": {},
   "outputs": [],
   "source": [
    "g = 2\n",
    "gstar = 106.75\n",
    "MP = 2.4e18 #GeV\n",
    "T0 = 2.725*ct.k_B.value/ct.e.value*1e-9\n",
    "abundance = 0.12\n",
    "gstars0 = 3.91\n",
    "gstar0 = 3.38"
   ]
  },
  {
   "cell_type": "code",
   "execution_count": 7,
   "metadata": {},
   "outputs": [],
   "source": [
    "def Yeq(x,mass,g):\n",
    "    neq = g/(2*np.pi**2)*mass**3/x*kn(2,x)\n",
    "    s = 2*np.pi**2/45*gstar*(mass/x)**3\n",
    "    return neq/s\n",
    "\n",
    "def WIMPs(x,Y,mass,sigma,g):\n",
    "    H = (np.pi**2*gstar/90)**0.5*(mass/x)**2/MP\n",
    "    s = 2*np.pi**2/45*gstar*(mass/x)**3\n",
    "    dYdx = -sigma*s/(x*H)*(Y**2 - Yeq(x,mass,g)**2)\n",
    "    return dYdx\n",
    "\n"
   ]
  },
  {
   "cell_type": "code",
   "execution_count": 14,
   "metadata": {},
   "outputs": [],
   "source": [
    "def Omega(m,sigma,g=2):\n",
    "    m = 10.**m\n",
    "    sigma = 10.**sigma\n",
    "    xini = 0.1\n",
    "    xfin = 1e4\n",
    "    Yini = Yeq(xini, m, g)\n",
    "    sol = solve_ivp(WIMPs, [xini,xfin], [Yini,], method='BDF', rtol=1e-8, atol=1e-10, args=(m,sigma,g))\n",
    "    Y0 = sol.y[0][-1]\n",
    "    s0 = 2*np.pi**2/45*gstars0*T0**3\n",
    "    Omegah2 = Y0*m*s0/(3*MP**2*(2.13e-42)**2)\n",
    "    if Omegah2 > 0:\n",
    "        return Omegah2\n",
    "    else:\n",
    "        return 0\n",
    "\n",
    "Omega = np.vectorize(Omega)"
   ]
  },
  {
   "cell_type": "code",
   "execution_count": 16,
   "metadata": {},
   "outputs": [
    {
     "data": {
      "application/vnd.jupyter.widget-view+json": {
       "model_id": "b76df98f419048f09e06477039ad1f84",
       "version_major": 2,
       "version_minor": 0
      },
      "text/plain": [
       "interactive(children=(FloatLogSlider(value=0.001, description='mass', max=3.0, min=-3.0, step=0.0001), FloatLo…"
      ]
     },
     "metadata": {},
     "output_type": "display_data"
    }
   ],
   "source": [
    "def graf1(mass,sigma,g):\n",
    "    xini = 0.1\n",
    "    xfin = 1e4\n",
    "    Yini = Yeq(xini,mass,g)\n",
    "    xss = np.linspace(xini,30,1000)\n",
    "    sol = solve_ivp(WIMPs, [xini,xfin], [Yini,], method='BDF', rtol=1e-8, atol=1e-10, args=(mass,sigma,g))\n",
    "    plt.loglog(sol.t,sol.y[0],label=f'Ωh²={Omega(np.log10(mass),np.log10(sigma))}')\n",
    "    plt.loglog(xss,Yeq(xss,mass,g))\n",
    "    plt.hlines(4.3e-10/mass,xini,xfin,color='k',linestyle=':')\n",
    "    plt.ylim(2e-8,1e-2)\n",
    "    plt.grid()\n",
    "    plt.legend()\n",
    "    plt.show()\n",
    "    \n",
    "slider_mass = widgets.FloatLogSlider(value=1e-3, base=10, min=-3, max=3,\n",
    "                                  step=0.0001, description='mass')\n",
    "slider_sigma = widgets.FloatLogSlider(value=1e-12, base=10, min=-15, max=-7,\n",
    "                                  step=0.1, description='sigma')\n",
    "slider_g = widgets.FloatSlider(value=2, min=1, max=3,\n",
    "                                  step=1, description='g')\n",
    "# Crea la función interactiva\n",
    "\n",
    "interactive_plot1 = interactive(graf1, mass=slider_mass, sigma=slider_sigma, g=slider_g,\n",
    "                                continuous_update=0)\n",
    "\n",
    "# Muestra la función interactiva\n",
    "interactive_plot1"
   ]
  },
  {
   "cell_type": "code",
   "execution_count": 17,
   "metadata": {},
   "outputs": [],
   "source": [
    "def WIMPs_SA(x,Y,mass,sigma,g):\n",
    "    H = (np.pi**2*gstar/90)**0.5*(mass/x)**2/MP\n",
    "    s = 2*np.pi**2/45*gstar*(mass/x)**3\n",
    "    dYdx = -sigma*s/(x*H)*(Y**2 - Y*Yeq(x,mass,g))\n",
    "    return dYdx\n",
    "\n",
    "def SIMPs(x,Y,mass,sigma,g):\n",
    "    H = (np.pi**2*gstar/90)**0.5*(mass/x)**2/MP\n",
    "    s = 2*np.pi**2/45*gstar*(mass/x)**3\n",
    "    dYdx = -sigma*s**2/(x*H)*(Y**3 - Y**2*Yeq(x,mass,g))\n",
    "    return dYdx"
   ]
  },
  {
   "cell_type": "code",
   "execution_count": 21,
   "metadata": {},
   "outputs": [
    {
     "data": {
      "application/vnd.jupyter.widget-view+json": {
       "model_id": "91e41a1a1d584d96958f1afaad2949c2",
       "version_major": 2,
       "version_minor": 0
      },
      "text/plain": [
       "interactive(children=(FloatLogSlider(value=0.001, description='mass', max=2.0, min=-4.0, step=0.0001), FloatLo…"
      ]
     },
     "metadata": {},
     "output_type": "display_data"
    }
   ],
   "source": [
    "def graf2(mass,sigma,g):\n",
    "    xini = 0.1\n",
    "    xfin = 1e4\n",
    "    Yini = Yeq(xini,mass,g)\n",
    "    xss = np.linspace(xini,30,1000)\n",
    "    sol = solve_ivp(SIMPs, [xini,xfin], [Yini,], method='BDF', rtol=1e-8, atol=1e-10, args=(mass,sigma,g))\n",
    "    plt.loglog(sol.t,sol.y[0],label=f'Ωh²={Omega(np.log10(mass),np.log10(sigma))}')\n",
    "    plt.loglog(xss,Yeq(xss,mass,g))\n",
    "    plt.hlines(4.3e-10/mass,xini,xfin,color='k',linestyle=':')\n",
    "    plt.grid()\n",
    "    plt.legend()\n",
    "    plt.show()\n",
    "    \n",
    "slider_mass = widgets.FloatLogSlider(value=1e-3, base=10, min=-4, max=2,\n",
    "                                  step=0.0001, description='mass')\n",
    "slider_sigma = widgets.FloatLogSlider(value=1e-12, base=10, min=-10, max=-3,\n",
    "                                  step=0.1, description='sigma')\n",
    "slider_g = widgets.FloatSlider(value=2, min=1, max=3,\n",
    "                                  step=1, description='g')\n",
    "# Crea la función interactiva\n",
    "\n",
    "interactive_plot2 = interactive(graf2, mass=slider_mass, sigma=slider_sigma, g=slider_g,\n",
    "                                continuous_update=0)\n",
    "\n",
    "# Muestra la función interactiva\n",
    "interactive_plot2"
   ]
  },
  {
   "cell_type": "code",
   "execution_count": 22,
   "metadata": {},
   "outputs": [
    {
     "data": {
      "application/vnd.jupyter.widget-view+json": {
       "model_id": "6c12ffd4b486468ea6525002e57eaa39",
       "version_major": 2,
       "version_minor": 0
      },
      "text/plain": [
       "interactive(children=(FloatLogSlider(value=0.001, description='mass', max=2.0, min=-4.0, step=0.0001), FloatLo…"
      ]
     },
     "metadata": {},
     "output_type": "display_data"
    }
   ],
   "source": [
    "def graf3(mass,sigma,g):\n",
    "    xini = 0.1\n",
    "    xfin = 1e4\n",
    "    Yini = Yeq(xini,mass,g)\n",
    "    xss = np.linspace(xini,30,1000)\n",
    "    sol = solve_ivp(WIMPs_SA, [xini,xfin], [Yini,], method='BDF', rtol=1e-8, atol=1e-10, args=(mass,sigma,g))\n",
    "    plt.loglog(sol.t,sol.y[0],label=f'Ωh²={Omega(np.log10(mass),np.log10(sigma))}')\n",
    "    plt.loglog(xss,Yeq(xss,mass,g))\n",
    "    plt.hlines(4.3e-10/mass,xini,xfin,color='k',linestyle=':')\n",
    "    plt.grid()\n",
    "    plt.legend()\n",
    "    plt.show()\n",
    "    \n",
    "slider_mass = widgets.FloatLogSlider(value=1e-3, base=10, min=-4, max=2,\n",
    "                                  step=0.0001, description='mass')\n",
    "slider_sigma = widgets.FloatLogSlider(value=1e-12, base=10, min=-10, max=-3,\n",
    "                                  step=0.1, description='sigma')\n",
    "slider_g = widgets.FloatSlider(value=2, min=1, max=3,\n",
    "                                  step=1, description='g')\n",
    "# Crea la función interactiva\n",
    "\n",
    "interactive_plot3 = interactive(graf3, mass=slider_mass, sigma=slider_sigma, g=slider_g,\n",
    "                                continuous_update=0)\n",
    "\n",
    "# Muestra la función interactiva\n",
    "interactive_plot3"
   ]
  },
  {
   "cell_type": "code",
   "execution_count": 11,
   "metadata": {},
   "outputs": [],
   "source": [
    "def loglike_pars(P):\n",
    "    m,sigma = P\n",
    "    return loglike(Omega(m,sigma))\n",
    "def chi_square_pars(P):\n",
    "    m,sigma = P\n",
    "    return chi_square(Omega(m,sigma))"
   ]
  },
  {
   "cell_type": "code",
   "execution_count": 13,
   "metadata": {},
   "outputs": [],
   "source": [
    "bound_m = (-3,3)\n",
    "bound_sigma = (-15,-7)"
   ]
  },
  {
   "cell_type": "code",
   "execution_count": 14,
   "metadata": {},
   "outputs": [],
   "source": [
    "def de_scan(round_to_nearest=None):\n",
    "    \"\"\"\n",
    "    @returns Points from within delta chi-squared contour from differential evolution\n",
    "    and number of calls\n",
    "    \"\"\"\n",
    "    bounds = [bound_m,bound_sigma]\n",
    "    x = []\n",
    "    chi_sq = []\n",
    "\n",
    "    def objective(x_):\n",
    "        \"\"\"\n",
    "        @returns Objective for DE that saves chi-squared and parameters\n",
    "        \"\"\"\n",
    "        chi_sq_ = chi_square_pars(x_)\n",
    "        chi_sq.append(chi_sq_)\n",
    "        x.append(x_)\n",
    "        return chi_sq_\n",
    "\n",
    "    differential_evolution(objective, bounds,\n",
    "                           strategy='rand1bin', maxiter=None,\n",
    "                           popsize=50, tol=0.01, mutation=(0.7, 1.99999), recombination=0.15,\n",
    "                           polish=False,seed=seed)\n",
    "\n",
    "    if round_to_nearest is not None:\n",
    "        len_x = len(x)\n",
    "        keep_n = len_x - (len_x % round_to_nearest)\n",
    "        x = x[:keep_n]\n",
    "        chi_sq = chi_sq[:keep_n]\n",
    "\n",
    "    return samples_inside(np.array(x).T, np.array(chi_sq)), len(x)"
   ]
  },
  {
   "cell_type": "code",
   "execution_count": 15,
   "metadata": {},
   "outputs": [
    {
     "data": {
      "text/plain": [
       "1.96517625134483"
      ]
     },
     "execution_count": 15,
     "metadata": {},
     "output_type": "execute_result"
    }
   ],
   "source": [
    "chi_square_pars((2,np.log10(1.26e-9)))"
   ]
  },
  {
   "cell_type": "code",
   "execution_count": 16,
   "metadata": {},
   "outputs": [],
   "source": [
    "ms = np.linspace(*bound_m)\n",
    "sigmas = np.linspace(*bound_sigma)\n",
    "\n",
    "Ms, Sigmas = np.meshgrid(ms,sigmas)\n",
    "Os = Omega(Ms,Sigmas)"
   ]
  },
  {
   "cell_type": "code",
   "execution_count": 49,
   "metadata": {},
   "outputs": [
    {
     "name": "stdout",
     "output_type": "stream",
     "text": [
      "Running de_scan\n",
      "Time =  8975.11249923706\n"
     ]
    },
    {
     "data": {
      "text/plain": [
       "<Figure size 640x480 with 0 Axes>"
      ]
     },
     "metadata": {},
     "output_type": "display_data"
    }
   ],
   "source": [
    "np.random.seed(seed)\n",
    "\n",
    "print('Running de_scan')\n",
    "t0 = time.time()\n",
    "x,calls = de_scan(round_to_nearest=1000)\n",
    "de_time = time.time() - t0\n",
    "print('Time = ', de_time)"
   ]
  },
  {
   "cell_type": "code",
   "execution_count": 64,
   "metadata": {},
   "outputs": [],
   "source": [
    "omegas_chi2 = Omega(x[0],x[1])"
   ]
  },
  {
   "cell_type": "code",
   "execution_count": 119,
   "metadata": {},
   "outputs": [],
   "source": [
    "def Omegah2_analytic(mass,sigma,n=0):\n",
    "    A = np.log(0.038*(n+1)*g/(gstar**0.5)*(8*np.pi)**0.5*MP*mass*sigma)\n",
    "    xf = A-(n+0.5)*np.log(A)\n",
    "    omh = 1.07e9*(n+1)*xf**(n+1)/((gstar/gstar**0.5)*(8*np.pi)**0.5*MP*sigma)\n",
    "    return omh\n",
    "\n",
    "Omegah2_analytic = np.vectorize(Omegah2_analytic)"
   ]
  },
  {
   "cell_type": "code",
   "execution_count": 138,
   "metadata": {},
   "outputs": [
    {
     "name": "stderr",
     "output_type": "stream",
     "text": [
      "/tmp/ipykernel_14614/493708718.py:3: RuntimeWarning: invalid value encountered in log\n",
      "  xf = A-(n+0.5)*np.log(A)\n"
     ]
    }
   ],
   "source": [
    "om_an = Omegah2_analytic(10.**x[0],10.**x[1])\n",
    "Os_an = Omegah2_analytic(10.**Ms,10.**Sigmas)"
   ]
  },
  {
   "cell_type": "code",
   "execution_count": 128,
   "metadata": {},
   "outputs": [
    {
     "data": {
      "text/html": [
       "<div>\n",
       "<style scoped>\n",
       "    .dataframe tbody tr th:only-of-type {\n",
       "        vertical-align: middle;\n",
       "    }\n",
       "\n",
       "    .dataframe tbody tr th {\n",
       "        vertical-align: top;\n",
       "    }\n",
       "\n",
       "    .dataframe thead th {\n",
       "        text-align: right;\n",
       "    }\n",
       "</style>\n",
       "<table border=\"1\" class=\"dataframe\">\n",
       "  <thead>\n",
       "    <tr style=\"text-align: right;\">\n",
       "      <th></th>\n",
       "      <th>log(m)</th>\n",
       "      <th>log(sigma*v)</th>\n",
       "      <th>Omegah2</th>\n",
       "      <th>Omegah2_a</th>\n",
       "      <th>Delta</th>\n",
       "    </tr>\n",
       "  </thead>\n",
       "  <tbody>\n",
       "    <tr>\n",
       "      <th>0</th>\n",
       "      <td>1.438485</td>\n",
       "      <td>-8.757758</td>\n",
       "      <td>0.103633</td>\n",
       "      <td>0.101601</td>\n",
       "      <td>-1.999844</td>\n",
       "    </tr>\n",
       "    <tr>\n",
       "      <th>1</th>\n",
       "      <td>-0.724954</td>\n",
       "      <td>-8.934397</td>\n",
       "      <td>0.115655</td>\n",
       "      <td>0.113749</td>\n",
       "      <td>-1.676004</td>\n",
       "    </tr>\n",
       "    <tr>\n",
       "      <th>2</th>\n",
       "      <td>2.657775</td>\n",
       "      <td>-8.709958</td>\n",
       "      <td>0.097813</td>\n",
       "      <td>0.103617</td>\n",
       "      <td>5.601821</td>\n",
       "    </tr>\n",
       "    <tr>\n",
       "      <th>3</th>\n",
       "      <td>-1.457144</td>\n",
       "      <td>-9.057603</td>\n",
       "      <td>0.133283</td>\n",
       "      <td>0.132317</td>\n",
       "      <td>-0.729898</td>\n",
       "    </tr>\n",
       "    <tr>\n",
       "      <th>4</th>\n",
       "      <td>-0.894794</td>\n",
       "      <td>-8.934397</td>\n",
       "      <td>0.110638</td>\n",
       "      <td>0.110942</td>\n",
       "      <td>0.273684</td>\n",
       "    </tr>\n",
       "    <tr>\n",
       "      <th>...</th>\n",
       "      <td>...</td>\n",
       "      <td>...</td>\n",
       "      <td>...</td>\n",
       "      <td>...</td>\n",
       "      <td>...</td>\n",
       "    </tr>\n",
       "    <tr>\n",
       "      <th>59943</th>\n",
       "      <td>-2.726706</td>\n",
       "      <td>-9.101897</td>\n",
       "      <td>0.115909</td>\n",
       "      <td>0.114842</td>\n",
       "      <td>-0.928885</td>\n",
       "    </tr>\n",
       "    <tr>\n",
       "      <th>59944</th>\n",
       "      <td>-2.815848</td>\n",
       "      <td>-9.100436</td>\n",
       "      <td>0.113492</td>\n",
       "      <td>0.112360</td>\n",
       "      <td>-1.007217</td>\n",
       "    </tr>\n",
       "    <tr>\n",
       "      <th>59945</th>\n",
       "      <td>-1.920078</td>\n",
       "      <td>-9.127031</td>\n",
       "      <td>0.142798</td>\n",
       "      <td>0.141616</td>\n",
       "      <td>-0.834237</td>\n",
       "    </tr>\n",
       "    <tr>\n",
       "      <th>59946</th>\n",
       "      <td>-1.835097</td>\n",
       "      <td>-9.031917</td>\n",
       "      <td>0.118646</td>\n",
       "      <td>0.117465</td>\n",
       "      <td>-1.005568</td>\n",
       "    </tr>\n",
       "    <tr>\n",
       "      <th>59947</th>\n",
       "      <td>-2.630394</td>\n",
       "      <td>-9.098036</td>\n",
       "      <td>0.117173</td>\n",
       "      <td>0.116209</td>\n",
       "      <td>-0.829102</td>\n",
       "    </tr>\n",
       "  </tbody>\n",
       "</table>\n",
       "<p>59948 rows × 5 columns</p>\n",
       "</div>"
      ],
      "text/plain": [
       "         log(m)  log(sigma*v)   Omegah2  Omegah2_a     Delta\n",
       "0      1.438485     -8.757758  0.103633   0.101601 -1.999844\n",
       "1     -0.724954     -8.934397  0.115655   0.113749 -1.676004\n",
       "2      2.657775     -8.709958  0.097813   0.103617  5.601821\n",
       "3     -1.457144     -9.057603  0.133283   0.132317 -0.729898\n",
       "4     -0.894794     -8.934397  0.110638   0.110942  0.273684\n",
       "...         ...           ...       ...        ...       ...\n",
       "59943 -2.726706     -9.101897  0.115909   0.114842 -0.928885\n",
       "59944 -2.815848     -9.100436  0.113492   0.112360 -1.007217\n",
       "59945 -1.920078     -9.127031  0.142798   0.141616 -0.834237\n",
       "59946 -1.835097     -9.031917  0.118646   0.117465 -1.005568\n",
       "59947 -2.630394     -9.098036  0.117173   0.116209 -0.829102\n",
       "\n",
       "[59948 rows x 5 columns]"
      ]
     },
     "execution_count": 128,
     "metadata": {},
     "output_type": "execute_result"
    }
   ],
   "source": [
    "df = pd.DataFrame()\n",
    "df['log(m)'] = pd.Series(x[0])\n",
    "df['log(sigma*v)'] = pd.Series(x[1])\n",
    "df['Omegah2'] = pd.Series(omegas_chi2)\n",
    "df['Omegah2_a'] = pd.Series(om_an)\n",
    "df['Delta'] = (df['Omegah2_a'] - df['Omegah2'])/df['Omegah2_a']*100\n",
    "\n",
    "df.to_csv('optimal_params.csv',index=False)\n",
    "df"
   ]
  },
  {
   "cell_type": "code",
   "execution_count": 129,
   "metadata": {},
   "outputs": [
    {
     "data": {
      "image/png": "[encoded data removed]",
      "text/plain": [
       "<Figure size 1400x600 with 2 Axes>"
      ]
     },
     "metadata": {},
     "output_type": "display_data"
    }
   ],
   "source": [
    "fig, ax = plt.subplots(1,2,figsize=(14,6))\n",
    "\n",
    "hist = ax[0].hist(df['Omegah2'],bins=100)\n",
    "ax[0].vlines(0.12,0,hist[0].max(),color='r')\n",
    "ax[0].axvspan(0.119,0.121,0,hist[0].max(),color='r',alpha=0.5)\n",
    "\n",
    "hist2 = ax[1].hist(df['Delta'],bins=100)"
   ]
  },
  {
   "cell_type": "code",
   "execution_count": 185,
   "metadata": {},
   "outputs": [
    {
     "name": "stdout",
     "output_type": "stream",
     "text": [
      "Plotting de_scan\n"
     ]
    },
    {
     "name": "stderr",
     "output_type": "stream",
     "text": [
      "/tmp/ipykernel_14614/311854025.py:3: RuntimeWarning: divide by zero encountered in log10\n",
      "  CS = ax.contourf(Ms,Sigmas,np.log10(Os),cmap='inferno',)\n"
     ]
    },
    {
     "data": {
      "image/png": "[encoded data removed]",
      "text/plain": [
       "<Figure size 800x600 with 2 Axes>"
      ]
     },
     "metadata": {},
     "output_type": "display_data"
    }
   ],
   "source": [
    "print('Plotting de_scan')\n",
    "fig, ax = plt.subplots(figsize=(8,6))\n",
    "CS = ax.contourf(Ms,Sigmas,np.log10(Os),cmap='inferno',)\n",
    "de_scatter = ax.scatter(x[0], x[1], s=12, edgecolor='0.05',\n",
    "                        linewidth=0.25, alpha=1.0, c='lightskyblue',label='Differential evolution')\n",
    "CSl = ax.contour(CS,levels=[np.log10(0.12),],colors='red',linestyles='solid',linewidths=2)\n",
    "CS2l = ax.contour(Ms,Sigmas,np.log10(Os_an),levels=[np.log10(0.12),],colors='yellow',linestyles='dotted',linewidths=2)\n",
    "cbar = fig.colorbar(CS)\n",
    "\n",
    "ax.legend()\n",
    "\n",
    "h0,_ = de_scatter.legend_elements(prop='sizes',color=de_scatter.cmap(1.5))\n",
    "h1,_ = CSl.legend_elements()\n",
    "h2,_ = CS2l.legend_elements()\n",
    "\n",
    "ax.legend([de_scatter]+h1+h2,['Differential evolution','Ωh²=0.12 (numeric)','Ωh²=0.12 (analytic)'])\n",
    "\n",
    "#ax.add_artist(leg2)\n",
    "\n",
    "ax.set_title(r'$\\mathrm{log}(\\Omega h^2)$')\n",
    "ax.set_ylim((-13,-8))\n",
    "ax.set_xlabel(r'$\\mathrm{log}m$')\n",
    "ax.set_ylabel(r'$\\mathrm{log}\\langle\\sigma v\\rangle$')\n",
    "plt.savefig('omegah2.pdf')\n",
    "plt.show()"
   ]
  },
  {
   "cell_type": "code",
   "execution_count": null,
   "metadata": {},
   "outputs": [],
   "source": []
  }
 ],
 "metadata": {
  "kernelspec": {
   "display_name": "base",
   "language": "python",
   "name": "python3"
  },
  "language_info": {
   "codemirror_mode": {
    "name": "ipython",
    "version": 3
   },
   "file_extension": ".py",
   "mimetype": "text/x-python",
   "name": "python",
   "nbconvert_exporter": "python",
   "pygments_lexer": "ipython3",
   "version": "3.12.4"
  }
 },
 "nbformat": 4,
 "nbformat_minor": 2
}
